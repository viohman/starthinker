{
  "license": "Apache License, Version 2.0",
  "copyright": "Copyright 2018 Google Inc.",
  "nbformat": "4",
  "nbformat_minor": "0",
  "metadata": {
    "colab": {
      "name": "DV360 To BigQuery",
      "provenance": [],
      "collapsed_sections": [],
      "toc_visible": true
    },
    "kernelspec": {
      "name": "python3",
      "display_name": "Python 3"
    }
  },
  "cells": [
    {
      "cell_type": "markdown",
      "metadata": {
        "colab_type": "text"
      },
      "source": [
        "#1. Install Dependencies\n",
        "First install the libraries needed to execute recipes, this only needs to be done once, then click play.\n"
      ]
    },
    {
      "cell_type": "code",
      "metadata": {
        "colab_type": "code"
      },
      "source": [
        "!pip install git+https://github.com/google/starthinker\n"
      ]
    },
    {
      "cell_type": "markdown",
      "metadata": {
        "colab_type": "text"
      },
      "source": [
        "#2. Get Cloud Project ID\n",
        "To run this recipe [requires a Google Cloud Project](https://github.com/google/starthinker/blob/master/tutorials/cloud_project.md), this only needs to be done once, then click play.\n"
      ]
    },
    {
      "cell_type": "code",
      "metadata": {
        "colab_type": "code"
      },
      "source": [
        "CLOUD_PROJECT = 'PASTE PROJECT ID HERE'\n",
        "\n",
        "print(\"Cloud Project Set To: %s\" % CLOUD_PROJECT)\n"
      ]
    },
    {
      "cell_type": "markdown",
      "metadata": {
        "colab_type": "text"
      },
      "source": [
        "#3. Get Client Credentials\n",
        "To read and write to various endpoints requires [downloading client credentials](https://github.com/google/starthinker/blob/master/tutorials/cloud_client_installed.md), this only needs to be done once, then click play.\n"
      ]
    },
    {
      "cell_type": "code",
      "metadata": {
        "colab_type": "code"
      },
      "source": [
        "CLIENT_CREDENTIALS = 'PASTE CREDENTIALS HERE'\n",
        "\n",
        "print(\"Client Credentials Set To: %s\" % CLIENT_CREDENTIALS)\n"
      ]
    },
    {
      "cell_type": "markdown",
      "metadata": {
        "colab_type": "text"
      },
      "source": [
        "#4. Enter DV360 To BigQuery Parameters\n",
        "Move existing DV360 reports into a BigQuery table.\n",
        " 1. Specify either report name or report id to move a report.\n",
        " 1. A schema is recommended, if not provided it will be guessed.\n",
        " 1. The most recent valid file will be moved to the table.\n",
        "Modify the values below for your use case, can be done multiple times, then click play.\n"
      ]
    },
    {
      "cell_type": "code",
      "metadata": {
        "colab_type": "code"
      },
      "source": [
        "FIELDS = {\n",
        "  'auth_read': 'user',  # Credentials used for reading data.\n",
        "  'auth_write': 'service',  # Authorization used for writing data.\n",
        "  'dbm_report_id': '',  # DV360 report ID given in UI, not needed if name used.\n",
        "  'dbm_report_name': '',  # Name of report, not needed if ID used.\n",
        "  'dbm_dataset': '',  # Existing BigQuery dataset.\n",
        "  'dbm_table': '',  # Table to create from this report.\n",
        "  'dbm_schema': '',  # Schema provided in JSON list format or empty value to auto detect.\n",
        "  'is_incremental_load': False,  # Clear data in destination table during this report's time period, then append report data to destination table.\n",
        "}\n",
        "\n",
        "print(\"Parameters Set To: %s\" % FIELDS)\n"
      ]
    },
    {
      "cell_type": "markdown",
      "metadata": {
        "colab_type": "text"
      },
      "source": [
        "#5. Execute DV360 To BigQuery\n",
        "This does NOT need to be modified unles you are changing the recipe, click play.\n"
      ]
    },
    {
      "cell_type": "code",
      "metadata": {
        "colab_type": "code"
      },
      "source": [
        "from starthinker.util.project import project\n",
        "from starthinker.script.parse import json_set_fields\n",
        "\n",
        "USER_CREDENTIALS = '/content/user.json'\n",
        "\n",
        "TASKS = [\n",
        "  {\n",
        "    'dbm': {\n",
        "      'auth': 'user',\n",
        "      'report': {\n",
        "        'report_id': {'field': {'name': 'dbm_report_id','kind': 'integer','order': 2,'default': '','description': 'DV360 report ID given in UI, not needed if name used.'}},\n",
        "        'name': {'field': {'name': 'dbm_report_name','kind': 'string','order': 3,'default': '','description': 'Name of report, not needed if ID used.'}}\n",
        "      },\n",
        "      'out': {\n",
        "        'bigquery': {\n",
        "          'auth': 'user',\n",
        "          'dataset': {'field': {'name': 'dbm_dataset','kind': 'string','order': 4,'default': '','description': 'Existing BigQuery dataset.'}},\n",
        "          'table': {'field': {'name': 'dbm_table','kind': 'string','order': 5,'default': '','description': 'Table to create from this report.'}},\n",
        "          'schema': {'field': {'name': 'dbm_schema','kind': 'json','order': 6,'description': 'Schema provided in JSON list format or empty value to auto detect.'}},\n",
        "          'is_incremental_load': {'field': {'name': 'is_incremental_load','kind': 'boolean','order': 7,'default': False,'description': \"Clear data in destination table during this report's time period, then append report data to destination table.\"}}\n",
        "        }\n",
        "      }\n",
        "    }\n",
        "  }\n",
        "]\n",
        "\n",
        "json_set_fields(TASKS, FIELDS)\n",
        "\n",
        "project.initialize(_recipe={ 'tasks':TASKS }, _project=CLOUD_PROJECT, _user=USER_CREDENTIALS, _client=CLIENT_CREDENTIALS, _verbose=True, _force=True)\n",
        "project.execute(_force=True)\n"
      ]
    }
  ]
}