{
  "license": "Apache License, Version 2.0",
  "copyright": "Copyright 2020 Google LLC",
  "nbformat": "4",
  "nbformat_minor": "0",
  "metadata": {
    "colab": {
      "name": "CM Standard Bulk",
      "provenance": [],
      "collapsed_sections": [],
      "toc_visible": true
    },
    "kernelspec": {
      "name": "python3",
      "display_name": "Python 3"
    }
  },
  "cells": [
    {
      "cell_type": "markdown",
      "metadata": {
        "colab_type": "text"
      },
      "source": [
        "#1. Install Dependencies\n",
        "First install the libraries needed to execute recipes, this only needs to be done once, then click play.\n"
      ]
    },
    {
      "cell_type": "code",
      "metadata": {
        "colab_type": "code"
      },
      "source": [
        "!pip install git+https://github.com/google/starthinker\n"
      ]
    },
    {
      "cell_type": "markdown",
      "metadata": {
        "colab_type": "text"
      },
      "source": [
        "#2. Get Cloud Project ID\n",
        "To run this recipe [requires a Google Cloud Project](https://github.com/google/starthinker/blob/master/tutorials/cloud_project.md), this only needs to be done once, then click play.\n"
      ]
    },
    {
      "cell_type": "code",
      "metadata": {
        "colab_type": "code"
      },
      "source": [
        "CLOUD_PROJECT = 'PASTE PROJECT ID HERE'\n",
        "\n",
        "print(\"Cloud Project Set To: %s\" % CLOUD_PROJECT)\n"
      ]
    },
    {
      "cell_type": "markdown",
      "metadata": {
        "colab_type": "text"
      },
      "source": [
        "#3. Get Client Credentials\n",
        "To read and write to various endpoints requires [downloading client credentials](https://github.com/google/starthinker/blob/master/tutorials/cloud_client_installed.md), this only needs to be done once, then click play.\n"
      ]
    },
    {
      "cell_type": "code",
      "metadata": {
        "colab_type": "code"
      },
      "source": [
        "CLIENT_CREDENTIALS = 'PASTE CREDENTIALS HERE'\n",
        "\n",
        "print(\"Client Credentials Set To: %s\" % CLIENT_CREDENTIALS)\n"
      ]
    },
    {
      "cell_type": "markdown",
      "metadata": {
        "colab_type": "text"
      },
      "source": [
        "#4. Enter CM Standard Bulk Parameters\n",
        "Aggregate multiple standard CM reports into one BigQuery or Sheet.\n",
        " 1. See API docs for <a href='https://developers.google.com/doubleclick-advertisers/v3.2/dimensions' target='_blank'>Metrics</a>.\n",
        " 1. CM report name format '[Report Name] [Account ID] ( StarThinker )'.\n",
        " 1. Specify either bucket and path or dataset and table.\n",
        " 1. Schema is pulled from the official CM specification.\n",
        "Modify the values below for your use case, can be done multiple times, then click play.\n"
      ]
    },
    {
      "cell_type": "code",
      "metadata": {
        "colab_type": "code"
      },
      "source": [
        "FIELDS = {\n",
        "  'accounts': '',\n",
        "  'name': '',\n",
        "  'range': 'LAST_7_DAYS',\n",
        "  'dcm_dimensions': ['date', 'platformType', 'creativeType', 'state', 'dmaRegion'],\n",
        "  'dcm_metrics': ['impressions'],\n",
        "  'dataset': '',\n",
        "  'table': '',\n",
        "  'bucket': '',\n",
        "  'path': 'CM_Report',\n",
        "  'delete': False,\n",
        "  'datastudio': True,\n",
        "}\n",
        "\n",
        "print(\"Parameters Set To: %s\" % FIELDS)\n"
      ]
    },
    {
      "cell_type": "markdown",
      "metadata": {
        "colab_type": "text"
      },
      "source": [
        "#5. Execute CM Standard Bulk\n",
        "This does NOT need to be modified unles you are changing the recipe, click play.\n"
      ]
    },
    {
      "cell_type": "code",
      "metadata": {
        "colab_type": "code"
      },
      "source": [
        "from starthinker.util.project import project\n",
        "from starthinker.script.parse import json_set_fields\n",
        "\n",
        "USER_CREDENTIALS = '/content/user.json'\n",
        "\n",
        "TASKS = [\n",
        "  {\n",
        "    'dcm_bulk': {\n",
        "      'auth': 'user',\n",
        "      'accounts': {'field': {'name': 'accounts','kind': 'integer_list','order': 1,'default': ''}},\n",
        "      'name': {'field': {'name': 'name','kind': 'string','order': 2,'default': ''}},\n",
        "      'report': {\n",
        "        'type': 'STANDARD',\n",
        "        'timeout': 0,\n",
        "        'relativeDateRange': {'field': {'name': 'range','kind': 'choice','order': 3,'default': 'LAST_7_DAYS','choices': ['LAST_24_MONTHS','LAST_30_DAYS','LAST_365_DAYS','LAST_7_DAYS','LAST_90_DAYS','MONTH_TO_DATE','PREVIOUS_MONTH','PREVIOUS_QUARTER','PREVIOUS_WEEK','PREVIOUS_YEAR','QUARTER_TO_DATE','TODAY','WEEK_TO_DATE','YEAR_TO_DATE','YESTERDAY']}},\n",
        "        'dimensions': {'field': {'name': 'dcm_dimensions','kind': 'string_list','order': 4,'default': ['date','platformType','creativeType','state','dmaRegion']}},\n",
        "        'metrics': {'field': {'name': 'dcm_metrics','kind': 'string_list','order': 5,'default': ['impressions']}}\n",
        "      },\n",
        "      'out': {\n",
        "        'bigquery': {\n",
        "          'dataset': {'field': {'name': 'dataset','kind': 'string','order': 5,'default': ''}},\n",
        "          'table': {'field': {'name': 'table','kind': 'string','order': 6,'default': ''}}\n",
        "        },\n",
        "        'storage': {\n",
        "          'bucket': {'field': {'name': 'bucket','kind': 'string','order': 7,'default': ''}},\n",
        "          'path': {'field': {'name': 'path','kind': 'string','order': 8,'default': 'CM_Report'}}\n",
        "        }\n",
        "      },\n",
        "      'delete': {'field': {'name': 'delete','kind': 'boolean','order': 10,'default': False}},\n",
        "      'datastudio': {'field': {'name': 'datastudio','kind': 'boolean','order': 11,'default': True}}\n",
        "    }\n",
        "  }\n",
        "]\n",
        "\n",
        "json_set_fields(TASKS, FIELDS)\n",
        "project.initialize(_recipe={ 'tasks':TASKS }, _project=CLOUD_PROJECT, _user=USER_CREDENTIALS, _client=CLIENT_CREDENTIALS, _verbose=True)\n",
        "project.execute()\n"
      ]
    }
  ]
}