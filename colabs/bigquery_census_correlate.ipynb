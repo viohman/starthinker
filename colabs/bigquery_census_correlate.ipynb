{
  "license": "Apache License, Version 2.0",
  "copyright": "Copyright 2018 Google Inc.",
  "nbformat": "4",
  "nbformat_minor": "0",
  "metadata": {
    "colab": {
      "name": "Census Data Correlation",
      "provenance": [],
      "collapsed_sections": [],
      "toc_visible": true
    },
    "kernelspec": {
      "name": "python3",
      "display_name": "Python 3"
    }
  },
  "cells": [
    {
      "cell_type": "markdown",
      "metadata": {
        "colab_type": "text"
      },
      "source": [
        "#1. Install Dependencies\n",
        "First install the libraries needed to execute recipes, this only needs to be done once, then click play.\n"
      ]
    },
    {
      "cell_type": "code",
      "metadata": {
        "colab_type": "code"
      },
      "source": [
        "!pip install git+https://github.com/google/starthinker\n"
      ]
    },
    {
      "cell_type": "markdown",
      "metadata": {
        "colab_type": "text"
      },
      "source": [
        "#2. Get Cloud Project ID\n",
        "To run this recipe [requires a Google Cloud Project](https://github.com/google/starthinker/blob/master/tutorials/cloud_project.md), this only needs to be done once, then click play.\n"
      ]
    },
    {
      "cell_type": "code",
      "metadata": {
        "colab_type": "code"
      },
      "source": [
        "CLOUD_PROJECT = 'PASTE PROJECT ID HERE'\n",
        "\n",
        "print(\"Cloud Project Set To: %s\" % CLOUD_PROJECT)\n"
      ]
    },
    {
      "cell_type": "markdown",
      "metadata": {
        "colab_type": "text"
      },
      "source": [
        "#3. Get Client Credentials\n",
        "To read and write to various endpoints requires [downloading client credentials](https://github.com/google/starthinker/blob/master/tutorials/cloud_client_installed.md), this only needs to be done once, then click play.\n"
      ]
    },
    {
      "cell_type": "code",
      "metadata": {
        "colab_type": "code"
      },
      "source": [
        "CLIENT_CREDENTIALS = 'PASTE CREDENTIALS HERE'\n",
        "\n",
        "print(\"Client Credentials Set To: %s\" % CLIENT_CREDENTIALS)\n"
      ]
    },
    {
      "cell_type": "markdown",
      "metadata": {
        "colab_type": "text"
      },
      "source": [
        "#4. Enter Census Data Correlation Parameters\n",
        "Correlate another table with US Census data.  Expands a data set dimensions by finding population segments that correlate with the master table.\n",
        " 1. Pre-requisite is Census Normalize, run that at least once.\n",
        " 1. Specify JOIN, PASS, SUM, and CORRELATE columns to build the correlation query.\n",
        " 1. Define the DATASET and TABLE for the joinable source. Can be a view.\n",
        " 1. Choose the significance level.  More significance usually means more NULL results, balance quantity and quality using this value.\n",
        " 1. Specify where to write the results.\n",
        " 1. <br>IMPORTANT:</b> If you use VIEWS, you will have to delete them manually if the recipe changes.\n",
        "Modify the values below for your use case, can be done multiple times, then click play.\n"
      ]
    },
    {
      "cell_type": "code",
      "metadata": {
        "colab_type": "code"
      },
      "source": [
        "FIELDS = {\n",
        "  'auth': 'service',  # Credentials used for writing data.\n",
        "  'join': '',  # Name of column to join on, must match Census Geo_Id column.\n",
        "  'pass': [],  # Comma seperated list of columns to pass through.\n",
        "  'sum': [],  # Comma seperated list of columns to sum, optional.\n",
        "  'correlate': [],  # Comma seperated list of percentage columns to correlate.\n",
        "  'from_dataset': '',  # Existing BigQuery dataset.\n",
        "  'from_table': '',  # Table to use as join data.\n",
        "  'significance': '80',  # Select level of significance to test.\n",
        "  'to_dataset': '',  # Existing BigQuery dataset.\n",
        "  'type': 'table',  # Write Census_Percent as table or view.\n",
        "}\n",
        "\n",
        "print(\"Parameters Set To: %s\" % FIELDS)\n"
      ]
    },
    {
      "cell_type": "markdown",
      "metadata": {
        "colab_type": "text"
      },
      "source": [
        "#5. Execute Census Data Correlation\n",
        "This does NOT need to be modified unles you are changing the recipe, click play.\n"
      ]
    },
    {
      "cell_type": "code",
      "metadata": {
        "colab_type": "code"
      },
      "source": [
        "from starthinker.util.project import project\n",
        "from starthinker.script.parse import json_set_fields\n",
        "\n",
        "USER_CREDENTIALS = '/content/user.json'\n",
        "\n",
        "TASKS = [\n",
        "  {\n",
        "    'census': {\n",
        "      'auth': 'user',\n",
        "      'correlate': {\n",
        "        'join': {'field': {'name': 'join','kind': 'string','order': 1,'default': '','description': 'Name of column to join on, must match Census Geo_Id column.'}},\n",
        "        'pass': {'field': {'name': 'pass','kind': 'string_list','order': 2,'default': [],'description': 'Comma seperated list of columns to pass through.'}},\n",
        "        'sum': {'field': {'name': 'sum','kind': 'string_list','order': 3,'default': [],'description': 'Comma seperated list of columns to sum, optional.'}},\n",
        "        'correlate': {'field': {'name': 'correlate','kind': 'string_list','order': 4,'default': [],'description': 'Comma seperated list of percentage columns to correlate.'}},\n",
        "        'dataset': {'field': {'name': 'from_dataset','kind': 'string','order': 5,'default': '','description': 'Existing BigQuery dataset.'}},\n",
        "        'table': {'field': {'name': 'from_table','kind': 'string','order': 6,'default': '','description': 'Table to use as join data.'}},\n",
        "        'significance': {'field': {'name': 'significance','kind': 'choice','order': 7,'default': '80','description': 'Select level of significance to test.','choices': ['80','90','98','99','99.5','99.95']}}\n",
        "      },\n",
        "      'to': {\n",
        "        'dataset': {'field': {'name': 'to_dataset','kind': 'string','order': 9,'default': '','description': 'Existing BigQuery dataset.'}},\n",
        "        'type': {'field': {'name': 'type','kind': 'choice','order': 10,'default': 'table','description': 'Write Census_Percent as table or view.','choices': ['table','view']}}\n",
        "      }\n",
        "    }\n",
        "  }\n",
        "]\n",
        "\n",
        "json_set_fields(TASKS, FIELDS)\n",
        "\n",
        "project.initialize(_recipe={ 'tasks':TASKS }, _project=CLOUD_PROJECT, _user=USER_CREDENTIALS, _client=CLIENT_CREDENTIALS, _verbose=True, _force=True)\n",
        "project.execute(_force=True)\n"
      ]
    }
  ]
}