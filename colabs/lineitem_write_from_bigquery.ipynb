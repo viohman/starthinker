{
  "nbformat": "4",
  "metadata": {
    "kernelspec": {
      "name": "python3",
      "display_name": "Python 3"
    },
    "colab": {
      "collapsed_sections": [],
      "toc_visible": true,
      "name": "Line Item From BigQuery",
      "provenance": []
    }
  },
  "license": "Apache License, Version 2.0",
  "nbformat_minor": "0",
  "cells": [
    {
      "source": [
        "#1. Install Dependencies\n",
        "First install the libraries needed to execute recipes, this only needs to be done once, then click play.\n"
      ],
      "metadata": {
        "colab_type": "text"
      },
      "cell_type": "markdown"
    },
    {
      "source": [
        "!pip install git+https://github.com/google/starthinker\n"
      ],
      "metadata": {
        "colab_type": "code"
      },
      "cell_type": "code"
    },
    {
      "source": [
        "#2. Get Cloud Project ID\n",
        "To run this recipe [requires a Google Cloud Project](https://github.com/google/starthinker/blob/master/tutorials/cloud_project.md), this only needs to be done once, then click play.\n"
      ],
      "metadata": {
        "colab_type": "text"
      },
      "cell_type": "markdown"
    },
    {
      "source": [
        "CLOUD_PROJECT = 'PASTE PROJECT ID HERE'\n",
        "\n",
        "print(\"Cloud Project Set To: %s\" % CLOUD_PROJECT)\n"
      ],
      "metadata": {
        "colab_type": "code"
      },
      "cell_type": "code"
    },
    {
      "source": [
        "#3. Get Client Credentials\n",
        "To read and write to various endpoints requires [downloading client credentials](https://github.com/google/starthinker/blob/master/tutorials/cloud_client_installed.md), this only needs to be done once, then click play.\n"
      ],
      "metadata": {
        "colab_type": "text"
      },
      "cell_type": "markdown"
    },
    {
      "source": [
        "CLIENT_CREDENTIALS = 'PASTE CREDENTIALS HERE'\n",
        "\n",
        "print(\"Client Credentials Set To: %s\" % CLIENT_CREDENTIALS)\n"
      ],
      "metadata": {
        "colab_type": "code"
      },
      "cell_type": "code"
    },
    {
      "source": [
        "#4. Enter Line Item From BigQuery Parameters\n",
        "Upload Line Items From BigQuery To DV360.\n",
        " 1. Specify the table or view where the lineitem data is defined.\n",
        " 1. The schema should match <a href='https://developers.google.com/bid-manager/guides/entity-write/format' target='_blank'>Entity Write Format</a>.\n",
        "Modify the values below for your use case, can be done multiple times, then click play.\n"
      ],
      "metadata": {
        "colab_type": "text"
      },
      "cell_type": "markdown"
    },
    {
      "source": [
        "FIELDS = {\n",
        "  'dataset': '',\n",
        "  'auth_read': 'user',  # Credentials used for reading data.\n",
        "  'query': 'SELECT * FROM `Dataset.Table`;',\n",
        "  'legacy': False,\n",
        "}\n",
        "\n",
        "print(\"Parameters Set To: %s\" % FIELDS)\n"
      ],
      "metadata": {
        "colab_type": "code"
      },
      "cell_type": "code"
    },
    {
      "source": [
        "#5. Execute Line Item From BigQuery\n",
        "This does NOT need to be modified unles you are changing the recipe, click play.\n"
      ],
      "metadata": {
        "colab_type": "text"
      },
      "cell_type": "markdown"
    },
    {
      "source": [
        "from starthinker.util.project import project\n",
        "from starthinker.script.parse import json_set_fields\n",
        "\n",
        "USER_CREDENTIALS = '/content/user.json'\n",
        "\n",
        "TASKS = [\n",
        "  {\n",
        "    'lineitem': {\n",
        "      'write': {\n",
        "        'dry_run': False,\n",
        "        'bigquery': {\n",
        "          'dataset': {'field': {'order': 1,'name': 'dataset','default': '','kind': 'string'}},\n",
        "          'query': {'field': {'order': 2,'name': 'query','default': 'SELECT * FROM `Dataset.Table`;','kind': 'string'}},\n",
        "          'legacy': {'field': {'order': 3,'name': 'legacy','default': False,'kind': 'boolean'}}\n",
        "        }\n",
        "      },\n",
        "      'auth': 'user'\n",
        "    }\n",
        "  }\n",
        "]\n",
        "\n",
        "json_set_fields(TASKS, FIELDS)\n",
        "\n",
        "project.initialize(_recipe={ 'tasks':TASKS }, _project=CLOUD_PROJECT, _user=USER_CREDENTIALS, _client=CLIENT_CREDENTIALS, _verbose=True, _force=True)\n",
        "project.execute(_force=True)\n"
      ],
      "metadata": {
        "colab_type": "code"
      },
      "cell_type": "code"
    }
  ],
  "copyright": "Copyright 2020 Google LLC"
}