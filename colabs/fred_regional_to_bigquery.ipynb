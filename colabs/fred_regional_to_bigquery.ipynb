{
  "nbformat": "4",
  "metadata": {
    "kernelspec": {
      "name": "python3",
      "display_name": "Python 3"
    },
    "colab": {
      "collapsed_sections": [],
      "toc_visible": true,
      "name": "Federal Reserve Regional Data",
      "provenance": []
    }
  },
  "license": "Apache License, Version 2.0",
  "nbformat_minor": "0",
  "cells": [
    {
      "source": [
        "#1. Install Dependencies\n",
        "First install the libraries needed to execute recipes, this only needs to be done once, then click play.\n"
      ],
      "metadata": {
        "colab_type": "text"
      },
      "cell_type": "markdown"
    },
    {
      "source": [
        "!pip install git+https://github.com/google/starthinker\n"
      ],
      "metadata": {
        "colab_type": "code"
      },
      "cell_type": "code"
    },
    {
      "source": [
        "#2. Get Cloud Project ID\n",
        "To run this recipe [requires a Google Cloud Project](https://github.com/google/starthinker/blob/master/tutorials/cloud_project.md), this only needs to be done once, then click play.\n"
      ],
      "metadata": {
        "colab_type": "text"
      },
      "cell_type": "markdown"
    },
    {
      "source": [
        "CLOUD_PROJECT = 'PASTE PROJECT ID HERE'\n",
        "\n",
        "print(\"Cloud Project Set To: %s\" % CLOUD_PROJECT)\n"
      ],
      "metadata": {
        "colab_type": "code"
      },
      "cell_type": "code"
    },
    {
      "source": [
        "#3. Get Client Credentials\n",
        "To read and write to various endpoints requires [downloading client credentials](https://github.com/google/starthinker/blob/master/tutorials/cloud_client_installed.md), this only needs to be done once, then click play.\n"
      ],
      "metadata": {
        "colab_type": "text"
      },
      "cell_type": "markdown"
    },
    {
      "source": [
        "CLIENT_CREDENTIALS = 'PASTE CREDENTIALS HERE'\n",
        "\n",
        "print(\"Client Credentials Set To: %s\" % CLIENT_CREDENTIALS)\n"
      ],
      "metadata": {
        "colab_type": "code"
      },
      "cell_type": "code"
    },
    {
      "source": [
        "#4. Enter Federal Reserve Regional Data Parameters\n",
        "Download federal reserve region.\n",
        " 1. Specify the values for a <a href='https://research.stlouisfed.org/docs/api/geofred/regional_data.html' target='_blank'>Fred observations API call</a>.\n",
        " 1. A table will appear in the dataset.\n",
        "Modify the values below for your use case, can be done multiple times, then click play.\n"
      ],
      "metadata": {
        "colab_type": "text"
      },
      "cell_type": "markdown"
    },
    {
      "source": [
        "FIELDS = {\n",
        "  'auth': 'service',  # Credentials used for writing data.\n",
        "  'fred_api_key': '',  # 32 character alpha-numeric lowercase string.\n",
        "  'fred_series_group': '',  # The ID for a group of seriess found in GeoFRED.\n",
        "  'fred_region_type': 'county',  # The region you want want to pull data for.\n",
        "  'fred_units': 'lin',  # A key that indicates a data value transformation.\n",
        "  'fred_season': 'SA',  # The seasonality of the series group.\n",
        "  'fred_frequency': '',  # An optional parameter that indicates a lower frequency to aggregate values to.\n",
        "  'fred_aggregation_method': 'avg',  # A key that indicates the aggregation method used for frequency aggregation.\n",
        "  'project': '',  # Existing BigQuery project.\n",
        "  'dataset': '',  # Existing BigQuery dataset.\n",
        "}\n",
        "\n",
        "print(\"Parameters Set To: %s\" % FIELDS)\n"
      ],
      "metadata": {
        "colab_type": "code"
      },
      "cell_type": "code"
    },
    {
      "source": [
        "#5. Execute Federal Reserve Regional Data\n",
        "This does NOT need to be modified unles you are changing the recipe, click play.\n"
      ],
      "metadata": {
        "colab_type": "text"
      },
      "cell_type": "markdown"
    },
    {
      "source": [
        "from starthinker.util.project import project\n",
        "from starthinker.script.parse import json_set_fields\n",
        "\n",
        "USER_CREDENTIALS = '/content/user.json'\n",
        "\n",
        "TASKS = [\n",
        "  {\n",
        "    'fred': {\n",
        "      'region_type': {'field': {'name': 'fred_region_type','description': 'The region you want want to pull data for.','kind': 'choice','choices': ['bea','msa','frb','necta','state','country','county','censusregion'],'order': 3,'default': 'county'}},\n",
        "      'auth': 'user',\n",
        "      'frequency': {'field': {'name': 'fred_frequency','description': 'An optional parameter that indicates a lower frequency to aggregate values to.','kind': 'choice','choices': ['','d','w','bw','m','q','sa','a','wef','weth','wew','wetu','wem','wesu','wesa','bwew','bwem'],'order': 4,'default': ''}},\n",
        "      'regions': [\n",
        "        {\n",
        "          'season': {'field': {'name': 'fred_season','description': 'The seasonality of the series group.','kind': 'choice','choices': ['SA','NSA','SSA'],'order': 4,'default': 'SA'}},\n",
        "          'aggregation_method': {'field': {'name': 'fred_aggregation_method','description': 'A key that indicates the aggregation method used for frequency aggregation.','kind': 'choice','choices': ['avg','sum','eop'],'order': 5,'default': 'avg'}},\n",
        "          'series_group': {'field': {'order': 2,'name': 'fred_series_group','default': '','kind': 'string','description': 'The ID for a group of seriess found in GeoFRED.'}},\n",
        "          'units': {'field': {'name': 'fred_units','description': 'A key that indicates a data value transformation.','kind': 'choice','choices': ['lin','chg','ch1','pch','pc1','pca','cch','cca','log'],'order': 3,'default': 'lin'}}\n",
        "        }\n",
        "      ],\n",
        "      'api_key': {'field': {'order': 1,'name': 'fred_api_key','default': '','kind': 'string','description': '32 character alpha-numeric lowercase string.'}},\n",
        "      'out': {\n",
        "        'bigquery': {\n",
        "          'dataset': {'field': {'order': 11,'name': 'dataset','default': '','kind': 'string','description': 'Existing BigQuery dataset.'}},\n",
        "          'project': {'field': {'order': 10,'name': 'project','default': '','kind': 'string','description': 'Existing BigQuery project.'}}\n",
        "        }\n",
        "      }\n",
        "    }\n",
        "  }\n",
        "]\n",
        "\n",
        "json_set_fields(TASKS, FIELDS)\n",
        "\n",
        "project.initialize(_recipe={ 'tasks':TASKS }, _project=CLOUD_PROJECT, _user=USER_CREDENTIALS, _client=CLIENT_CREDENTIALS, _verbose=True, _force=True)\n",
        "project.execute(_force=True)\n"
      ],
      "metadata": {
        "colab_type": "code"
      },
      "cell_type": "code"
    }
  ],
  "copyright": "Copyright 2020 Google LLC"
}