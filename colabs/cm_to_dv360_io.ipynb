{
  "nbformat": "4",
  "metadata": {
    "kernelspec": {
      "name": "python3",
      "display_name": "Python 3"
    },
    "colab": {
      "collapsed_sections": [],
      "toc_visible": true,
      "name": "CM To BigQuery IO Synch",
      "provenance": []
    }
  },
  "license": "Apache License, Version 2.0",
  "nbformat_minor": "0",
  "cells": [
    {
      "source": [
        "#1. Install Dependencies\n",
        "First install the libraries needed to execute recipes, this only needs to be done once, then click play.\n"
      ],
      "metadata": {
        "colab_type": "text"
      },
      "cell_type": "markdown"
    },
    {
      "source": [
        "!pip install git+https://github.com/google/starthinker\n"
      ],
      "metadata": {
        "colab_type": "code"
      },
      "cell_type": "code"
    },
    {
      "source": [
        "#2. Get Cloud Project ID\n",
        "To run this recipe [requires a Google Cloud Project](https://github.com/google/starthinker/blob/master/tutorials/cloud_project.md), this only needs to be done once, then click play.\n"
      ],
      "metadata": {
        "colab_type": "text"
      },
      "cell_type": "markdown"
    },
    {
      "source": [
        "CLOUD_PROJECT = 'PASTE PROJECT ID HERE'\n",
        "\n",
        "print(\"Cloud Project Set To: %s\" % CLOUD_PROJECT)\n"
      ],
      "metadata": {
        "colab_type": "code"
      },
      "cell_type": "code"
    },
    {
      "source": [
        "#3. Get Client Credentials\n",
        "To read and write to various endpoints requires [downloading client credentials](https://github.com/google/starthinker/blob/master/tutorials/cloud_client_installed.md), this only needs to be done once, then click play.\n"
      ],
      "metadata": {
        "colab_type": "text"
      },
      "cell_type": "markdown"
    },
    {
      "source": [
        "CLIENT_CREDENTIALS = 'PASTE CREDENTIALS HERE'\n",
        "\n",
        "print(\"Client Credentials Set To: %s\" % CLIENT_CREDENTIALS)\n"
      ],
      "metadata": {
        "colab_type": "code"
      },
      "cell_type": "code"
    },
    {
      "source": [
        "#4. Enter CM To BigQuery IO Synch Parameters\n",
        "Migrate CM Placements to DV360 IO.\n",
        " 1. Fill in the CM accont information.\n",
        " 1. Fill in the DV360 accont information.\n",
        " 1. Click the 'Save' button to save configuration.\n",
        " 1. Click the 'Run Now' button to create the workflow.\n",
        " 1. Visit <b>BigQuery->UNDEFINED->UNDEFINED->DV360_IO_REVIEW</b> to check for updates.\n",
        " 1. Visit <b>BigQuery->UNDEFINED->UNDEFINED->DV360_IO_INSERT</b> to approve the updates.\n",
        "Modify the values below for your use case, can be done multiple times, then click play.\n"
      ],
      "metadata": {
        "colab_type": "text"
      },
      "cell_type": "markdown"
    },
    {
      "source": [
        "FIELDS = {\n",
        "  'cm_account': '',  # Comma seperated.\n",
        "  'dv360_advertiser': '',  # Comma seperated.\n",
        "  'cm_advertiser': '',  # Comma seperated.\n",
        "  'dv360_advertisers': '',  # Comma seperated.\n",
        "  'dv360_campaign': '',  # Comma seperated.\n",
        "  'recipe_slug': '',  # Place where tables will be created in BigQuery.\n",
        "}\n",
        "\n",
        "print(\"Parameters Set To: %s\" % FIELDS)\n"
      ],
      "metadata": {
        "colab_type": "code"
      },
      "cell_type": "code"
    },
    {
      "source": [
        "#5. Execute CM To BigQuery IO Synch\n",
        "This does NOT need to be modified unles you are changing the recipe, click play.\n"
      ],
      "metadata": {
        "colab_type": "text"
      },
      "cell_type": "markdown"
    },
    {
      "source": [
        "from starthinker.util.project import project\n",
        "from starthinker.script.parse import json_set_fields\n",
        "\n",
        "USER_CREDENTIALS = '/content/user.json'\n",
        "\n",
        "TASKS = [\n",
        "  {\n",
        "    'dataset': {\n",
        "      'dataset': {'field': {'name': 'recipe_slug','description': 'Place where tables will be created in BigQuery.','kind': 'string'}},\n",
        "      'auth': 'user'\n",
        "    }\n",
        "  },\n",
        "  {\n",
        "    'sheets': {\n",
        "      'range': 'A1:C',\n",
        "      'auth': 'user',\n",
        "      'header': True,\n",
        "      'out': {\n",
        "        'auth': 'user',\n",
        "        'bigquery': {\n",
        "          'dataset': {'field': {'name': 'recipe_slug','description': 'Place where tables will be created in BigQuery.','kind': 'string'}},\n",
        "          'table': 'Rules'\n",
        "        }\n",
        "      },\n",
        "      'tab': 'Rules',\n",
        "      'sheet': 'BB Demo'\n",
        "    }\n",
        "  },\n",
        "  {\n",
        "    'dv360_api': {\n",
        "      'auth': 'user',\n",
        "      'advertisers': {\n",
        "        'values': {'field': {'name': 'dv360_advertisers','description': 'Comma seperated.','kind': 'integer_list'}},\n",
        "        'single_cell': True\n",
        "      },\n",
        "      'out': {\n",
        "        'dataset': {'field': {'name': 'recipe_slug','description': 'Place where tables will be created in BigQuery.','kind': 'string'}},\n",
        "        'auth': 'user'\n",
        "      },\n",
        "      'endpoints': [\n",
        "        'advertisers.insertionOrders'\n",
        "      ]\n",
        "    }\n",
        "  },\n",
        "  {\n",
        "    'dcm_api': {\n",
        "      'auth': 'user',\n",
        "      'advertisers': {\n",
        "        'values': {'field': {'name': 'cm_advertiser','description': 'Comma seperated.','kind': 'integer_list'}}\n",
        "      },\n",
        "      'accounts': {\n",
        "        'values': {'field': {'name': 'cm_account','description': 'Comma seperated.','kind': 'integer_list'}}\n",
        "      },\n",
        "      'out': {\n",
        "        'dataset': {'field': {'name': 'recipe_slug','description': 'Place where tables will be created in BigQuery.','kind': 'string'}},\n",
        "        'auth': 'user'\n",
        "      },\n",
        "      'endpoints': [\n",
        "        'campaigns',\n",
        "        'placements',\n",
        "        'placementGroups'\n",
        "      ]\n",
        "    }\n",
        "  },\n",
        "  {\n",
        "    'bigquery': {\n",
        "      'auth': 'user',\n",
        "      'to': {\n",
        "        'dataset': {'field': {'name': 'recipe_slug','description': 'Place where tables will be created in BigQuery.','kind': 'string'}},\n",
        "        'view': 'DV360_IO_LOGIC'\n",
        "      },\n",
        "      'from': {\n",
        "        'legacy': False,\n",
        "        'query': \"SELECT   [PARAMETER] AS advertiserId,   [PARAMETER] AS campaignId,   REGEXP_REPLACE(CM_P.name, '_1X1.*', '') AS displayName,   'ENTITY_STATUS_DRAFT' AS entityStatus,   STRUCT(     'PACING_PERIOD_FLIGHT' AS pacingPeriod,     'PACING_TYPE_AHEAD' AS pacingType   ) AS pacing,   STRUCT(     false AS unlimited,     'TIME_UNIT_DAYS' AS timeUnit,     1 AS timeUnitCount,     CASE       WHEN CM_P.name LIKE '%FF%' AND CM_P.name LIKE '%PZN%'THEN 6       WHEN CM_P.name LIKE '%FF%' THEN 3       WHEN CM_P.name LIKE '%HOL%' THEN 6       WHEN CM_P.name LIKE '%BTC%' THEN 3     END AS maxImpressions   ) AS frequencyCap,   STRUCT(     'PERFORMANCE_GOAL_TYPE_CPM' AS performanceGoalType,     '10' AS performanceGoalAmountMicros   ) AS performanceGoal,   STRUCT(     'BUDGET_UNIT_CURRENCY' AS budgetUnit,     'INSERTION_ORDER_AUTOMATION_TYPE_BUDGET' AS automationType,     [       STRUCT(        '10000' AS budgetAmountMicros,        '' AS description,        STRUCT (          STRUCT (            EXTRACT(YEAR FROM GREATEST(CM_C.startDate, CURRENT_DATE())) AS year,            EXTRACT(MONTH FROM GREATEST(CM_C.startDate, CURRENT_DATE())) AS month,            EXTRACT(DAY FROM GREATEST(CM_C.startDate, CURRENT_DATE())) AS day          ) AS startDate,          STRUCT (            EXTRACT(YEAR FROM CM_C.endDate) AS year,            EXTRACT(MONTH FROM CM_C.endDate) AS month,            EXTRACT(DAY FROM CM_C.endDate) AS day          ) AS endDate        ) AS dateRange       )     ] AS budgetSegments   ) AS budget,   STRUCT(     STRUCT(       '10' AS bidAmountMicros     ) AS fixedBid   ) AS bidStrategy FROM `[PARAMETER].CM_placements` As CM_P LEFT JOIN `[PARAMETER].CM_campaigns` As CM_C ON CM_P.campaignId=CM_C.id LEFT JOIN `[PARAMETER].CM_placementGroups` As CM_G ON CM_P.placementGroupId=CM_G.id WHERE CM_P.advertiserID=4461789 AND CM_P.name LIKE 'PKG%' /*AND CM_G.placementGroupType = 'PACKAGE' */ ORDER BY displayName ;\",\n",
        "        'parameters': [\n",
        "          {'field': {'name': 'dv360_advertiser','description': 'Comma seperated.','kind': 'integer_list'}},\n",
        "          {'field': {'name': 'dv360_campaign','description': 'Comma seperated.','kind': 'integer_list'}},\n",
        "          {'field': {'name': 'recipe_slug','description': 'Place where tables will be written in BigQuery.','kind': 'string'}},\n",
        "          {'field': {'name': 'recipe_slug','description': 'Place where tables will be written in BigQuery.','kind': 'string'}},\n",
        "          {'field': {'name': 'recipe_slug','description': 'Place where tables will be written in BigQuery.','kind': 'string'}}\n",
        "        ]\n",
        "      }\n",
        "    }\n",
        "  },\n",
        "  {\n",
        "    'bigquery': {\n",
        "      'auth': 'user',\n",
        "      'to': {\n",
        "        'dataset': {'field': {'name': 'recipe_slug','description': 'Place where tables will be created in BigQuery.','kind': 'string'}},\n",
        "        'view': 'DV360_IO_PREVIEW'\n",
        "      },\n",
        "      'from': {\n",
        "        'legacy': False,\n",
        "        'query': 'SELECT STRUCT(   ROW_NUMBER() OVER() AS NUMBER,   displayName IN (SELECT displayName FROM `[PARAMETER].DV360_advertisers_insertionOrders`) AS DUPLICATE ) AS PREVIEW, * FROM `[PARAMETER].DV360_IO_LOGIC` ORDER BY displayName ;',\n",
        "        'parameters': [\n",
        "          {'field': {'name': 'recipe_slug','description': 'Place where tables will be written in BigQuery.','kind': 'string'}}\n",
        "        ]\n",
        "      }\n",
        "    }\n",
        "  },\n",
        "  {\n",
        "    'bigquery': {\n",
        "      'auth': 'user',\n",
        "      'to': {\n",
        "        'dataset': {'field': {'name': 'recipe_slug','description': 'Place where tables will be created in BigQuery.','kind': 'string'}},\n",
        "        'view': 'DV360_IO_INSERT'\n",
        "      },\n",
        "      'from': {\n",
        "        'legacy': False,\n",
        "        'query': ' SELECT * EXCEPT(PREVIEW) FROM `[PARAMETER].DV360_IO_PREVIEW` WHERE PREVIEW.NUMBER IN(0,0,0,0,0) AND PREVIEW.DUPLICATE=False LIMIT 1 ;',\n",
        "        'parameters': [\n",
        "          {'field': {'name': 'recipe_slug','description': 'Place where tables will be written in BigQuery.','kind': 'string'}}\n",
        "        ]\n",
        "      }\n",
        "    }\n",
        "  },\n",
        "  {\n",
        "    'dv360_api': {\n",
        "      'insert': 'advertisers.insertionOrders',\n",
        "      'auth': 'user',\n",
        "      'bigquery': {\n",
        "        'dataset': {'field': {'name': 'recipe_slug','description': 'Place where tables will be created in BigQuery.','kind': 'string'}},\n",
        "        'auth': 'user',\n",
        "        'as_object': True,\n",
        "        'table': 'DV360_IO_INSERT'\n",
        "      }\n",
        "    }\n",
        "  }\n",
        "]\n",
        "\n",
        "json_set_fields(TASKS, FIELDS)\n",
        "\n",
        "project.initialize(_recipe={ 'tasks':TASKS }, _project=CLOUD_PROJECT, _user=USER_CREDENTIALS, _client=CLIENT_CREDENTIALS, _verbose=True, _force=True)\n",
        "project.execute(_force=True)\n"
      ],
      "metadata": {
        "colab_type": "code"
      },
      "cell_type": "code"
    }
  ],
  "copyright": "Copyright 2020 Google LLC"
}