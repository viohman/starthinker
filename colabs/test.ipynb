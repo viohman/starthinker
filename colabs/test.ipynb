{
  "license": "Apache License, Version 2.0",
  "copyright": "Copyright 2018 Google Inc.",
  "nbformat": "4",
  "nbformat_minor": "0",
  "metadata": {
    "colab": {
      "name": "Test Script",
      "provenance": [],
      "collapsed_sections": [],
      "toc_visible": true
    },
    "kernelspec": {
      "name": "python3",
      "display_name": "Python 3"
    }
  },
  "cells": [
    {
      "cell_type": "markdown",
      "metadata": {
        "colab_type": "text"
      },
      "source": [
        "#1. Install Dependencies\n",
        "First install the libraries needed to execute recipes, this only needs to be done once, then click play.\n"
      ]
    },
    {
      "cell_type": "code",
      "metadata": {
        "colab_type": "code"
      },
      "source": [
        "!pip install git+https://github.com/google/starthinker\n"
      ]
    },
    {
      "cell_type": "markdown",
      "metadata": {
        "colab_type": "text"
      },
      "source": [
        "#2. Get Cloud Project ID\n",
        "To run this recipe [requires a Google Cloud Project](https://github.com/google/starthinker/blob/master/tutorials/cloud_project.md), this only needs to be done once, then click play.\n"
      ]
    },
    {
      "cell_type": "code",
      "metadata": {
        "colab_type": "code"
      },
      "source": [
        "CLOUD_PROJECT = 'PASTE PROJECT ID HERE'\n",
        "\n",
        "print(\"Cloud Project Set To: %s\" % CLOUD_PROJECT)\n"
      ]
    },
    {
      "cell_type": "markdown",
      "metadata": {
        "colab_type": "text"
      },
      "source": [
        "#3. Get Client Credentials\n",
        "To read and write to various endpoints requires [downloading client credentials](https://github.com/google/starthinker/blob/master/tutorials/cloud_client_installed.md), this only needs to be done once, then click play.\n"
      ]
    },
    {
      "cell_type": "code",
      "metadata": {
        "colab_type": "code"
      },
      "source": [
        "CLIENT_CREDENTIALS = 'PASTE CREDENTIALS HERE'\n",
        "\n",
        "print(\"Client Credentials Set To: %s\" % CLIENT_CREDENTIALS)\n"
      ]
    },
    {
      "cell_type": "markdown",
      "metadata": {
        "colab_type": "text"
      },
      "source": [
        "#4. Enter Test Script Parameters\n",
        "Used by tests.\n",
        " 1. This should be called by the tests scripts only.\n",
        " 1. When run will generate a say hello log.\n",
        "Modify the values below for your use case, can be done multiple times, then click play.\n"
      ]
    },
    {
      "cell_type": "code",
      "metadata": {
        "colab_type": "code"
      },
      "source": [
        "FIELDS = {\n",
        "  'auth_read': 'user',  # Credentials used for reading data.\n",
        "}\n",
        "\n",
        "print(\"Parameters Set To: %s\" % FIELDS)\n"
      ]
    },
    {
      "cell_type": "markdown",
      "metadata": {
        "colab_type": "text"
      },
      "source": [
        "#5. Execute Test Script\n",
        "This does NOT need to be modified unles you are changing the recipe, click play.\n"
      ]
    },
    {
      "cell_type": "code",
      "metadata": {
        "colab_type": "code"
      },
      "source": [
        "from starthinker.util.project import project\n",
        "from starthinker.script.parse import json_set_fields\n",
        "\n",
        "USER_CREDENTIALS = '/content/user.json'\n",
        "\n",
        "TASKS = [\n",
        "  {\n",
        "    'hello': {\n",
        "      'auth': 'user',\n",
        "      'hour': [\n",
        "        1\n",
        "      ],\n",
        "      'say': 'Hello At 1',\n",
        "      'sleep': 0\n",
        "    }\n",
        "  },\n",
        "  {\n",
        "    'hello': {\n",
        "      'auth': 'user',\n",
        "      'hour': [\n",
        "        3\n",
        "      ],\n",
        "      'say': 'Hello At 3',\n",
        "      'sleep': 0\n",
        "    }\n",
        "  },\n",
        "  {\n",
        "    'hello': {\n",
        "      'auth': 'user',\n",
        "      'hour': [\n",
        "      ],\n",
        "      'say': 'Hello Manual',\n",
        "      'sleep': 0\n",
        "    }\n",
        "  },\n",
        "  {\n",
        "    'hello': {\n",
        "      'auth': 'user',\n",
        "      'hour': [\n",
        "        23\n",
        "      ],\n",
        "      'say': 'Hello At 23 Sleep',\n",
        "      'sleep': 30\n",
        "    }\n",
        "  },\n",
        "  {\n",
        "    'hello': {\n",
        "      'auth': 'user',\n",
        "      'say': 'Hello At Anytime',\n",
        "      'sleep': 0\n",
        "    }\n",
        "  },\n",
        "  {\n",
        "    'hello': {\n",
        "      'auth': 'user',\n",
        "      'hour': [\n",
        "        1,\n",
        "        3,\n",
        "        23\n",
        "      ],\n",
        "      'say': 'Hello At 1, 3, 23',\n",
        "      'sleep': 0\n",
        "    }\n",
        "  },\n",
        "  {\n",
        "    'hello': {\n",
        "      'auth': 'user',\n",
        "      'hour': [\n",
        "        3\n",
        "      ],\n",
        "      'say': 'Hello At 3 Reordered',\n",
        "      'sleep': 0\n",
        "    }\n",
        "  }\n",
        "]\n",
        "\n",
        "json_set_fields(TASKS, FIELDS)\n",
        "\n",
        "project.initialize(_recipe={ 'tasks':TASKS }, _project=CLOUD_PROJECT, _user=USER_CREDENTIALS, _client=CLIENT_CREDENTIALS, _verbose=True, _force=True)\n",
        "project.execute(_force=True)\n"
      ]
    }
  ]
}