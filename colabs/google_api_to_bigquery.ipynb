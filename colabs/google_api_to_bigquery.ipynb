{
  "nbformat": "4",
  "metadata": {
    "kernelspec": {
      "name": "python3",
      "display_name": "Python 3"
    },
    "colab": {
      "collapsed_sections": [],
      "toc_visible": true,
      "name": "API To BigQuery",
      "provenance": []
    }
  },
  "license": "Apache License, Version 2.0",
  "nbformat_minor": "0",
  "cells": [
    {
      "source": [
        "#1. Install Dependencies\n",
        "First install the libraries needed to execute recipes, this only needs to be done once, then click play.\n"
      ],
      "metadata": {
        "colab_type": "text"
      },
      "cell_type": "markdown"
    },
    {
      "source": [
        "!pip install git+https://github.com/google/starthinker\n"
      ],
      "metadata": {
        "colab_type": "code"
      },
      "cell_type": "code"
    },
    {
      "source": [
        "#2. Get Cloud Project ID\n",
        "To run this recipe [requires a Google Cloud Project](https://github.com/google/starthinker/blob/master/tutorials/cloud_project.md), this only needs to be done once, then click play.\n"
      ],
      "metadata": {
        "colab_type": "text"
      },
      "cell_type": "markdown"
    },
    {
      "source": [
        "CLOUD_PROJECT = 'PASTE PROJECT ID HERE'\n",
        "\n",
        "print(\"Cloud Project Set To: %s\" % CLOUD_PROJECT)\n"
      ],
      "metadata": {
        "colab_type": "code"
      },
      "cell_type": "code"
    },
    {
      "source": [
        "#3. Get Client Credentials\n",
        "To read and write to various endpoints requires [downloading client credentials](https://github.com/google/starthinker/blob/master/tutorials/cloud_client_installed.md), this only needs to be done once, then click play.\n"
      ],
      "metadata": {
        "colab_type": "text"
      },
      "cell_type": "markdown"
    },
    {
      "source": [
        "CLIENT_CREDENTIALS = 'PASTE CREDENTIALS HERE'\n",
        "\n",
        "print(\"Client Credentials Set To: %s\" % CLIENT_CREDENTIALS)\n"
      ],
      "metadata": {
        "colab_type": "code"
      },
      "cell_type": "code"
    },
    {
      "source": [
        "#4. Enter API To BigQuery Parameters\n",
        "Execute a Google API function and store results to BigQuery.\n",
        " 1. Enter an api name and version.\n",
        " 1. Specify the function using dot notation and arguments using json.\n",
        " 1. If nextPageToken can be in response check iterate.\n",
        " 1. Give BigQuery dataset and table where response will be written.\n",
        "Modify the values below for your use case, can be done multiple times, then click play.\n"
      ],
      "metadata": {
        "colab_type": "text"
      },
      "cell_type": "markdown"
    },
    {
      "source": [
        "FIELDS = {\n",
        "  'auth_read': 'user',  # Credentials used for reading data.\n",
        "  'api': 'doubleclickbidmanager',  # See developer guide.\n",
        "  'version': 'v1',  # Must be supported version.\n",
        "  'function': 'reports.files.list',  # Full function dot notation path.\n",
        "  'kwargs': {'reportId': 132847265, 'profileId': 2782211, 'accountId': 7480},  # Dictionray object of name value pairs.\n",
        "  'iterate': False,  # Is the result a list?\n",
        "  'dataset': '',  # Existing dataset in BigQuery.\n",
        "  'table': '',  # Table to write API call results to.\n",
        "  'schema': [],  # Schema provided in JSON list format or empty list.\n",
        "}\n",
        "\n",
        "print(\"Parameters Set To: %s\" % FIELDS)\n"
      ],
      "metadata": {
        "colab_type": "code"
      },
      "cell_type": "code"
    },
    {
      "source": [
        "#5. Execute API To BigQuery\n",
        "This does NOT need to be modified unles you are changing the recipe, click play.\n"
      ],
      "metadata": {
        "colab_type": "text"
      },
      "cell_type": "markdown"
    },
    {
      "source": [
        "from starthinker.util.project import project\n",
        "from starthinker.script.parse import json_set_fields\n",
        "\n",
        "USER_CREDENTIALS = '/content/user.json'\n",
        "\n",
        "TASKS = [\n",
        "  {\n",
        "    'google_api': {\n",
        "      'iterate': {'field': {'order': 5,'name': 'iterate','default': False,'kind': 'boolean','description': 'Is the result a list?'}},\n",
        "      'function': {'field': {'order': 3,'name': 'function','default': 'reports.files.list','kind': 'string','description': 'Full function dot notation path.'}},\n",
        "      'auth': 'user',\n",
        "      'out': {\n",
        "        'bigquery': {\n",
        "          'dataset': {'field': {'order': 6,'name': 'dataset','default': '','kind': 'string','description': 'Existing dataset in BigQuery.'}},\n",
        "          'format': 'JSON',\n",
        "          'schema': {'field': {'order': 9,'name': 'schema','default': [],'kind': 'json','description': 'Schema provided in JSON list format or empty list.'}},\n",
        "          'table': {'field': {'order': 7,'name': 'table','default': '','kind': 'string','description': 'Table to write API call results to.'}}\n",
        "        }\n",
        "      },\n",
        "      'version': {'field': {'order': 2,'name': 'version','default': 'v1','kind': 'string','description': 'Must be supported version.'}},\n",
        "      'api': {'field': {'order': 1,'name': 'api','default': 'doubleclickbidmanager','kind': 'string','description': 'See developer guide.'}},\n",
        "      'kwargs': {'field': {'order': 4,'name': 'kwargs','default': {'reportId': 132847265,'profileId': 2782211,'accountId': 7480},'kind': 'json','description': 'Dictionray object of name value pairs.'}}\n",
        "    }\n",
        "  }\n",
        "]\n",
        "\n",
        "json_set_fields(TASKS, FIELDS)\n",
        "\n",
        "project.initialize(_recipe={ 'tasks':TASKS }, _project=CLOUD_PROJECT, _user=USER_CREDENTIALS, _client=CLIENT_CREDENTIALS, _verbose=True, _force=True)\n",
        "project.execute(_force=True)\n"
      ],
      "metadata": {
        "colab_type": "code"
      },
      "cell_type": "code"
    }
  ],
  "copyright": "Copyright 2020 Google LLC"
}