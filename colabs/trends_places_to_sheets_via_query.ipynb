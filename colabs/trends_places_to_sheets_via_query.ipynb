{
  "nbformat": "4",
  "metadata": {
    "kernelspec": {
      "name": "python3",
      "display_name": "Python 3"
    },
    "colab": {
      "collapsed_sections": [],
      "toc_visible": true,
      "name": "Trends Places To Sheets Via Query",
      "provenance": []
    }
  },
  "license": "Apache License, Version 2.0",
  "nbformat_minor": "0",
  "cells": [
    {
      "source": [
        "#1. Install Dependencies\n",
        "First install the libraries needed to execute recipes, this only needs to be done once, then click play.\n"
      ],
      "metadata": {
        "colab_type": "text"
      },
      "cell_type": "markdown"
    },
    {
      "source": [
        "!pip install git+https://github.com/google/starthinker\n"
      ],
      "metadata": {
        "colab_type": "code"
      },
      "cell_type": "code"
    },
    {
      "source": [
        "#2. Get Cloud Project ID\n",
        "To run this recipe [requires a Google Cloud Project](https://github.com/google/starthinker/blob/master/tutorials/cloud_project.md), this only needs to be done once, then click play.\n"
      ],
      "metadata": {
        "colab_type": "text"
      },
      "cell_type": "markdown"
    },
    {
      "source": [
        "CLOUD_PROJECT = 'PASTE PROJECT ID HERE'\n",
        "\n",
        "print(\"Cloud Project Set To: %s\" % CLOUD_PROJECT)\n"
      ],
      "metadata": {
        "colab_type": "code"
      },
      "cell_type": "code"
    },
    {
      "source": [
        "#3. Get Client Credentials\n",
        "To read and write to various endpoints requires [downloading client credentials](https://github.com/google/starthinker/blob/master/tutorials/cloud_client_installed.md), this only needs to be done once, then click play.\n"
      ],
      "metadata": {
        "colab_type": "text"
      },
      "cell_type": "markdown"
    },
    {
      "source": [
        "CLIENT_CREDENTIALS = 'PASTE CREDENTIALS HERE'\n",
        "\n",
        "print(\"Client Credentials Set To: %s\" % CLIENT_CREDENTIALS)\n"
      ],
      "metadata": {
        "colab_type": "code"
      },
      "cell_type": "code"
    },
    {
      "source": [
        "#4. Enter Trends Places To Sheets Via Query Parameters\n",
        "Move using a WOEID query.\n",
        " 1. Provide <a href='https://apps.twitter.com/' target='_blank'>Twitter credentials</a>.\n",
        " 1. Provide BigQuery WOEID source query.\n",
        " 1. Specify Sheet url and tab to write API call results to.\n",
        " 1. Writes: WOEID, Name, Url, Promoted_Content, Query, Tweet_Volume\n",
        " 1. Note Twitter API is rate limited to 15 requests per 15 minutes. So keep WOEID lists short.\n",
        "Modify the values below for your use case, can be done multiple times, then click play.\n"
      ],
      "metadata": {
        "colab_type": "text"
      },
      "cell_type": "markdown"
    },
    {
      "source": [
        "FIELDS = {\n",
        "  'secret': '',\n",
        "  'auth_write': 'service',  # Credentials used for writing data.\n",
        "  'key': '',\n",
        "  'places_dataset': '',\n",
        "  'places_query': '',\n",
        "  'places_legacy': False,\n",
        "  'destination_sheet': '',\n",
        "  'destination_tab': '',\n",
        "}\n",
        "\n",
        "print(\"Parameters Set To: %s\" % FIELDS)\n"
      ],
      "metadata": {
        "colab_type": "code"
      },
      "cell_type": "code"
    },
    {
      "source": [
        "#5. Execute Trends Places To Sheets Via Query\n",
        "This does NOT need to be modified unles you are changing the recipe, click play.\n"
      ],
      "metadata": {
        "colab_type": "text"
      },
      "cell_type": "markdown"
    },
    {
      "source": [
        "from starthinker.util.project import project\n",
        "from starthinker.script.parse import json_set_fields\n",
        "\n",
        "USER_CREDENTIALS = '/content/user.json'\n",
        "\n",
        "TASKS = [\n",
        "  {\n",
        "    'twitter': {\n",
        "      'secret': {'field': {'order': 1,'name': 'secret','default': '','kind': 'string'}},\n",
        "      'trends': {\n",
        "        'places': {\n",
        "          'bigquery': {\n",
        "            'dataset': {'field': {'order': 3,'name': 'places_dataset','default': '','kind': 'string'}},\n",
        "            'query': {'field': {'order': 4,'name': 'places_query','default': '','kind': 'string'}},\n",
        "            'legacy': {'field': {'order': 5,'name': 'places_legacy','default': False,'kind': 'boolean'}}\n",
        "          },\n",
        "          'single_cell': True\n",
        "        }\n",
        "      },\n",
        "      'auth': 'user',\n",
        "      'key': {'field': {'order': 2,'name': 'key','default': '','kind': 'string'}},\n",
        "      'out': {\n",
        "        'sheets': {\n",
        "          'range': 'A1',\n",
        "          'sheet': {'field': {'order': 6,'name': 'destination_sheet','default': '','kind': 'string'}},\n",
        "          'tab': {'field': {'order': 7,'name': 'destination_tab','default': '','kind': 'string'}}\n",
        "        }\n",
        "      }\n",
        "    }\n",
        "  }\n",
        "]\n",
        "\n",
        "json_set_fields(TASKS, FIELDS)\n",
        "\n",
        "project.initialize(_recipe={ 'tasks':TASKS }, _project=CLOUD_PROJECT, _user=USER_CREDENTIALS, _client=CLIENT_CREDENTIALS, _verbose=True, _force=True)\n",
        "project.execute(_force=True)\n"
      ],
      "metadata": {
        "colab_type": "code"
      },
      "cell_type": "code"
    }
  ],
  "copyright": "Copyright 2020 Google LLC"
}