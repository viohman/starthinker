{
  "license": "Apache License, Version 2.0",
  "copyright": "Copyright 2018 Google Inc.",
  "nbformat": "4",
  "nbformat_minor": "0",
  "metadata": {
    "colab": {
      "name": "Salesforce To BigQuery",
      "provenance": [],
      "collapsed_sections": [],
      "toc_visible": true
    },
    "kernelspec": {
      "name": "python3",
      "display_name": "Python 3"
    }
  },
  "cells": [
    {
      "cell_type": "markdown",
      "metadata": {
        "colab_type": "text"
      },
      "source": [
        "#1. Install Dependencies\n",
        "First install the libraries needed to execute recipes, this only needs to be done once, then click play.\n"
      ]
    },
    {
      "cell_type": "code",
      "metadata": {
        "colab_type": "code"
      },
      "source": [
        "!pip install git+https://github.com/google/starthinker\n"
      ]
    },
    {
      "cell_type": "markdown",
      "metadata": {
        "colab_type": "text"
      },
      "source": [
        "#2. Get Cloud Project ID\n",
        "To run this recipe [requires a Google Cloud Project](https://github.com/google/starthinker/blob/master/tutorials/cloud_project.md), this only needs to be done once, then click play.\n"
      ]
    },
    {
      "cell_type": "code",
      "metadata": {
        "colab_type": "code"
      },
      "source": [
        "CLOUD_PROJECT = 'PASTE PROJECT ID HERE'\n",
        "\n",
        "print(\"Cloud Project Set To: %s\" % CLOUD_PROJECT)\n"
      ]
    },
    {
      "cell_type": "markdown",
      "metadata": {
        "colab_type": "text"
      },
      "source": [
        "#3. Get Client Credentials\n",
        "To read and write to various endpoints requires [downloading client credentials](https://github.com/google/starthinker/blob/master/tutorials/cloud_client_installed.md), this only needs to be done once, then click play.\n"
      ]
    },
    {
      "cell_type": "code",
      "metadata": {
        "colab_type": "code"
      },
      "source": [
        "CLIENT_CREDENTIALS = 'PASTE CREDENTIALS HERE'\n",
        "\n",
        "print(\"Client Credentials Set To: %s\" % CLIENT_CREDENTIALS)\n"
      ]
    },
    {
      "cell_type": "markdown",
      "metadata": {
        "colab_type": "text"
      },
      "source": [
        "#4. Enter Salesforce To BigQuery Parameters\n",
        "Move query results into a BigQuery table.\n",
        " 1. Specify <a href='https://developer.salesforce.com/' target='_blank'>Salesforce</a> credentials.\n",
        " 1. Specify the query youd like to execute.\n",
        " 1. Specify a <a href='https://cloud.google.com/bigquery/docs/schemas#creating_a_json_schema_file' target='_blank'>SCHEMA</a> for that query ( optional ).\n",
        "Modify the values below for your use case, can be done multiple times, then click play.\n"
      ]
    },
    {
      "cell_type": "code",
      "metadata": {
        "colab_type": "code"
      },
      "source": [
        "FIELDS = {\n",
        "  'domain': 'login.salesforce.com',  # Retrieve from a Salesforce Domain.\n",
        "  'client': '',  # Retrieve from a Salesforce App.\n",
        "  'secret': '',  # Retrieve from a Salesforce App.\n",
        "  'username': '',  # Your Salesforce user email.\n",
        "  'password': '',  # Your Salesforce login password.\n",
        "  'query': '',  # The query to run in Salesforce.\n",
        "  'auth_read': 'user',  # Credentials used for reading data.\n",
        "  'dataset': '',  # Existing BigQuery dataset.\n",
        "  'table': '',  # Table to create from this report.\n",
        "  'schema': '[]',  # Schema provided in JSON list format or empty list.\n",
        "}\n",
        "\n",
        "print(\"Parameters Set To: %s\" % FIELDS)\n"
      ]
    },
    {
      "cell_type": "markdown",
      "metadata": {
        "colab_type": "text"
      },
      "source": [
        "#5. Execute Salesforce To BigQuery\n",
        "This does NOT need to be modified unles you are changing the recipe, click play.\n"
      ]
    },
    {
      "cell_type": "code",
      "metadata": {
        "colab_type": "code"
      },
      "source": [
        "from starthinker.util.project import project\n",
        "from starthinker.script.parse import json_set_fields\n",
        "\n",
        "USER_CREDENTIALS = '/content/user.json'\n",
        "\n",
        "TASKS = [\n",
        "  {\n",
        "    'salesforce': {\n",
        "      'auth': 'user',\n",
        "      'domain': {'field': {'name': 'domain','kind': 'string','default': 'login.salesforce.com','description': 'Retrieve from a Salesforce Domain.'}},\n",
        "      'client': {'field': {'name': 'client','kind': 'string','default': '','description': 'Retrieve from a Salesforce App.'}},\n",
        "      'secret': {'field': {'name': 'secret','kind': 'string','default': '','description': 'Retrieve from a Salesforce App.'}},\n",
        "      'username': {'field': {'name': 'username','kind': 'email','default': '','description': 'Your Salesforce user email.'}},\n",
        "      'password': {'field': {'name': 'password','kind': 'password','default': '','description': 'Your Salesforce login password.'}},\n",
        "      'query': {'field': {'name': 'query','kind': 'string','default': '','description': 'The query to run in Salesforce.'}},\n",
        "      'out': {\n",
        "        'bigquery': {\n",
        "          'dataset': {'field': {'name': 'dataset','kind': 'string','order': 3,'default': '','description': 'Existing BigQuery dataset.'}},\n",
        "          'table': {'field': {'name': 'table','kind': 'string','order': 4,'default': '','description': 'Table to create from this report.'}},\n",
        "          'schema': {'field': {'name': 'schema','kind': 'json','order': 5,'default': '[]','description': 'Schema provided in JSON list format or empty list.'}}\n",
        "        }\n",
        "      }\n",
        "    }\n",
        "  }\n",
        "]\n",
        "\n",
        "json_set_fields(TASKS, FIELDS)\n",
        "\n",
        "project.initialize(_recipe={ 'tasks':TASKS }, _project=CLOUD_PROJECT, _user=USER_CREDENTIALS, _client=CLIENT_CREDENTIALS, _verbose=True, _force=True)\n",
        "project.execute(_force=True)\n"
      ]
    }
  ]
}