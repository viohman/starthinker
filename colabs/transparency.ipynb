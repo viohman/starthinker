{
  "nbformat": "4",
  "metadata": {
    "kernelspec": {
      "name": "python3",
      "display_name": "Python 3"
    },
    "colab": {
      "collapsed_sections": [],
      "toc_visible": true,
      "name": "Transparency Dashboard",
      "provenance": []
    }
  },
  "license": "Apache License, Version 2.0",
  "nbformat_minor": "0",
  "cells": [
    {
      "source": [
        "#1. Install Dependencies\n",
        "First install the libraries needed to execute recipes, this only needs to be done once, then click play.\n"
      ],
      "metadata": {
        "colab_type": "text"
      },
      "cell_type": "markdown"
    },
    {
      "source": [
        "!pip install git+https://github.com/google/starthinker\n"
      ],
      "metadata": {
        "colab_type": "code"
      },
      "cell_type": "code"
    },
    {
      "source": [
        "#2. Get Cloud Project ID\n",
        "To run this recipe [requires a Google Cloud Project](https://github.com/google/starthinker/blob/master/tutorials/cloud_project.md), this only needs to be done once, then click play.\n"
      ],
      "metadata": {
        "colab_type": "text"
      },
      "cell_type": "markdown"
    },
    {
      "source": [
        "CLOUD_PROJECT = 'PASTE PROJECT ID HERE'\n",
        "\n",
        "print(\"Cloud Project Set To: %s\" % CLOUD_PROJECT)\n"
      ],
      "metadata": {
        "colab_type": "code"
      },
      "cell_type": "code"
    },
    {
      "source": [
        "#3. Get Client Credentials\n",
        "To read and write to various endpoints requires [downloading client credentials](https://github.com/google/starthinker/blob/master/tutorials/cloud_client_installed.md), this only needs to be done once, then click play.\n"
      ],
      "metadata": {
        "colab_type": "text"
      },
      "cell_type": "markdown"
    },
    {
      "source": [
        "CLIENT_CREDENTIALS = 'PASTE CREDENTIALS HERE'\n",
        "\n",
        "print(\"Client Credentials Set To: %s\" % CLIENT_CREDENTIALS)\n"
      ],
      "metadata": {
        "colab_type": "code"
      },
      "cell_type": "code"
    },
    {
      "source": [
        "#4. Enter Transparency Dashboard Parameters\n",
        "Reports the percentage of CM impressions that can be attributed to a specific domain or application.  Allows diagnostic of which domains and apps are misconfigured by publisher resulting in underreporting.\n",
        " 1. Wait for <a href='https://console.cloud.google.com/bigquery?project=UNDEFINED&d=UNDEFINED' target='_blank'>BigQuery : UNDEFINED</a> : UNDEFINED : UNDEFINED</a> to be created.\n",
        " 1. Copy DataStudio <a href='https://datastudio.google.com/c/u/0/datasources/1Az6d9loAHo69GSIyKUfusrtyf_IDqTVs' target='_blank'>Transparency Combined KPI</a> and connect.\n",
        " 1. Copy DataStudio <a href='https://datastudio.google.com/c/u/0/reporting/1foircGRxgYCL_PR8gfdmYOleBacnPKwB/page/QCXj' target='_blank'>Transparency Breakdown</a>.\n",
        " 1. When prompted choose the new data source you just created.\n",
        " 1. Or give these intructions to the client, they will have to join the <a hre='https://groups.google.com/d/forum/starthinker-assets' target='_blank'>StarThinker Assets Group</a>.\n",
        "Modify the values below for your use case, can be done multiple times, then click play.\n"
      ],
      "metadata": {
        "colab_type": "text"
      },
      "cell_type": "markdown"
    },
    {
      "source": [
        "FIELDS = {\n",
        "  'recipe_name': '',  # Name of report in CM, should be unique.\n",
        "  'recipe_project': '',  # Project where BigQuery dataset will be created.\n",
        "  'recipe_slug': '',  # Place where tables will be written in BigQuery.\n",
        "  'dcm_account': '',  # CM account id of client.\n",
        "  'dcm_advertisers': '',  # Comma delimited list of CM advertiser ids.\n",
        "}\n",
        "\n",
        "print(\"Parameters Set To: %s\" % FIELDS)\n"
      ],
      "metadata": {
        "colab_type": "code"
      },
      "cell_type": "code"
    },
    {
      "source": [
        "#5. Execute Transparency Dashboard\n",
        "This does NOT need to be modified unles you are changing the recipe, click play.\n"
      ],
      "metadata": {
        "colab_type": "text"
      },
      "cell_type": "markdown"
    },
    {
      "source": [
        "from starthinker.util.project import project\n",
        "from starthinker.script.parse import json_set_fields\n",
        "\n",
        "USER_CREDENTIALS = '/content/user.json'\n",
        "\n",
        "TASKS = [\n",
        "  {\n",
        "    'dataset': {\n",
        "      'hour': [\n",
        "        1\n",
        "      ],\n",
        "      'dataset': {'field': {'order': 1,'name': 'recipe_slug','default': '','kind': 'string','description': 'Name of Google BigQuery dataset to create.'}},\n",
        "      'auth': 'user'\n",
        "    }\n",
        "  },\n",
        "  {\n",
        "    'dcm': {\n",
        "      'hour': [\n",
        "        2\n",
        "      ],\n",
        "      'auth': 'user',\n",
        "      'report': {\n",
        "        'filters': {\n",
        "          'dfa:advertiser': {\n",
        "            'values': {'field': {'order': 3,'name': 'dcm_advertisers','description': 'Comma delimited list of CM advertiser ids.','kind': 'integer_list'}}\n",
        "          }\n",
        "        },\n",
        "        'account': {'field': {'order': 2,'name': 'dcm_account','default': '','kind': 'integer','description': 'CM account id of client.'}},\n",
        "        'body': {\n",
        "          'schedule': {\n",
        "            'active': True,\n",
        "            'runsOnDayOfMonth': 'DAY_OF_MONTH',\n",
        "            'repeats': 'MONTHLY',\n",
        "            'every': 1\n",
        "          },\n",
        "          'criteria': {\n",
        "            'dateRange': {\n",
        "              'relativeDateRange': 'PREVIOUS_MONTH'\n",
        "            },\n",
        "            'metricNames': [\n",
        "              'dfa:impressions'\n",
        "            ],\n",
        "            'dimensions': [\n",
        "              {\n",
        "                'name': 'dfa:advertiser'\n",
        "              },\n",
        "              {\n",
        "                'name': 'dfa:advertiserId'\n",
        "              },\n",
        "              {\n",
        "                'name': 'dfa:campaign'\n",
        "              },\n",
        "              {\n",
        "                'name': 'dfa:campaignId'\n",
        "              },\n",
        "              {\n",
        "                'name': 'dfa:siteId'\n",
        "              },\n",
        "              {\n",
        "                'name': 'dfa:site'\n",
        "              },\n",
        "              {\n",
        "                'name': 'dfa:adType'\n",
        "              },\n",
        "              {\n",
        "                'name': 'dfa:environment'\n",
        "              },\n",
        "              {\n",
        "                'name': 'dfa:appId'\n",
        "              },\n",
        "              {\n",
        "                'name': 'dfa:app'\n",
        "              }\n",
        "            ]\n",
        "          },\n",
        "          'name': {'field': {'prefix': 'Transparency App For ','name': 'recipe_name','description': 'Name of report in CM, unique.','kind': 'string'}},\n",
        "          'format': 'CSV',\n",
        "          'type': 'STANDARD'\n",
        "        }\n",
        "      }\n",
        "    }\n",
        "  },\n",
        "  {\n",
        "    'dcm': {\n",
        "      'hour': [\n",
        "        2\n",
        "      ],\n",
        "      'auth': 'user',\n",
        "      'report': {\n",
        "        'filters': {\n",
        "          'dfa:advertiser': {\n",
        "            'values': {'field': {'order': 3,'name': 'dcm_advertisers','description': 'Comma delimited list of CM advertiser ids.','kind': 'integer_list'}}\n",
        "          }\n",
        "        },\n",
        "        'account': {'field': {'order': 2,'name': 'dcm_account','default': '','kind': 'integer','description': 'CM account id of client.'}},\n",
        "        'body': {\n",
        "          'schedule': {\n",
        "            'active': True,\n",
        "            'runsOnDayOfMonth': 'DAY_OF_MONTH',\n",
        "            'repeats': 'MONTHLY',\n",
        "            'every': 1\n",
        "          },\n",
        "          'criteria': {\n",
        "            'dateRange': {\n",
        "              'relativeDateRange': 'PREVIOUS_MONTH'\n",
        "            },\n",
        "            'metricNames': [\n",
        "              'dfa:verificationVerifiableImpressions'\n",
        "            ],\n",
        "            'dimensions': [\n",
        "              {\n",
        "                'name': 'dfa:advertiser'\n",
        "              },\n",
        "              {\n",
        "                'name': 'dfa:advertiserId'\n",
        "              },\n",
        "              {\n",
        "                'name': 'dfa:campaign'\n",
        "              },\n",
        "              {\n",
        "                'name': 'dfa:campaignId'\n",
        "              },\n",
        "              {\n",
        "                'name': 'dfa:site'\n",
        "              },\n",
        "              {\n",
        "                'name': 'dfa:siteId'\n",
        "              },\n",
        "              {\n",
        "                'name': 'dfa:adType'\n",
        "              },\n",
        "              {\n",
        "                'name': 'dfa:domain'\n",
        "              }\n",
        "            ]\n",
        "          },\n",
        "          'name': {'field': {'prefix': 'Transparency Domain For ','name': 'recipe_name','description': 'Name of report in CM, unique.','kind': 'string'}},\n",
        "          'format': 'CSV',\n",
        "          'type': 'STANDARD'\n",
        "        }\n",
        "      }\n",
        "    }\n",
        "  },\n",
        "  {\n",
        "    'dcm': {\n",
        "      'hour': [\n",
        "        4\n",
        "      ],\n",
        "      'auth': 'user',\n",
        "      'report': {\n",
        "        'account': {'field': {'order': 2,'name': 'dcm_account','default': '','kind': 'integer','description': 'CM account id of client.'}},\n",
        "        'name': {'field': {'prefix': 'Transparency Domain For ','name': 'recipe_name','description': 'Name of report in CM, should be unique.','kind': 'string'}}\n",
        "      },\n",
        "      'out': {\n",
        "        'bigquery': {\n",
        "          'dataset': {'field': {'order': 1,'name': 'recipe_slug','default': '','kind': 'string','description': 'Name of Google BigQuery dataset to create.'}},\n",
        "          'auth': 'user',\n",
        "          'table': 'Transparency_Domain_KPI'\n",
        "        }\n",
        "      }\n",
        "    }\n",
        "  },\n",
        "  {\n",
        "    'dcm': {\n",
        "      'hour': [\n",
        "        4\n",
        "      ],\n",
        "      'auth': 'user',\n",
        "      'report': {\n",
        "        'account': {'field': {'order': 2,'name': 'dcm_account','default': '','kind': 'integer','description': 'CM account id of client.'}},\n",
        "        'name': {'field': {'prefix': 'Transparency App For ','name': 'recipe_name','description': 'Name of report in CM, should be unique.','kind': 'string'}}\n",
        "      },\n",
        "      'out': {\n",
        "        'bigquery': {\n",
        "          'dataset': {'field': {'order': 1,'name': 'recipe_slug','default': '','kind': 'string','description': 'Name of Google BigQuery dataset to create.'}},\n",
        "          'auth': 'user',\n",
        "          'table': 'Transparency_App_KPI'\n",
        "        }\n",
        "      }\n",
        "    }\n",
        "  },\n",
        "  {\n",
        "    'bigquery': {\n",
        "      'hour': [\n",
        "        5\n",
        "      ],\n",
        "      'auth': 'user',\n",
        "      'to': {\n",
        "        'dataset': {'field': {'order': 1,'name': 'recipe_slug','default': '','kind': 'string','description': 'Name of Google BigQuery dataset to create.'}},\n",
        "        'view': 'Transparency_Combined_KPI'\n",
        "      },\n",
        "      'from': {\n",
        "        'legacy': False,\n",
        "        'query': \"With \\r\\nTransparent_Domains AS ( \\r\\n  SELECT\\r\\n    CONCAT(Advertiser, ' - ', CAST(Advertiser_Id AS STRING)) AS Advertiser,\\r\\n    CONCAT(Campaign, ' - ', CAST(Campaign_Id AS STRING)) AS Campaign,\\r\\n    CONCAT(Site_Dcm, ' - ', CAST(Site_Id_Dcm AS STRING)) AS Site,\\r\\n    Domain,\\r\\n    Ad_Type,\\r\\n    Verifiable_Impressions AS Impressions,\\r\\n    IF(Domain IS NOT NULL, Verifiable_Impressions, 0) AS Visible_Impressions,\\r\\n    IF(Domain IS NULL, Verifiable_Impressions, 0) AS Null_Impressions\\r\\n  FROM `[PARAMETER].[PARAMETER].Transparency_Domain_KPI`\\r\\n),\\r\\nTransparent_Apps AS ( \\r\\n  SELECT\\r\\n    CONCAT(Advertiser, ' - ', CAST(Advertiser_Id AS STRING)) AS Advertiser,\\r\\n    CONCAT(Campaign, ' - ', CAST(Campaign_Id AS STRING)) AS Campaign,\\r\\n    CONCAT(Site_Dcm, ' - ', CAST(Site_Id_Dcm AS STRING)) AS Site,\\r\\n    /*If(App IS NOT NULL, CONCAT(App, ' - ', CAST(App_Id AS STRING)), App_Id) AS App, */\\r\\n    CASE \\r\\n      WHEN App IS NOT NULL THEN CONCAT(App, ' - ', CAST(App_Id AS STRING))\\r\\n      WHEN App_Id IS NOT NULL THEN App_Id\\r\\n      ELSE NULL\\r\\n    END AS App,\\r\\n    Ad_Type,\\r\\n    Impressions,\\r\\n    IF(App IS NOT NULL OR App_ID IS NOT NULL, Impressions, 0) AS Visible_Impressions,\\r\\n    IF(App IS NULL AND App_Id IS NULL, Impressions, 0) AS Null_Impressions\\r\\n  FROM `[PARAMETER].[PARAMETER].Transparency_App_KPI`\\r\\n  WHERE Environment = 'App'\\r\\n),\\r\\nDomains_And_Apps AS (\\r\\n  SELECT \\r\\n    TD.Advertiser,\\r\\n    TD.Campaign,\\r\\n    TD.Site,\\r\\n    TD.Ad_Type,\\r\\n    TD.Domain,\\r\\n    TD.Impressions AS Domain_Impressions,\\r\\n    TD.Visible_Impressions AS Domain_Visible_Impressions,\\r\\n    TD.Null_Impressions AS Domain_Null_Impressions,\\r\\n    NULL AS App,\\r\\n    0 AS App_Impressions,\\r\\n    0 AS App_Visible_Impressions,\\r\\n    0 AS App_Null_Impressions\\r\\n  FROM Transparent_Domains AS TD\\r\\n  UNION ALL\\r\\n  SELECT \\r\\n    TA.Advertiser,\\r\\n    TA.Campaign,\\r\\n    TA.Site,\\r\\n    TA.Ad_Type,\\r\\n    NULL AS Domain,\\r\\n    0 AS Domain_Impressions,\\r\\n    0 AS Domain_Visible_Impressions,\\r\\n    0 AS Domain_Null_Impressions,\\r\\n    TA.App,\\r\\n    TA.Impressions AS App_Impressions,\\r\\n    TA.Visible_Impressions AS App_Visible_Impressions,\\r\\n    TA.Null_Impressions AS App_Null_Impressions\\r\\n  FROM Transparent_Apps AS TA\\r\\n)\\r\\n\\r\\n  SELECT\\r\\n    Advertiser,\\r\\n    Campaign,\\r\\n    Site,\\r\\n    COALESCE(Domain, App, '') AS Domain_Or_App,\\r\\n    Ad_Type,\\r\\n    CASE\\r\\n      WHEN App IS NOT NULL AND Domain IS NOT NULL THEN 'Both' /* SHOULD NOT HAPPEN */\\r\\n      WHEN App IS NOT NULL THEN 'App'\\r\\n      WHEN Domain IS NOT NULL Then 'Domain'\\r\\n      ELSE 'Neither'\\r\\n    END AS Category,\\r\\n\\r\\n    SUM(Domain_Impressions) AS Domain_Impressions,\\r\\n    SUM(Domain_Visible_Impressions) AS Domain_Visible_Impressions,\\r\\n    SUM(Domain_Null_Impressions) AS Domain_Null_Impressions,\\r\\n\\r\\n    SUM(App_Impressions) AS App_Impressions,\\r\\n    SUM(App_Visible_Impressions) AS App_Visible_Impressions,\\r\\n    SUM(App_Null_Impressions) AS App_Null_Impressions,\\r\\n\\r\\n    SUM(App_Impressions + Domain_Impressions) AS Impressions /* Could also be MAX as its always one or the other*/\\r\\n\\r\\n  FROM Domains_And_Apps\\r\\n  GROUP By 1,2,3,4,5,6\",\n",
        "        'parameters': [\n",
        "          {'field': {'name': 'recipe_project','description': 'Project where BigQuery dataset will be created.','kind': 'string'}},\n",
        "          {'field': {'name': 'recipe_slug','description': 'Place where tables will be written in BigQuery.','kind': 'string'}},\n",
        "          {'field': {'name': 'recipe_project','description': 'Project where BigQuery dataset will be created.','kind': 'string'}},\n",
        "          {'field': {'name': 'recipe_slug','description': 'Place where tables will be written in BigQuery.','kind': 'string'}}\n",
        "        ]\n",
        "      }\n",
        "    }\n",
        "  }\n",
        "]\n",
        "\n",
        "json_set_fields(TASKS, FIELDS)\n",
        "\n",
        "project.initialize(_recipe={ 'tasks':TASKS }, _project=CLOUD_PROJECT, _user=USER_CREDENTIALS, _client=CLIENT_CREDENTIALS, _verbose=True, _force=True)\n",
        "project.execute(_force=True)\n"
      ],
      "metadata": {
        "colab_type": "code"
      },
      "cell_type": "code"
    }
  ],
  "copyright": "Copyright 2020 Google LLC"
}