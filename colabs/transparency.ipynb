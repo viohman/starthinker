{
  "license": "Apache License, Version 2.0",
  "copyright": "Copyright 2018 Google Inc.",
  "nbformat": "4",
  "nbformat_minor": "0",
  "metadata": {
    "colab": {
      "name": "Transparency Dashboard",
      "provenance": [],
      "collapsed_sections": [],
      "toc_visible": true
    },
    "kernelspec": {
      "name": "python3",
      "display_name": "Python 3"
    }
  },
  "cells": [
    {
      "cell_type": "markdown",
      "metadata": {
        "colab_type": "text"
      },
      "source": [
        "#1. Install Dependencies\n",
        "First install the libraries needed to execute recipes, this only needs to be done once, then click play.\n"
      ]
    },
    {
      "cell_type": "code",
      "metadata": {
        "colab_type": "code"
      },
      "source": [
        "!pip install git+https://github.com/google/starthinker\n"
      ]
    },
    {
      "cell_type": "markdown",
      "metadata": {
        "colab_type": "text"
      },
      "source": [
        "#2. Get Cloud Project ID\n",
        "To run this recipe [requires a Google Cloud Project](https://github.com/google/starthinker/blob/master/tutorials/cloud_project.md), this only needs to be done once, then click play.\n"
      ]
    },
    {
      "cell_type": "code",
      "metadata": {
        "colab_type": "code"
      },
      "source": [
        "CLOUD_PROJECT = 'PASTE PROJECT ID HERE'\n",
        "\n",
        "print(\"Cloud Project Set To: %s\" % CLOUD_PROJECT)\n"
      ]
    },
    {
      "cell_type": "markdown",
      "metadata": {
        "colab_type": "text"
      },
      "source": [
        "#3. Get Client Credentials\n",
        "To read and write to various endpoints requires [downloading client credentials](https://github.com/google/starthinker/blob/master/tutorials/cloud_client_installed.md), this only needs to be done once, then click play.\n"
      ]
    },
    {
      "cell_type": "code",
      "metadata": {
        "colab_type": "code"
      },
      "source": [
        "CLIENT_CREDENTIALS = 'PASTE CREDENTIALS HERE'\n",
        "\n",
        "print(\"Client Credentials Set To: %s\" % CLIENT_CREDENTIALS)\n"
      ]
    },
    {
      "cell_type": "markdown",
      "metadata": {
        "colab_type": "text"
      },
      "source": [
        "#4. Enter Transparency Dashboard Parameters\n",
        "Reports the percentage of CM impressions that can be attributed to a specific domain or application.  Allows diagnostic of which domains and apps are misconfigured by publisher resulting in underreporting.\n",
        " 1. Wait for <a href='https://console.cloud.google.com/bigquery?project=UNDEFINED&d=UNDEFINED' target='_blank'>BigQuery : UNDEFINED</a> : UNDEFINED : UNDEFINED</a> to be created.\n",
        " 1. Copy DataStudio <a href='https://datastudio.google.com/c/u/0/datasources/1Az6d9loAHo69GSIyKUfusrtyf_IDqTVs' target='_blank'>Transparency Combined KPI</a> and connect.\n",
        " 1. Copy DataStudio <a href='https://datastudio.google.com/c/u/0/reporting/1foircGRxgYCL_PR8gfdmYOleBacnPKwB/page/QCXj' target='_blank'>Transparency Breakdown</a>.\n",
        " 1. When prompted choose the new data source you just created.\n",
        " 1. Or give these intructions to the client, they will have to join the <a hre='https://groups.google.com/d/forum/starthinker-assets' target='_blank'>StarThinker Assets Group</a>.\n",
        "Modify the values below for your use case, can be done multiple times, then click play.\n"
      ]
    },
    {
      "cell_type": "code",
      "metadata": {
        "colab_type": "code"
      },
      "source": [
        "FIELDS = {\n",
        "  'recipe_slug': '',  # Place where tables will be written in BigQuery.\n",
        "  'recipe_name': '',  # Name of report in CM, should be unique.\n",
        "  'recipe_project': '',  # Project where BigQuery dataset will be created.\n",
        "  'dcm_account': '',  # CM account id of client.\n",
        "  'dcm_advertisers': '',  # Comma delimited list of CM advertiser ids.\n",
        "}\n",
        "\n",
        "print(\"Parameters Set To: %s\" % FIELDS)\n"
      ]
    },
    {
      "cell_type": "markdown",
      "metadata": {
        "colab_type": "text"
      },
      "source": [
        "#5. Execute Transparency Dashboard\n",
        "This does NOT need to be modified unles you are changing the recipe, click play.\n"
      ]
    },
    {
      "cell_type": "code",
      "metadata": {
        "colab_type": "code"
      },
      "source": [
        "from starthinker.util.project import project\n",
        "from starthinker.script.parse import json_set_fields\n",
        "\n",
        "USER_CREDENTIALS = '/content/user.json'\n",
        "\n",
        "TASKS = [\n",
        "  {\n",
        "    'dataset': {\n",
        "      'hour': [\n",
        "        1\n",
        "      ],\n",
        "      'auth': 'user',\n",
        "      'dataset': {'field': {'name': 'recipe_slug','kind': 'string','order': 1,'default': '','description': 'Name of Google BigQuery dataset to create.'}}\n",
        "    }\n",
        "  },\n",
        "  {\n",
        "    'dcm': {\n",
        "      'hour': [\n",
        "        2\n",
        "      ],\n",
        "      'auth': 'user',\n",
        "      'report': {\n",
        "        'account': {'field': {'name': 'dcm_account','kind': 'integer','order': 2,'default': '','description': 'CM account id of client.'}},\n",
        "        'filters': {\n",
        "          'dfa:advertiser': {\n",
        "            'values': {'field': {'name': 'dcm_advertisers','kind': 'integer_list','order': 3,'description': 'Comma delimited list of CM advertiser ids.'}}\n",
        "          }\n",
        "        },\n",
        "        'body': {\n",
        "          'type': 'STANDARD',\n",
        "          'format': 'CSV',\n",
        "          'name': {'field': {'name': 'recipe_name','kind': 'string','prefix': 'Transparency App For ','description': 'Name of report in CM, unique.'}},\n",
        "          'criteria': {\n",
        "            'dateRange': {\n",
        "              'relativeDateRange': 'PREVIOUS_MONTH'\n",
        "            },\n",
        "            'dimensions': [\n",
        "              {\n",
        "                'name': 'dfa:advertiser'\n",
        "              },\n",
        "              {\n",
        "                'name': 'dfa:advertiserId'\n",
        "              },\n",
        "              {\n",
        "                'name': 'dfa:campaign'\n",
        "              },\n",
        "              {\n",
        "                'name': 'dfa:campaignId'\n",
        "              },\n",
        "              {\n",
        "                'name': 'dfa:siteId'\n",
        "              },\n",
        "              {\n",
        "                'name': 'dfa:site'\n",
        "              },\n",
        "              {\n",
        "                'name': 'dfa:adType'\n",
        "              },\n",
        "              {\n",
        "                'name': 'dfa:environment'\n",
        "              },\n",
        "              {\n",
        "                'name': 'dfa:appId'\n",
        "              },\n",
        "              {\n",
        "                'name': 'dfa:app'\n",
        "              }\n",
        "            ],\n",
        "            'metricNames': [\n",
        "              'dfa:impressions'\n",
        "            ]\n",
        "          },\n",
        "          'schedule': {\n",
        "            'active': True,\n",
        "            'every': 1,\n",
        "            'repeats': 'MONTHLY',\n",
        "            'runsOnDayOfMonth': 'DAY_OF_MONTH'\n",
        "          }\n",
        "        }\n",
        "      }\n",
        "    }\n",
        "  },\n",
        "  {\n",
        "    'dcm': {\n",
        "      'hour': [\n",
        "        2\n",
        "      ],\n",
        "      'auth': 'user',\n",
        "      'report': {\n",
        "        'account': {'field': {'name': 'dcm_account','kind': 'integer','order': 2,'default': '','description': 'CM account id of client.'}},\n",
        "        'filters': {\n",
        "          'dfa:advertiser': {\n",
        "            'values': {'field': {'name': 'dcm_advertisers','kind': 'integer_list','order': 3,'description': 'Comma delimited list of CM advertiser ids.'}}\n",
        "          }\n",
        "        },\n",
        "        'body': {\n",
        "          'type': 'STANDARD',\n",
        "          'format': 'CSV',\n",
        "          'name': {'field': {'name': 'recipe_name','kind': 'string','prefix': 'Transparency Domain For ','description': 'Name of report in CM, unique.'}},\n",
        "          'criteria': {\n",
        "            'dateRange': {\n",
        "              'relativeDateRange': 'PREVIOUS_MONTH'\n",
        "            },\n",
        "            'dimensions': [\n",
        "              {\n",
        "                'name': 'dfa:advertiser'\n",
        "              },\n",
        "              {\n",
        "                'name': 'dfa:advertiserId'\n",
        "              },\n",
        "              {\n",
        "                'name': 'dfa:campaign'\n",
        "              },\n",
        "              {\n",
        "                'name': 'dfa:campaignId'\n",
        "              },\n",
        "              {\n",
        "                'name': 'dfa:site'\n",
        "              },\n",
        "              {\n",
        "                'name': 'dfa:siteId'\n",
        "              },\n",
        "              {\n",
        "                'name': 'dfa:adType'\n",
        "              },\n",
        "              {\n",
        "                'name': 'dfa:domain'\n",
        "              }\n",
        "            ],\n",
        "            'metricNames': [\n",
        "              'dfa:verificationVerifiableImpressions'\n",
        "            ]\n",
        "          },\n",
        "          'schedule': {\n",
        "            'active': True,\n",
        "            'every': 1,\n",
        "            'repeats': 'MONTHLY',\n",
        "            'runsOnDayOfMonth': 'DAY_OF_MONTH'\n",
        "          }\n",
        "        }\n",
        "      }\n",
        "    }\n",
        "  },\n",
        "  {\n",
        "    'dcm': {\n",
        "      'hour': [\n",
        "        4\n",
        "      ],\n",
        "      'auth': 'user',\n",
        "      'report': {\n",
        "        'account': {'field': {'name': 'dcm_account','kind': 'integer','order': 2,'default': '','description': 'CM account id of client.'}},\n",
        "        'name': {'field': {'name': 'recipe_name','kind': 'string','prefix': 'Transparency Domain For ','description': 'Name of report in CM, should be unique.'}}\n",
        "      },\n",
        "      'out': {\n",
        "        'bigquery': {\n",
        "          'auth': 'user',\n",
        "          'dataset': {'field': {'name': 'recipe_slug','kind': 'string','order': 1,'default': '','description': 'Name of Google BigQuery dataset to create.'}},\n",
        "          'table': 'Transparency_Domain_KPI'\n",
        "        }\n",
        "      }\n",
        "    }\n",
        "  },\n",
        "  {\n",
        "    'dcm': {\n",
        "      'hour': [\n",
        "        4\n",
        "      ],\n",
        "      'auth': 'user',\n",
        "      'report': {\n",
        "        'account': {'field': {'name': 'dcm_account','kind': 'integer','order': 2,'default': '','description': 'CM account id of client.'}},\n",
        "        'name': {'field': {'name': 'recipe_name','kind': 'string','prefix': 'Transparency App For ','description': 'Name of report in CM, should be unique.'}}\n",
        "      },\n",
        "      'out': {\n",
        "        'bigquery': {\n",
        "          'auth': 'user',\n",
        "          'dataset': {'field': {'name': 'recipe_slug','kind': 'string','order': 1,'default': '','description': 'Name of Google BigQuery dataset to create.'}},\n",
        "          'table': 'Transparency_App_KPI'\n",
        "        }\n",
        "      }\n",
        "    }\n",
        "  },\n",
        "  {\n",
        "    'bigquery': {\n",
        "      'hour': [\n",
        "        5\n",
        "      ],\n",
        "      'auth': 'user',\n",
        "      'to': {\n",
        "        'dataset': {'field': {'name': 'recipe_slug','kind': 'string','order': 1,'default': '','description': 'Name of Google BigQuery dataset to create.'}},\n",
        "        'view': 'Transparency_Combined_KPI'\n",
        "      },\n",
        "      'from': {\n",
        "        'query': \"With \\r\\nTransparent_Domains AS ( \\r\\n  SELECT\\r\\n    CONCAT(Advertiser, ' - ', CAST(Advertiser_Id AS STRING)) AS Advertiser,\\r\\n    CONCAT(Campaign, ' - ', CAST(Campaign_Id AS STRING)) AS Campaign,\\r\\n    CONCAT(Site_Dcm, ' - ', CAST(Site_Id_Dcm AS STRING)) AS Site,\\r\\n    Domain,\\r\\n    Ad_Type,\\r\\n    Verifiable_Impressions AS Impressions,\\r\\n    IF(Domain IS NOT NULL, Verifiable_Impressions, 0) AS Visible_Impressions,\\r\\n    IF(Domain IS NULL, Verifiable_Impressions, 0) AS Null_Impressions\\r\\n  FROM `[PARAMETER].[PARAMETER].Transparency_Domain_KPI`\\r\\n),\\r\\nTransparent_Apps AS ( \\r\\n  SELECT\\r\\n    CONCAT(Advertiser, ' - ', CAST(Advertiser_Id AS STRING)) AS Advertiser,\\r\\n    CONCAT(Campaign, ' - ', CAST(Campaign_Id AS STRING)) AS Campaign,\\r\\n    CONCAT(Site_Dcm, ' - ', CAST(Site_Id_Dcm AS STRING)) AS Site,\\r\\n    /*If(App IS NOT NULL, CONCAT(App, ' - ', CAST(App_Id AS STRING)), App_Id) AS App, */\\r\\n    CASE \\r\\n      WHEN App IS NOT NULL THEN CONCAT(App, ' - ', CAST(App_Id AS STRING))\\r\\n      WHEN App_Id IS NOT NULL THEN App_Id\\r\\n      ELSE NULL\\r\\n    END AS App,\\r\\n    Ad_Type,\\r\\n    Impressions,\\r\\n    IF(App IS NOT NULL OR App_ID IS NOT NULL, Impressions, 0) AS Visible_Impressions,\\r\\n    IF(App IS NULL AND App_Id IS NULL, Impressions, 0) AS Null_Impressions\\r\\n  FROM `[PARAMETER].[PARAMETER].Transparency_App_KPI`\\r\\n  WHERE Environment = 'App'\\r\\n),\\r\\nDomains_And_Apps AS (\\r\\n  SELECT \\r\\n    TD.Advertiser,\\r\\n    TD.Campaign,\\r\\n    TD.Site,\\r\\n    TD.Ad_Type,\\r\\n    TD.Domain,\\r\\n    TD.Impressions AS Domain_Impressions,\\r\\n    TD.Visible_Impressions AS Domain_Visible_Impressions,\\r\\n    TD.Null_Impressions AS Domain_Null_Impressions,\\r\\n    NULL AS App,\\r\\n    0 AS App_Impressions,\\r\\n    0 AS App_Visible_Impressions,\\r\\n    0 AS App_Null_Impressions\\r\\n  FROM Transparent_Domains AS TD\\r\\n  UNION ALL\\r\\n  SELECT \\r\\n    TA.Advertiser,\\r\\n    TA.Campaign,\\r\\n    TA.Site,\\r\\n    TA.Ad_Type,\\r\\n    NULL AS Domain,\\r\\n    0 AS Domain_Impressions,\\r\\n    0 AS Domain_Visible_Impressions,\\r\\n    0 AS Domain_Null_Impressions,\\r\\n    TA.App,\\r\\n    TA.Impressions AS App_Impressions,\\r\\n    TA.Visible_Impressions AS App_Visible_Impressions,\\r\\n    TA.Null_Impressions AS App_Null_Impressions\\r\\n  FROM Transparent_Apps AS TA\\r\\n)\\r\\n\\r\\n  SELECT\\r\\n    Advertiser,\\r\\n    Campaign,\\r\\n    Site,\\r\\n    COALESCE(Domain, App, '') AS Domain_Or_App,\\r\\n    Ad_Type,\\r\\n    CASE\\r\\n      WHEN App IS NOT NULL AND Domain IS NOT NULL THEN 'Both' /* SHOULD NOT HAPPEN */\\r\\n      WHEN App IS NOT NULL THEN 'App'\\r\\n      WHEN Domain IS NOT NULL Then 'Domain'\\r\\n      ELSE 'Neither'\\r\\n    END AS Category,\\r\\n\\r\\n    SUM(Domain_Impressions) AS Domain_Impressions,\\r\\n    SUM(Domain_Visible_Impressions) AS Domain_Visible_Impressions,\\r\\n    SUM(Domain_Null_Impressions) AS Domain_Null_Impressions,\\r\\n\\r\\n    SUM(App_Impressions) AS App_Impressions,\\r\\n    SUM(App_Visible_Impressions) AS App_Visible_Impressions,\\r\\n    SUM(App_Null_Impressions) AS App_Null_Impressions,\\r\\n\\r\\n    SUM(App_Impressions + Domain_Impressions) AS Impressions /* Could also be MAX as its always one or the other*/\\r\\n\\r\\n  FROM Domains_And_Apps\\r\\n  GROUP By 1,2,3,4,5,6\",\n",
        "        'parameters': [\n",
        "          {'field': {'name': 'recipe_project','kind': 'string','description': 'Project where BigQuery dataset will be created.'}},\n",
        "          {'field': {'name': 'recipe_slug','kind': 'string','description': 'Place where tables will be written in BigQuery.'}},\n",
        "          {'field': {'name': 'recipe_project','kind': 'string','description': 'Project where BigQuery dataset will be created.'}},\n",
        "          {'field': {'name': 'recipe_slug','kind': 'string','description': 'Place where tables will be written in BigQuery.'}}\n",
        "        ],\n",
        "        'legacy': False\n",
        "      }\n",
        "    }\n",
        "  }\n",
        "]\n",
        "\n",
        "json_set_fields(TASKS, FIELDS)\n",
        "\n",
        "project.initialize(_recipe={ 'tasks':TASKS }, _project=CLOUD_PROJECT, _user=USER_CREDENTIALS, _client=CLIENT_CREDENTIALS, _verbose=True, _force=True)\n",
        "project.execute(_force=True)\n"
      ]
    }
  ]
}