{
  "nbformat": "4",
  "metadata": {
    "kernelspec": {
      "name": "python3",
      "display_name": "Python 3"
    },
    "colab": {
      "collapsed_sections": [],
      "toc_visible": true,
      "name": "SmartSheet Sheet To BigQuery",
      "provenance": []
    }
  },
  "license": "Apache License, Version 2.0",
  "nbformat_minor": "0",
  "cells": [
    {
      "source": [
        "#1. Install Dependencies\n",
        "First install the libraries needed to execute recipes, this only needs to be done once, then click play.\n"
      ],
      "metadata": {
        "colab_type": "text"
      },
      "cell_type": "markdown"
    },
    {
      "source": [
        "!pip install git+https://github.com/google/starthinker\n"
      ],
      "metadata": {
        "colab_type": "code"
      },
      "cell_type": "code"
    },
    {
      "source": [
        "#2. Get Cloud Project ID\n",
        "To run this recipe [requires a Google Cloud Project](https://github.com/google/starthinker/blob/master/tutorials/cloud_project.md), this only needs to be done once, then click play.\n"
      ],
      "metadata": {
        "colab_type": "text"
      },
      "cell_type": "markdown"
    },
    {
      "source": [
        "CLOUD_PROJECT = 'PASTE PROJECT ID HERE'\n",
        "\n",
        "print(\"Cloud Project Set To: %s\" % CLOUD_PROJECT)\n"
      ],
      "metadata": {
        "colab_type": "code"
      },
      "cell_type": "code"
    },
    {
      "source": [
        "#3. Get Client Credentials\n",
        "To read and write to various endpoints requires [downloading client credentials](https://github.com/google/starthinker/blob/master/tutorials/cloud_client_installed.md), this only needs to be done once, then click play.\n"
      ],
      "metadata": {
        "colab_type": "text"
      },
      "cell_type": "markdown"
    },
    {
      "source": [
        "CLIENT_CREDENTIALS = 'PASTE CREDENTIALS HERE'\n",
        "\n",
        "print(\"Client Credentials Set To: %s\" % CLIENT_CREDENTIALS)\n"
      ],
      "metadata": {
        "colab_type": "code"
      },
      "cell_type": "code"
    },
    {
      "source": [
        "#4. Enter SmartSheet Sheet To BigQuery Parameters\n",
        "Move sheet data into a BigQuery table.\n",
        " 1. Specify <a href='https://smartsheet-platform.github.io/api-docs/' target='_blank'>SmartSheet</a> token.\n",
        " 1. Locate the ID of a sheet by viewing its properties.\n",
        " 1. Provide a BigQuery dataset ( must exist ) and table to write the data into.\n",
        " 1. StarThinker will automatically map the correct schema.\n",
        "Modify the values below for your use case, can be done multiple times, then click play.\n"
      ],
      "metadata": {
        "colab_type": "text"
      },
      "cell_type": "markdown"
    },
    {
      "source": [
        "FIELDS = {\n",
        "  'auth_read': 'user',  # Credentials used for reading data.\n",
        "  'auth_write': 'service',  # Credentials used for writing data.\n",
        "  'token': '',  # Retrieve from SmartSheet account settings.\n",
        "  'sheet': '',  # Retrieve from sheet properties.\n",
        "  'dataset': '',  # Existing BigQuery dataset.\n",
        "  'table': '',  # Table to create from this report.\n",
        "  'schema': '',  # Schema provided in JSON list format or leave empty to auto detect.\n",
        "  'link': True,  # Add a link to each row as the first column.\n",
        "}\n",
        "\n",
        "print(\"Parameters Set To: %s\" % FIELDS)\n"
      ],
      "metadata": {
        "colab_type": "code"
      },
      "cell_type": "code"
    },
    {
      "source": [
        "#5. Execute SmartSheet Sheet To BigQuery\n",
        "This does NOT need to be modified unles you are changing the recipe, click play.\n"
      ],
      "metadata": {
        "colab_type": "text"
      },
      "cell_type": "markdown"
    },
    {
      "source": [
        "from starthinker.util.project import project\n",
        "from starthinker.script.parse import json_set_fields\n",
        "\n",
        "USER_CREDENTIALS = '/content/user.json'\n",
        "\n",
        "TASKS = [\n",
        "  {\n",
        "    'smartsheet': {\n",
        "      'token': {'field': {'order': 2,'name': 'token','default': '','kind': 'string','description': 'Retrieve from SmartSheet account settings.'}},\n",
        "      'sheet': {'field': {'order': 3,'name': 'sheet','description': 'Retrieve from sheet properties.','kind': 'string'}},\n",
        "      'auth': 'user',\n",
        "      'link': {'field': {'order': 7,'name': 'link','default': True,'kind': 'boolean','description': 'Add a link to each row as the first column.'}},\n",
        "      'out': {\n",
        "        'bigquery': {\n",
        "          'dataset': {'field': {'order': 4,'name': 'dataset','default': '','kind': 'string','description': 'Existing BigQuery dataset.'}},\n",
        "          'auth': 'user',\n",
        "          'schema': {'field': {'order': 6,'name': 'schema','description': 'Schema provided in JSON list format or leave empty to auto detect.','kind': 'json'}},\n",
        "          'table': {'field': {'order': 5,'name': 'table','default': '','kind': 'string','description': 'Table to create from this report.'}}\n",
        "        }\n",
        "      }\n",
        "    }\n",
        "  }\n",
        "]\n",
        "\n",
        "json_set_fields(TASKS, FIELDS)\n",
        "\n",
        "project.initialize(_recipe={ 'tasks':TASKS }, _project=CLOUD_PROJECT, _user=USER_CREDENTIALS, _client=CLIENT_CREDENTIALS, _verbose=True, _force=True)\n",
        "project.execute(_force=True)\n"
      ],
      "metadata": {
        "colab_type": "code"
      },
      "cell_type": "code"
    }
  ],
  "copyright": "Copyright 2020 Google LLC"
}