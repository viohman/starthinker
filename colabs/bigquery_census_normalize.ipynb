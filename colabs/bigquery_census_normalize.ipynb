{
  "nbformat": "4",
  "metadata": {
    "kernelspec": {
      "name": "python3",
      "display_name": "Python 3"
    },
    "colab": {
      "collapsed_sections": [],
      "toc_visible": true,
      "name": "Census Data Normalized",
      "provenance": []
    }
  },
  "license": "Apache License, Version 2.0",
  "nbformat_minor": "0",
  "cells": [
    {
      "source": [
        "#1. Install Dependencies\n",
        "First install the libraries needed to execute recipes, this only needs to be done once, then click play.\n"
      ],
      "metadata": {
        "colab_type": "text"
      },
      "cell_type": "markdown"
    },
    {
      "source": [
        "!pip install git+https://github.com/google/starthinker\n"
      ],
      "metadata": {
        "colab_type": "code"
      },
      "cell_type": "code"
    },
    {
      "source": [
        "#2. Get Cloud Project ID\n",
        "To run this recipe [requires a Google Cloud Project](https://github.com/google/starthinker/blob/master/tutorials/cloud_project.md), this only needs to be done once, then click play.\n"
      ],
      "metadata": {
        "colab_type": "text"
      },
      "cell_type": "markdown"
    },
    {
      "source": [
        "CLOUD_PROJECT = 'PASTE PROJECT ID HERE'\n",
        "\n",
        "print(\"Cloud Project Set To: %s\" % CLOUD_PROJECT)\n"
      ],
      "metadata": {
        "colab_type": "code"
      },
      "cell_type": "code"
    },
    {
      "source": [
        "#3. Get Client Credentials\n",
        "To read and write to various endpoints requires [downloading client credentials](https://github.com/google/starthinker/blob/master/tutorials/cloud_client_installed.md), this only needs to be done once, then click play.\n"
      ],
      "metadata": {
        "colab_type": "text"
      },
      "cell_type": "markdown"
    },
    {
      "source": [
        "CLIENT_CREDENTIALS = 'PASTE CREDENTIALS HERE'\n",
        "\n",
        "print(\"Client Credentials Set To: %s\" % CLIENT_CREDENTIALS)\n"
      ],
      "metadata": {
        "colab_type": "code"
      },
      "cell_type": "code"
    },
    {
      "source": [
        "#4. Enter Census Data Normalized Parameters\n",
        "Convert given census table to percent of population, normalizing it.\n",
        " 1. Specify the geography, year, and span that make up the <a href='https://pantheon.corp.google.com/bigquery?redirect_from_classic=true&p=bigquery-public-data&d=census_bureau_acs&page=dataset' target='_blank'>census table names</a>.\n",
        " 1. Not every combination of geography, year, and span exists or contains all the required fields.\n",
        " 1. Every time the query runs it will overwrite the table.\n",
        "Modify the values below for your use case, can be done multiple times, then click play.\n"
      ],
      "metadata": {
        "colab_type": "text"
      },
      "cell_type": "markdown"
    },
    {
      "source": [
        "FIELDS = {\n",
        "  'auth': 'service',  # Credentials used for writing data.\n",
        "  'census_geography': 'zip_codes',  # Census table to get data from.\n",
        "  'census_year': '2018',  # Census table to get data from.\n",
        "  'census_span': '5yr',  # Census table to get data from.\n",
        "  'dataset': '',  # Existing BigQuery dataset.\n",
        "  'type': 'table',  # Write Census_Percent as table or view.\n",
        "}\n",
        "\n",
        "print(\"Parameters Set To: %s\" % FIELDS)\n"
      ],
      "metadata": {
        "colab_type": "code"
      },
      "cell_type": "code"
    },
    {
      "source": [
        "#5. Execute Census Data Normalized\n",
        "This does NOT need to be modified unles you are changing the recipe, click play.\n"
      ],
      "metadata": {
        "colab_type": "text"
      },
      "cell_type": "markdown"
    },
    {
      "source": [
        "from starthinker.util.project import project\n",
        "from starthinker.script.parse import json_set_fields\n",
        "\n",
        "USER_CREDENTIALS = '/content/user.json'\n",
        "\n",
        "TASKS = [\n",
        "  {\n",
        "    'census': {\n",
        "      'auth': 'user',\n",
        "      'normalize': {\n",
        "        'census_geography': {'field': {'name': 'census_geography','description': 'Census table to get data from.','kind': 'choice','choices': ['zip_codes','state','zcta5','schooldistrictunified','puma','place','county','congressionaldistrict','censustract','cbsa'],'order': 1,'default': 'zip_codes'}},\n",
        "        'census_span': {'field': {'name': 'census_span','description': 'Census table to get data from.','kind': 'choice','choices': ['1yr','3yr','5yr'],'order': 3,'default': '5yr'}},\n",
        "        'census_year': {'field': {'name': 'census_year','description': 'Census table to get data from.','kind': 'choice','choices': [2018,2017,2016,2015,2014,2013,2012,2011,2010,2009,2008,2007],'order': 2,'default': '2018'}}\n",
        "      },\n",
        "      'to': {\n",
        "        'dataset': {'field': {'order': 4,'name': 'dataset','default': '','kind': 'string','description': 'Existing BigQuery dataset.'}},\n",
        "        'type': {'field': {'name': 'type','description': 'Write Census_Percent as table or view.','kind': 'choice','choices': ['table','view'],'order': 5,'default': 'table'}}\n",
        "      }\n",
        "    }\n",
        "  }\n",
        "]\n",
        "\n",
        "json_set_fields(TASKS, FIELDS)\n",
        "\n",
        "project.initialize(_recipe={ 'tasks':TASKS }, _project=CLOUD_PROJECT, _user=USER_CREDENTIALS, _client=CLIENT_CREDENTIALS, _verbose=True, _force=True)\n",
        "project.execute(_force=True)\n"
      ],
      "metadata": {
        "colab_type": "code"
      },
      "cell_type": "code"
    }
  ],
  "copyright": "Copyright 2020 Google LLC"
}