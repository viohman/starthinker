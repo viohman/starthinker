{
  "nbformat": "4",
  "metadata": {
    "kernelspec": {
      "name": "python3",
      "display_name": "Python 3"
    },
    "colab": {
      "collapsed_sections": [],
      "toc_visible": true,
      "name": "Segmentology DV360",
      "provenance": []
    }
  },
  "license": "Apache License, Version 2.0",
  "nbformat_minor": "0",
  "cells": [
    {
      "source": [
        "#1. Install Dependencies\n",
        "First install the libraries needed to execute recipes, this only needs to be done once, then click play.\n"
      ],
      "metadata": {
        "colab_type": "text"
      },
      "cell_type": "markdown"
    },
    {
      "source": [
        "!pip install git+https://github.com/google/starthinker\n"
      ],
      "metadata": {
        "colab_type": "code"
      },
      "cell_type": "code"
    },
    {
      "source": [
        "#2. Get Cloud Project ID\n",
        "To run this recipe [requires a Google Cloud Project](https://github.com/google/starthinker/blob/master/tutorials/cloud_project.md), this only needs to be done once, then click play.\n"
      ],
      "metadata": {
        "colab_type": "text"
      },
      "cell_type": "markdown"
    },
    {
      "source": [
        "CLOUD_PROJECT = 'PASTE PROJECT ID HERE'\n",
        "\n",
        "print(\"Cloud Project Set To: %s\" % CLOUD_PROJECT)\n"
      ],
      "metadata": {
        "colab_type": "code"
      },
      "cell_type": "code"
    },
    {
      "source": [
        "#3. Get Client Credentials\n",
        "To read and write to various endpoints requires [downloading client credentials](https://github.com/google/starthinker/blob/master/tutorials/cloud_client_installed.md), this only needs to be done once, then click play.\n"
      ],
      "metadata": {
        "colab_type": "text"
      },
      "cell_type": "markdown"
    },
    {
      "source": [
        "CLIENT_CREDENTIALS = 'PASTE CREDENTIALS HERE'\n",
        "\n",
        "print(\"Client Credentials Set To: %s\" % CLIENT_CREDENTIALS)\n"
      ],
      "metadata": {
        "colab_type": "code"
      },
      "cell_type": "code"
    },
    {
      "source": [
        "#4. Enter Segmentology DV360 Parameters\n",
        "DV360 funnel analysis using Census data.\n",
        " 1. Wait for <b>BigQuery->UNDEFINED->UNDEFINED->Census_Pivot</b> to be created.\n",
        " 1. Join the <a hre='https://groups.google.com/d/forum/starthinker-assets' target='_blank'>StarThinker Assets Group</a> to access the following assets\n",
        " 1. Copy <a href='https://datastudio.google.com/c/u/0/reporting/4a908845-fdba-4023-9bb7-68666202bafb/page/K15YB/' target='_blank'>DV360 Segmentology</a>. Leave the Data Source as is, you will change it in the next step.\n",
        " 1. Click Edit Connection, and change to <b>BigQuery->UNDEFINED->(field:recipe_slug}->Census_Pivot</b>.\n",
        " 1. Or give these intructions to the client.\n",
        "Modify the values below for your use case, can be done multiple times, then click play.\n"
      ],
      "metadata": {
        "colab_type": "text"
      },
      "cell_type": "markdown"
    },
    {
      "source": [
        "FIELDS = {\n",
        "  'recipe_timezone': 'America/Los_Angeles',  # Timezone for report dates.\n",
        "  'auth_read': 'user',  # Credentials used for reading data.\n",
        "  'recipe_project': '',  # Project ID hosting dataset.\n",
        "  'auth_write': 'service',  # Authorization used for writing data.\n",
        "  'recipe_name': '',  # Name of report, not needed if ID used.\n",
        "  'recipe_slug': '',  # Name of Google BigQuery dataset to create.\n",
        "  'partners': [],  # DV360 partner id.\n",
        "  'advertisers': [],  # Comma delimited list of DV360 advertiser ids.\n",
        "}\n",
        "\n",
        "print(\"Parameters Set To: %s\" % FIELDS)\n"
      ],
      "metadata": {
        "colab_type": "code"
      },
      "cell_type": "code"
    },
    {
      "source": [
        "#5. Execute Segmentology DV360\n",
        "This does NOT need to be modified unles you are changing the recipe, click play.\n"
      ],
      "metadata": {
        "colab_type": "text"
      },
      "cell_type": "markdown"
    },
    {
      "source": [
        "from starthinker.util.project import project\n",
        "from starthinker.script.parse import json_set_fields\n",
        "\n",
        "USER_CREDENTIALS = '/content/user.json'\n",
        "\n",
        "TASKS = [\n",
        "  {\n",
        "    'dataset': {\n",
        "      'hour': [\n",
        "        4\n",
        "      ],\n",
        "      'dataset': {'field': {'name': 'recipe_slug','description': 'Place where tables will be created in BigQuery.','kind': 'string'}},\n",
        "      'auth': 'user',\n",
        "      'description': 'Create a dataset for bigquery tables.'\n",
        "    }\n",
        "  },\n",
        "  {\n",
        "    'bigquery': {\n",
        "      'function': 'pearson_significance_test',\n",
        "      'auth': 'user',\n",
        "      'to': {\n",
        "        'dataset': {'field': {'order': 4,'name': 'recipe_slug','default': '','kind': 'string','description': 'Name of Google BigQuery dataset to create.'}}\n",
        "      }\n",
        "    }\n",
        "  },\n",
        "  {\n",
        "    'dbm': {\n",
        "      'auth': 'user',\n",
        "      'report': {\n",
        "        'filters': {\n",
        "          'FILTER_PARTNER': {\n",
        "            'values': {'field': {'order': 5,'name': 'partners','default': [],'kind': 'integer_list','description': 'DV360 partner id.'}}\n",
        "          },\n",
        "          'FILTER_ADVERTISER': {\n",
        "            'values': {'field': {'order': 6,'name': 'advertisers','default': [],'kind': 'integer_list','description': 'Comma delimited list of DV360 advertiser ids.'}}\n",
        "          }\n",
        "        },\n",
        "        'body': {\n",
        "          'schedule': {\n",
        "            'frequency': 'WEEKLY'\n",
        "          },\n",
        "          'timezoneCode': {'field': {'default': 'America/Los_Angeles','name': 'recipe_timezone','description': 'Timezone for report dates.','kind': 'timezone'}},\n",
        "          'metadata': {\n",
        "            'format': 'CSV',\n",
        "            'title': {'field': {'name': 'recipe_name','description': 'Name of report, not needed if ID used.','kind': 'string','prefix': 'Segmentology ','order': 3,'default': ''}},\n",
        "            'dataRange': 'LAST_30_DAYS'\n",
        "          },\n",
        "          'params': {\n",
        "            'metrics': [\n",
        "              'METRIC_BILLABLE_IMPRESSIONS',\n",
        "              'METRIC_CLICKS',\n",
        "              'METRIC_TOTAL_CONVERSIONS'\n",
        "            ],\n",
        "            'type': 'TYPE_CROSS_PARTNER',\n",
        "            'groupBys': [\n",
        "              'FILTER_PARTNER',\n",
        "              'FILTER_PARTNER_NAME',\n",
        "              'FILTER_ADVERTISER',\n",
        "              'FILTER_ADVERTISER_NAME',\n",
        "              'FILTER_MEDIA_PLAN',\n",
        "              'FILTER_MEDIA_PLAN_NAME',\n",
        "              'FILTER_ZIP_POSTAL_CODE'\n",
        "            ]\n",
        "          }\n",
        "        }\n",
        "      }\n",
        "    }\n",
        "  },\n",
        "  {\n",
        "    'dbm': {\n",
        "      'auth': 'user',\n",
        "      'report': {\n",
        "        'name': {'field': {'name': 'recipe_name','description': 'Name of report, not needed if ID used.','kind': 'string','prefix': 'Segmentology ','order': 3,'default': ''}}\n",
        "      },\n",
        "      'out': {\n",
        "        'bigquery': {\n",
        "          'dataset': {'field': {'order': 4,'name': 'recipe_slug','default': '','kind': 'string','description': 'Name of Google BigQuery dataset to create.'}},\n",
        "          'auth': 'user',\n",
        "          'schema': [\n",
        "            {\n",
        "              'mode': 'REQUIRED',\n",
        "              'name': 'Partner_Id',\n",
        "              'type': 'INTEGER'\n",
        "            },\n",
        "            {\n",
        "              'mode': 'REQUIRED',\n",
        "              'name': 'Partner',\n",
        "              'type': 'STRING'\n",
        "            },\n",
        "            {\n",
        "              'mode': 'REQUIRED',\n",
        "              'name': 'Advertiser_Id',\n",
        "              'type': 'INTEGER'\n",
        "            },\n",
        "            {\n",
        "              'mode': 'REQUIRED',\n",
        "              'name': 'Advertiser',\n",
        "              'type': 'STRING'\n",
        "            },\n",
        "            {\n",
        "              'mode': 'REQUIRED',\n",
        "              'name': 'Campaign_Id',\n",
        "              'type': 'INTEGER'\n",
        "            },\n",
        "            {\n",
        "              'mode': 'REQUIRED',\n",
        "              'name': 'Campaign',\n",
        "              'type': 'STRING'\n",
        "            },\n",
        "            {\n",
        "              'mode': 'NULLABLE',\n",
        "              'name': 'Zip',\n",
        "              'type': 'STRING'\n",
        "            },\n",
        "            {\n",
        "              'mode': 'NULLABLE',\n",
        "              'name': 'Impressions',\n",
        "              'type': 'FLOAT'\n",
        "            },\n",
        "            {\n",
        "              'mode': 'NULLABLE',\n",
        "              'name': 'Clicks',\n",
        "              'type': 'INTEGER'\n",
        "            },\n",
        "            {\n",
        "              'mode': 'NULLABLE',\n",
        "              'name': 'Conversions',\n",
        "              'type': 'FLOAT'\n",
        "            }\n",
        "          ],\n",
        "          'table': 'DV360_KPI'\n",
        "        }\n",
        "      }\n",
        "    }\n",
        "  },\n",
        "  {\n",
        "    'bigquery': {\n",
        "      'auth': 'user',\n",
        "      'to': {\n",
        "        'dataset': {'field': {'name': 'recipe_slug','description': 'Place where tables will be written in BigQuery.','kind': 'string'}},\n",
        "        'view': 'DV360_KPI_Normalized'\n",
        "      },\n",
        "      'from': {\n",
        "        'legacy': False,\n",
        "        'query': 'SELECT            Partner_Id,            Partner,            Advertiser_Id,            Advertiser,            Campaign_Id,            Campaign,            Zip,            SAFE_DIVIDE(Impressions, SUM(Impressions) OVER(PARTITION BY Advertiser_Id)) AS Impression_Percent,            SAFE_DIVIDE(Clicks, Impressions) AS Click_Percent,            SAFE_DIVIDE(Conversions, Impressions) AS Conversion_Percent,            Impressions AS Impressions          FROM            `{project}.{dataset}.DV360_KPI`;        ',\n",
        "        'parameters': {\n",
        "          'dataset': {'field': {'name': 'recipe_slug','description': 'Place where tables will be created in BigQuery.','kind': 'string'}},\n",
        "          'project': {'field': {'name': 'recipe_project','description': 'Project ID hosting dataset.','kind': 'string'}}\n",
        "        }\n",
        "      }\n",
        "    }\n",
        "  },\n",
        "  {\n",
        "    'census': {\n",
        "      'auth': 'user',\n",
        "      'normalize': {\n",
        "        'census_geography': 'zip_codes',\n",
        "        'census_span': '5yr',\n",
        "        'census_year': '2018'\n",
        "      },\n",
        "      'to': {\n",
        "        'dataset': {'field': {'order': 4,'name': 'recipe_slug','default': '','kind': 'string','description': 'Name of Google BigQuery dataset to create.'}},\n",
        "        'type': 'view'\n",
        "      }\n",
        "    }\n",
        "  },\n",
        "  {\n",
        "    'census': {\n",
        "      'auth': 'user',\n",
        "      'correlate': {\n",
        "        'correlate': [\n",
        "          'Impression_Percent',\n",
        "          'Click_Percent',\n",
        "          'Conversion_Percent'\n",
        "        ],\n",
        "        'pass': [\n",
        "          'Partner_Id',\n",
        "          'Partner',\n",
        "          'Advertiser_Id',\n",
        "          'Advertiser',\n",
        "          'Campaign_Id',\n",
        "          'Campaign'\n",
        "        ],\n",
        "        'sum': [\n",
        "          'Impressions'\n",
        "        ],\n",
        "        'dataset': {'field': {'order': 4,'name': 'recipe_slug','default': '','kind': 'string','description': 'Name of Google BigQuery dataset to create.'}},\n",
        "        'significance': 80,\n",
        "        'join': 'Zip',\n",
        "        'table': 'DV360_KPI_Normalized'\n",
        "      },\n",
        "      'to': {\n",
        "        'dataset': {'field': {'order': 4,'name': 'recipe_slug','default': '','kind': 'string','description': 'Name of Google BigQuery dataset to create.'}},\n",
        "        'type': 'view'\n",
        "      }\n",
        "    }\n",
        "  }\n",
        "]\n",
        "\n",
        "json_set_fields(TASKS, FIELDS)\n",
        "\n",
        "project.initialize(_recipe={ 'tasks':TASKS }, _project=CLOUD_PROJECT, _user=USER_CREDENTIALS, _client=CLIENT_CREDENTIALS, _verbose=True, _force=True)\n",
        "project.execute(_force=True)\n"
      ],
      "metadata": {
        "colab_type": "code"
      },
      "cell_type": "code"
    }
  ],
  "copyright": "Copyright 2020 Google LLC"
}