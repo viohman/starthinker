{
  "nbformat": "4",
  "metadata": {
    "kernelspec": {
      "name": "python3",
      "display_name": "Python 3"
    },
    "colab": {
      "collapsed_sections": [],
      "toc_visible": true,
      "name": "Email Fetch",
      "provenance": []
    }
  },
  "license": "Apache License, Version 2.0",
  "nbformat_minor": "0",
  "cells": [
    {
      "source": [
        "#1. Install Dependencies\n",
        "First install the libraries needed to execute recipes, this only needs to be done once, then click play.\n"
      ],
      "metadata": {
        "colab_type": "text"
      },
      "cell_type": "markdown"
    },
    {
      "source": [
        "!pip install git+https://github.com/google/starthinker\n"
      ],
      "metadata": {
        "colab_type": "code"
      },
      "cell_type": "code"
    },
    {
      "source": [
        "#2. Get Cloud Project ID\n",
        "To run this recipe [requires a Google Cloud Project](https://github.com/google/starthinker/blob/master/tutorials/cloud_project.md), this only needs to be done once, then click play.\n"
      ],
      "metadata": {
        "colab_type": "text"
      },
      "cell_type": "markdown"
    },
    {
      "source": [
        "CLOUD_PROJECT = 'PASTE PROJECT ID HERE'\n",
        "\n",
        "print(\"Cloud Project Set To: %s\" % CLOUD_PROJECT)\n"
      ],
      "metadata": {
        "colab_type": "code"
      },
      "cell_type": "code"
    },
    {
      "source": [
        "#3. Get Client Credentials\n",
        "To read and write to various endpoints requires [downloading client credentials](https://github.com/google/starthinker/blob/master/tutorials/cloud_client_installed.md), this only needs to be done once, then click play.\n"
      ],
      "metadata": {
        "colab_type": "text"
      },
      "cell_type": "markdown"
    },
    {
      "source": [
        "CLIENT_CREDENTIALS = 'PASTE CREDENTIALS HERE'\n",
        "\n",
        "print(\"Client Credentials Set To: %s\" % CLIENT_CREDENTIALS)\n"
      ],
      "metadata": {
        "colab_type": "code"
      },
      "cell_type": "code"
    },
    {
      "source": [
        "#4. Enter Email Fetch Parameters\n",
        "Import emailed CM report, Dv360 report, csv, or excel into a BigQuery table.\n",
        " 1. The person executing this recipe must be the recipient of the email.\n",
        " 1. Give a regular expression to match the email subject, link or attachment.\n",
        " 1. The data downloaded will overwrite the table specified.\n",
        "Modify the values below for your use case, can be done multiple times, then click play.\n"
      ],
      "metadata": {
        "colab_type": "text"
      },
      "cell_type": "markdown"
    },
    {
      "source": [
        "FIELDS = {\n",
        "  'auth_read': 'user',  # Credentials used for reading data.\n",
        "  'email_from': '',  # Must match from field.\n",
        "  'email_to': '',  # Must match to field.\n",
        "  'subject': '',  # Regular expression to match subject.\n",
        "  'link': '',  # Regular expression to match email.\n",
        "  'attachment': '',  # Regular expression to match atttachment.\n",
        "  'dataset': '',  # Existing dataset in BigQuery.\n",
        "  'table': '',  # Name of table to be written to.\n",
        "  'dbm_schema': '[]',  # Schema provided in JSON list format or empty list.\n",
        "  'is_incremental_load': False,  # Append report data to table based on date column, de-duplicates.\n",
        "}\n",
        "\n",
        "print(\"Parameters Set To: %s\" % FIELDS)\n"
      ],
      "metadata": {
        "colab_type": "code"
      },
      "cell_type": "code"
    },
    {
      "source": [
        "#5. Execute Email Fetch\n",
        "This does NOT need to be modified unles you are changing the recipe, click play.\n"
      ],
      "metadata": {
        "colab_type": "text"
      },
      "cell_type": "markdown"
    },
    {
      "source": [
        "from starthinker.util.project import project\n",
        "from starthinker.script.parse import json_set_fields\n",
        "\n",
        "USER_CREDENTIALS = '/content/user.json'\n",
        "\n",
        "TASKS = [\n",
        "  {\n",
        "    'email': {\n",
        "      'auth': 'user',\n",
        "      'out': {\n",
        "        'bigquery': {\n",
        "          'is_incremental_load': {'field': {'order': 9,'name': 'is_incremental_load','default': False,'kind': 'boolean','description': 'Append report data to table based on date column, de-duplicates.'}},\n",
        "          'dataset': {'field': {'order': 6,'name': 'dataset','default': '','kind': 'string','description': 'Existing dataset in BigQuery.'}},\n",
        "          'schema': {'field': {'order': 8,'name': 'dbm_schema','default': '[]','kind': 'json','description': 'Schema provided in JSON list format or empty list.'}},\n",
        "          'table': {'field': {'order': 7,'name': 'table','default': '','kind': 'string','description': 'Name of table to be written to.'}}\n",
        "        }\n",
        "      },\n",
        "      'read': {\n",
        "        'subject': {'field': {'order': 3,'name': 'subject','default': '','kind': 'string','description': 'Regular expression to match subject.'}},\n",
        "        'attachment': {'field': {'order': 5,'name': 'attachment','default': '','kind': 'string','description': 'Regular expression to match atttachment.'}},\n",
        "        'from': {'field': {'order': 1,'name': 'email_from','default': '','kind': 'string','description': 'Must match from field.'}},\n",
        "        'to': {'field': {'order': 2,'name': 'email_to','default': '','kind': 'string','description': 'Must match to field.'}},\n",
        "        'link': {'field': {'order': 4,'name': 'link','default': '','kind': 'string','description': 'Regular expression to match email.'}}\n",
        "      }\n",
        "    }\n",
        "  }\n",
        "]\n",
        "\n",
        "json_set_fields(TASKS, FIELDS)\n",
        "\n",
        "project.initialize(_recipe={ 'tasks':TASKS }, _project=CLOUD_PROJECT, _user=USER_CREDENTIALS, _client=CLIENT_CREDENTIALS, _verbose=True, _force=True)\n",
        "project.execute(_force=True)\n"
      ],
      "metadata": {
        "colab_type": "code"
      },
      "cell_type": "code"
    }
  ],
  "copyright": "Copyright 2020 Google LLC"
}