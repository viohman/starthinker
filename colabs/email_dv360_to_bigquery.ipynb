{
  "license": "Apache License, Version 2.0",
  "copyright": "Copyright 2018 Google Inc.",
  "nbformat": "4",
  "nbformat_minor": "0",
  "metadata": {
    "colab": {
      "name": "DV360 Report Emailed To BigQuery",
      "provenance": [],
      "collapsed_sections": [],
      "toc_visible": true
    },
    "kernelspec": {
      "name": "python3",
      "display_name": "Python 3"
    }
  },
  "cells": [
    {
      "cell_type": "markdown",
      "metadata": {
        "colab_type": "text"
      },
      "source": [
        "#1. Install Dependencies\n",
        "First install the libraries needed to execute recipes, this only needs to be done once, then click play.\n"
      ]
    },
    {
      "cell_type": "code",
      "metadata": {
        "colab_type": "code"
      },
      "source": [
        "!pip install git+https://github.com/google/starthinker\n"
      ]
    },
    {
      "cell_type": "markdown",
      "metadata": {
        "colab_type": "text"
      },
      "source": [
        "#2. Get Cloud Project ID\n",
        "To run this recipe [requires a Google Cloud Project](https://github.com/google/starthinker/blob/master/tutorials/cloud_project.md), this only needs to be done once, then click play.\n"
      ]
    },
    {
      "cell_type": "code",
      "metadata": {
        "colab_type": "code"
      },
      "source": [
        "CLOUD_PROJECT = 'PASTE PROJECT ID HERE'\n",
        "\n",
        "print(\"Cloud Project Set To: %s\" % CLOUD_PROJECT)\n"
      ]
    },
    {
      "cell_type": "markdown",
      "metadata": {
        "colab_type": "text"
      },
      "source": [
        "#3. Get Client Credentials\n",
        "To read and write to various endpoints requires [downloading client credentials](https://github.com/google/starthinker/blob/master/tutorials/cloud_client_installed.md), this only needs to be done once, then click play.\n"
      ]
    },
    {
      "cell_type": "code",
      "metadata": {
        "colab_type": "code"
      },
      "source": [
        "CLIENT_CREDENTIALS = 'PASTE CREDENTIALS HERE'\n",
        "\n",
        "print(\"Client Credentials Set To: %s\" % CLIENT_CREDENTIALS)\n"
      ]
    },
    {
      "cell_type": "markdown",
      "metadata": {
        "colab_type": "text"
      },
      "source": [
        "#4. Enter DV360 Report Emailed To BigQuery Parameters\n",
        "Pulls a DV360 Report from a gMail email into BigQuery.\n",
        " 1. The person executing this recipe must be the recipient of the email.\n",
        " 1. Schedule a DV360 report to be sent to an email like <b>UNDEFINED</b>.\n",
        " 1. Or set up a redirect rule to forward a report you already receive.\n",
        " 1. The report can be sent as an attachment or a link.\n",
        " 1. Ensure this recipe runs after the report is email daily.\n",
        " 1. Give a regular expression to match the email subject.\n",
        " 1. Configure the destination in BigQuery to write the data.\n",
        "Modify the values below for your use case, can be done multiple times, then click play.\n"
      ]
    },
    {
      "cell_type": "code",
      "metadata": {
        "colab_type": "code"
      },
      "source": [
        "FIELDS = {\n",
        "  'auth_read': 'user',  # Credentials used for reading data.\n",
        "  'email': '',  # Email address report was sent to.\n",
        "  'subject': '.*',  # Regular expression to match subject. Double escape backslashes.\n",
        "  'dataset': '',  # Existing dataset in BigQuery.\n",
        "  'table': '',  # Name of table to be written to.\n",
        "  'dbm_schema': '[]',  # Schema provided in JSON list format or empty list.\n",
        "  'is_incremental_load': False,  # Append report data to table based on date column, de-duplicates.\n",
        "}\n",
        "\n",
        "print(\"Parameters Set To: %s\" % FIELDS)\n"
      ]
    },
    {
      "cell_type": "markdown",
      "metadata": {
        "colab_type": "text"
      },
      "source": [
        "#5. Execute DV360 Report Emailed To BigQuery\n",
        "This does NOT need to be modified unles you are changing the recipe, click play.\n"
      ]
    },
    {
      "cell_type": "code",
      "metadata": {
        "colab_type": "code"
      },
      "source": [
        "from starthinker.util.project import project\n",
        "from starthinker.script.parse import json_set_fields\n",
        "\n",
        "USER_CREDENTIALS = '/content/user.json'\n",
        "\n",
        "TASKS = [\n",
        "  {\n",
        "    'email': {\n",
        "      'auth': 'user',\n",
        "      'read': {\n",
        "        'from': 'noreply-dv360@google.com',\n",
        "        'to': {'field': {'name': 'email','kind': 'string','order': 1,'default': '','description': 'Email address report was sent to.'}},\n",
        "        'subject': {'field': {'name': 'subject','kind': 'string','order': 2,'default': '.*','description': 'Regular expression to match subject. Double escape backslashes.'}},\n",
        "        'link': 'https://storage.googleapis.com/.*',\n",
        "        'attachment': '.*',\n",
        "        'out': {\n",
        "          'bigquery': {\n",
        "            'dataset': {'field': {'name': 'dataset','kind': 'string','order': 3,'default': '','description': 'Existing dataset in BigQuery.'}},\n",
        "            'table': {'field': {'name': 'table','kind': 'string','order': 4,'default': '','description': 'Name of table to be written to.'}},\n",
        "            'schema': {'field': {'name': 'dbm_schema','kind': 'json','order': 5,'default': '[]','description': 'Schema provided in JSON list format or empty list.'}},\n",
        "            'is_incremental_load': {'field': {'name': 'is_incremental_load','kind': 'boolean','order': 6,'default': False,'description': 'Append report data to table based on date column, de-duplicates.'}}\n",
        "          }\n",
        "        }\n",
        "      }\n",
        "    }\n",
        "  }\n",
        "]\n",
        "\n",
        "json_set_fields(TASKS, FIELDS)\n",
        "\n",
        "project.initialize(_recipe={ 'tasks':TASKS }, _project=CLOUD_PROJECT, _user=USER_CREDENTIALS, _client=CLIENT_CREDENTIALS, _verbose=True, _force=True)\n",
        "project.execute(_force=True)\n"
      ]
    }
  ]
}