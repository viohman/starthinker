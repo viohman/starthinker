{
  "nbformat": "4",
  "metadata": {
    "kernelspec": {
      "name": "python3",
      "display_name": "Python 3"
    },
    "colab": {
      "collapsed_sections": [],
      "toc_visible": true,
      "name": "DV360 Report Emailed To BigQuery",
      "provenance": []
    }
  },
  "license": "Apache License, Version 2.0",
  "nbformat_minor": "0",
  "cells": [
    {
      "source": [
        "#1. Install Dependencies\n",
        "First install the libraries needed to execute recipes, this only needs to be done once, then click play.\n"
      ],
      "metadata": {
        "colab_type": "text"
      },
      "cell_type": "markdown"
    },
    {
      "source": [
        "!pip install git+https://github.com/google/starthinker\n"
      ],
      "metadata": {
        "colab_type": "code"
      },
      "cell_type": "code"
    },
    {
      "source": [
        "#2. Get Cloud Project ID\n",
        "To run this recipe [requires a Google Cloud Project](https://github.com/google/starthinker/blob/master/tutorials/cloud_project.md), this only needs to be done once, then click play.\n"
      ],
      "metadata": {
        "colab_type": "text"
      },
      "cell_type": "markdown"
    },
    {
      "source": [
        "CLOUD_PROJECT = 'PASTE PROJECT ID HERE'\n",
        "\n",
        "print(\"Cloud Project Set To: %s\" % CLOUD_PROJECT)\n"
      ],
      "metadata": {
        "colab_type": "code"
      },
      "cell_type": "code"
    },
    {
      "source": [
        "#3. Get Client Credentials\n",
        "To read and write to various endpoints requires [downloading client credentials](https://github.com/google/starthinker/blob/master/tutorials/cloud_client_installed.md), this only needs to be done once, then click play.\n"
      ],
      "metadata": {
        "colab_type": "text"
      },
      "cell_type": "markdown"
    },
    {
      "source": [
        "CLIENT_CREDENTIALS = 'PASTE CREDENTIALS HERE'\n",
        "\n",
        "print(\"Client Credentials Set To: %s\" % CLIENT_CREDENTIALS)\n"
      ],
      "metadata": {
        "colab_type": "code"
      },
      "cell_type": "code"
    },
    {
      "source": [
        "#4. Enter DV360 Report Emailed To BigQuery Parameters\n",
        "Pulls a DV360 Report from a gMail email into BigQuery.\n",
        " 1. The person executing this recipe must be the recipient of the email.\n",
        " 1. Schedule a DV360 report to be sent to an email like <b>UNDEFINED</b>.\n",
        " 1. Or set up a redirect rule to forward a report you already receive.\n",
        " 1. The report can be sent as an attachment or a link.\n",
        " 1. Ensure this recipe runs after the report is email daily.\n",
        " 1. Give a regular expression to match the email subject.\n",
        " 1. Configure the destination in BigQuery to write the data.\n",
        "Modify the values below for your use case, can be done multiple times, then click play.\n"
      ],
      "metadata": {
        "colab_type": "text"
      },
      "cell_type": "markdown"
    },
    {
      "source": [
        "FIELDS = {\n",
        "  'auth_read': 'user',  # Credentials used for reading data.\n",
        "  'email': '',  # Email address report was sent to.\n",
        "  'subject': '.*',  # Regular expression to match subject. Double escape backslashes.\n",
        "  'dataset': '',  # Existing dataset in BigQuery.\n",
        "  'table': '',  # Name of table to be written to.\n",
        "  'dbm_schema': '[]',  # Schema provided in JSON list format or empty list.\n",
        "  'is_incremental_load': False,  # Append report data to table based on date column, de-duplicates.\n",
        "}\n",
        "\n",
        "print(\"Parameters Set To: %s\" % FIELDS)\n"
      ],
      "metadata": {
        "colab_type": "code"
      },
      "cell_type": "code"
    },
    {
      "source": [
        "#5. Execute DV360 Report Emailed To BigQuery\n",
        "This does NOT need to be modified unles you are changing the recipe, click play.\n"
      ],
      "metadata": {
        "colab_type": "text"
      },
      "cell_type": "markdown"
    },
    {
      "source": [
        "from starthinker.util.project import project\n",
        "from starthinker.script.parse import json_set_fields\n",
        "\n",
        "USER_CREDENTIALS = '/content/user.json'\n",
        "\n",
        "TASKS = [\n",
        "  {\n",
        "    'email': {\n",
        "      'auth': 'user',\n",
        "      'read': {\n",
        "        'subject': {'field': {'order': 2,'name': 'subject','default': '.*','kind': 'string','description': 'Regular expression to match subject. Double escape backslashes.'}},\n",
        "        'link': 'https://storage.googleapis.com/.*',\n",
        "        'attachment': '.*',\n",
        "        'to': {'field': {'order': 1,'name': 'email','default': '','kind': 'string','description': 'Email address report was sent to.'}},\n",
        "        'out': {\n",
        "          'bigquery': {\n",
        "            'is_incremental_load': {'field': {'order': 6,'name': 'is_incremental_load','default': False,'kind': 'boolean','description': 'Append report data to table based on date column, de-duplicates.'}},\n",
        "            'dataset': {'field': {'order': 3,'name': 'dataset','default': '','kind': 'string','description': 'Existing dataset in BigQuery.'}},\n",
        "            'schema': {'field': {'order': 5,'name': 'dbm_schema','default': '[]','kind': 'json','description': 'Schema provided in JSON list format or empty list.'}},\n",
        "            'table': {'field': {'order': 4,'name': 'table','default': '','kind': 'string','description': 'Name of table to be written to.'}}\n",
        "          }\n",
        "        },\n",
        "        'from': 'noreply-dv360@google.com'\n",
        "      }\n",
        "    }\n",
        "  }\n",
        "]\n",
        "\n",
        "json_set_fields(TASKS, FIELDS)\n",
        "\n",
        "project.initialize(_recipe={ 'tasks':TASKS }, _project=CLOUD_PROJECT, _user=USER_CREDENTIALS, _client=CLIENT_CREDENTIALS, _verbose=True, _force=True)\n",
        "project.execute(_force=True)\n"
      ],
      "metadata": {
        "colab_type": "code"
      },
      "cell_type": "code"
    }
  ],
  "copyright": "Copyright 2020 Google LLC"
}