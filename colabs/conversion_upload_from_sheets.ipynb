{
  "nbformat": "4",
  "metadata": {
    "kernelspec": {
      "name": "python3",
      "display_name": "Python 3"
    },
    "colab": {
      "collapsed_sections": [],
      "toc_visible": true,
      "name": "Conversion Upload Sheets",
      "provenance": []
    }
  },
  "license": "Apache License, Version 2.0",
  "nbformat_minor": "0",
  "cells": [
    {
      "source": [
        "#1. Install Dependencies\n",
        "First install the libraries needed to execute recipes, this only needs to be done once, then click play.\n"
      ],
      "metadata": {
        "colab_type": "text"
      },
      "cell_type": "markdown"
    },
    {
      "source": [
        "!pip install git+https://github.com/google/starthinker\n"
      ],
      "metadata": {
        "colab_type": "code"
      },
      "cell_type": "code"
    },
    {
      "source": [
        "#2. Get Cloud Project ID\n",
        "To run this recipe [requires a Google Cloud Project](https://github.com/google/starthinker/blob/master/tutorials/cloud_project.md), this only needs to be done once, then click play.\n"
      ],
      "metadata": {
        "colab_type": "text"
      },
      "cell_type": "markdown"
    },
    {
      "source": [
        "CLOUD_PROJECT = 'PASTE PROJECT ID HERE'\n",
        "\n",
        "print(\"Cloud Project Set To: %s\" % CLOUD_PROJECT)\n"
      ],
      "metadata": {
        "colab_type": "code"
      },
      "cell_type": "code"
    },
    {
      "source": [
        "#3. Get Client Credentials\n",
        "To read and write to various endpoints requires [downloading client credentials](https://github.com/google/starthinker/blob/master/tutorials/cloud_client_installed.md), this only needs to be done once, then click play.\n"
      ],
      "metadata": {
        "colab_type": "text"
      },
      "cell_type": "markdown"
    },
    {
      "source": [
        "CLIENT_CREDENTIALS = 'PASTE CREDENTIALS HERE'\n",
        "\n",
        "print(\"Client Credentials Set To: %s\" % CLIENT_CREDENTIALS)\n"
      ],
      "metadata": {
        "colab_type": "code"
      },
      "cell_type": "code"
    },
    {
      "source": [
        "#4. Enter Conversion Upload Sheets Parameters\n",
        "Move form Sheets to CM.\n",
        " 1. Specify a CM Account ID, Floodligh Activity ID and Conversion Type.\n",
        " 1. Include Sheets url, tab, and range, omit headers in range.\n",
        " 1. Columns: Ordinal, timestampMicros, encryptedUserId | encryptedUserIdCandidates | gclid | mobileDeviceId\n",
        " 1. Include encryption information if using encryptedUserId or encryptedUserIdCandidates.\n",
        "Modify the values below for your use case, can be done multiple times, then click play.\n"
      ],
      "metadata": {
        "colab_type": "text"
      },
      "cell_type": "markdown"
    },
    {
      "source": [
        "FIELDS = {\n",
        "  'dcm_account': '',\n",
        "  'auth_read': 'user',  # Credentials used for reading data.\n",
        "  'floodlight_activity_id': '',\n",
        "  'floodlight_conversion_type': 'encryptedUserId',\n",
        "  'encryption_entity_id': '',\n",
        "  'encryption_entity_type': 'DCM_ACCOUNT',\n",
        "  'encryption_entity_source': 'DATA_TRANSFER',\n",
        "  'sheet_url': '',\n",
        "  'sheet_tab': '',\n",
        "  'sheet_range': '',\n",
        "}\n",
        "\n",
        "print(\"Parameters Set To: %s\" % FIELDS)\n"
      ],
      "metadata": {
        "colab_type": "code"
      },
      "cell_type": "code"
    },
    {
      "source": [
        "#5. Execute Conversion Upload Sheets\n",
        "This does NOT need to be modified unles you are changing the recipe, click play.\n"
      ],
      "metadata": {
        "colab_type": "text"
      },
      "cell_type": "markdown"
    },
    {
      "source": [
        "from starthinker.util.project import project\n",
        "from starthinker.script.parse import json_set_fields\n",
        "\n",
        "USER_CREDENTIALS = '/content/user.json'\n",
        "\n",
        "TASKS = [\n",
        "  {\n",
        "    'conversion_upload': {\n",
        "      'activity_id': {'field': {'order': 1,'name': 'floodlight_activity_id','default': '','kind': 'integer'}},\n",
        "      'auth': 'user',\n",
        "      'sheets': {\n",
        "        'url': {'field': {'order': 9,'name': 'sheet_url','default': '','kind': 'string'}},\n",
        "        'range': {'field': {'order': 11,'name': 'sheet_range','default': '','kind': 'string'}},\n",
        "        'tab': {'field': {'order': 10,'name': 'sheet_tab','default': '','kind': 'string'}}\n",
        "      },\n",
        "      'encryptionInfo': {\n",
        "        'encryptionSource': {'field': {'choices': ['AD_SERVING','DATA_TRANSFER','ENCRYPTION_SCOPE_UNKNOWN'],'order': 5,'name': 'encryption_entity_source','default': 'DATA_TRANSFER','kind': 'choice'}},\n",
        "        'encryptionEntityType': {'field': {'choices': ['ADWORDS_CUSTOMER','DBM_ADVERTISER','DBM_PARTNER','DCM_ACCOUNT','DCM_ADVERTISER','ENCRYPTION_ENTITY_TYPE_UNKNOWN'],'order': 4,'name': 'encryption_entity_type','default': 'DCM_ACCOUNT','kind': 'choice'}},\n",
        "        'encryptionEntityId': {'field': {'order': 3,'name': 'encryption_entity_id','default': '','kind': 'integer'}}\n",
        "      },\n",
        "      'account_id': {'field': {'order': 0,'name': 'dcm_account','default': '','kind': 'string'}},\n",
        "      'conversion_type': {'field': {'choices': ['encryptedUserId','encryptedUserIdCandidates','gclid','mobileDeviceId'],'order': 2,'name': 'floodlight_conversion_type','default': 'encryptedUserId','kind': 'choice'}}\n",
        "    }\n",
        "  }\n",
        "]\n",
        "\n",
        "json_set_fields(TASKS, FIELDS)\n",
        "\n",
        "project.initialize(_recipe={ 'tasks':TASKS }, _project=CLOUD_PROJECT, _user=USER_CREDENTIALS, _client=CLIENT_CREDENTIALS, _verbose=True, _force=True)\n",
        "project.execute(_force=True)\n"
      ],
      "metadata": {
        "colab_type": "code"
      },
      "cell_type": "code"
    }
  ],
  "copyright": "Copyright 2020 Google LLC"
}