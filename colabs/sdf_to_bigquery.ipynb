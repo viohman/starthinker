{
  "nbformat": "4",
  "metadata": {
    "kernelspec": {
      "name": "python3",
      "display_name": "Python 3"
    },
    "colab": {
      "collapsed_sections": [],
      "toc_visible": true,
      "name": "SDF Download",
      "provenance": []
    }
  },
  "license": "Apache License, Version 2.0",
  "nbformat_minor": "0",
  "cells": [
    {
      "source": [
        "#1. Install Dependencies\n",
        "First install the libraries needed to execute recipes, this only needs to be done once, then click play.\n"
      ],
      "metadata": {
        "colab_type": "text"
      },
      "cell_type": "markdown"
    },
    {
      "source": [
        "!pip install git+https://github.com/google/starthinker\n"
      ],
      "metadata": {
        "colab_type": "code"
      },
      "cell_type": "code"
    },
    {
      "source": [
        "#2. Get Cloud Project ID\n",
        "To run this recipe [requires a Google Cloud Project](https://github.com/google/starthinker/blob/master/tutorials/cloud_project.md), this only needs to be done once, then click play.\n"
      ],
      "metadata": {
        "colab_type": "text"
      },
      "cell_type": "markdown"
    },
    {
      "source": [
        "CLOUD_PROJECT = 'PASTE PROJECT ID HERE'\n",
        "\n",
        "print(\"Cloud Project Set To: %s\" % CLOUD_PROJECT)\n"
      ],
      "metadata": {
        "colab_type": "code"
      },
      "cell_type": "code"
    },
    {
      "source": [
        "#3. Get Client Credentials\n",
        "To read and write to various endpoints requires [downloading client credentials](https://github.com/google/starthinker/blob/master/tutorials/cloud_client_installed.md), this only needs to be done once, then click play.\n"
      ],
      "metadata": {
        "colab_type": "text"
      },
      "cell_type": "markdown"
    },
    {
      "source": [
        "CLIENT_CREDENTIALS = 'PASTE CREDENTIALS HERE'\n",
        "\n",
        "print(\"Client Credentials Set To: %s\" % CLIENT_CREDENTIALS)\n"
      ],
      "metadata": {
        "colab_type": "code"
      },
      "cell_type": "code"
    },
    {
      "source": [
        "#4. Enter SDF Download Parameters\n",
        "Download SDF reports into a BigQuery table.\n",
        " 1. Select your filter types and the filter ideas.\n",
        " 1. Enter the <a href='https://developers.google.com/bid-manager/v1.1/sdf/download' target='_blank'>file types</a> using commas.\n",
        " 1. SDF_ will be prefixed to all tables and date appended to daily tables.\n",
        " 1. File types take the following format: FILE_TYPE_CAMPAIGN, FILE_TYPE_AD_GROUP,...\n",
        "Modify the values below for your use case, can be done multiple times, then click play.\n"
      ],
      "metadata": {
        "colab_type": "text"
      },
      "cell_type": "markdown"
    },
    {
      "source": [
        "FIELDS = {\n",
        "  'partner_id': '',  # The sdf file types.\n",
        "  'auth_write': 'service',  # Credentials used for writing data.\n",
        "  'file_types': [],  # The sdf file types.\n",
        "  'filter_type': '',  # The filter type for the filter ids.\n",
        "  'filter_ids': [],  # Comma separated list of filter ids for the request.\n",
        "  'dataset': '',  # Dataset to be written to in BigQuery.\n",
        "  'table_suffix': '',  # Optional: Suffix string to put at the end of the table name (Must contain alphanumeric or underscores)\n",
        "  'version': '5',  # The sdf version to be returned.\n",
        "  'time_partitioned_table': False,  # Is the end table a time partitioned\n",
        "  'create_single_day_table': False,  # Would you like a separate table for each day? This will result in an extra table each day and the end table with the most up to date SDF.\n",
        "}\n",
        "\n",
        "print(\"Parameters Set To: %s\" % FIELDS)\n"
      ],
      "metadata": {
        "colab_type": "code"
      },
      "cell_type": "code"
    },
    {
      "source": [
        "#5. Execute SDF Download\n",
        "This does NOT need to be modified unles you are changing the recipe, click play.\n"
      ],
      "metadata": {
        "colab_type": "text"
      },
      "cell_type": "markdown"
    },
    {
      "source": [
        "from starthinker.util.project import project\n",
        "from starthinker.script.parse import json_set_fields\n",
        "\n",
        "USER_CREDENTIALS = '/content/user.json'\n",
        "\n",
        "TASKS = [\n",
        "  {\n",
        "    'dataset': {\n",
        "      'dataset': {'field': {'order': 6,'name': 'dataset','default': '','kind': 'string','description': 'Dataset to be written to in BigQuery.'}},\n",
        "      'auth': 'user'\n",
        "    }\n",
        "  },\n",
        "  {\n",
        "    'sdf': {\n",
        "      'file_types': {'field': {'order': 2,'name': 'file_types','default': [],'kind': 'string_list','description': 'The sdf file types.'}},\n",
        "      'auth': 'user',\n",
        "      'filter_type': {'field': {'name': 'filter_type','description': 'The filter type for the filter ids.','kind': 'choice','choices': ['FILTER_TYPE_ADVERTISER_ID','FILTER_TYPE_CAMPAIGN_ID','FILTER_TYPE_INSERTION_ORDER_ID','FILTER_TYPE_MEDIA_PRODUCT_ID','FILTER_TYPE_LINE_ITEM_ID'],'order': 3,'default': ''}},\n",
        "      'time_partitioned_table': {'field': {'order': 7,'name': 'time_partitioned_table','default': False,'kind': 'boolean','description': 'Is the end table a time partitioned'}},\n",
        "      'read': {\n",
        "        'filter_ids': {\n",
        "          'values': {'field': {'order': 4,'name': 'filter_ids','default': [],'kind': 'integer_list','description': 'Comma separated list of filter ids for the request.'}},\n",
        "          'single_cell': True\n",
        "        }\n",
        "      },\n",
        "      'table_suffix': {'field': {'order': 6,'name': 'table_suffix','default': '','kind': 'string','description': 'Optional: Suffix string to put at the end of the table name (Must contain alphanumeric or underscores)'}},\n",
        "      'dataset': {'field': {'order': 6,'name': 'dataset','default': '','kind': 'string','description': 'Dataset to be written to in BigQuery.'}},\n",
        "      'create_single_day_table': {'field': {'order': 8,'name': 'create_single_day_table','default': False,'kind': 'boolean','description': 'Would you like a separate table for each day? This will result in an extra table each day and the end table with the most up to date SDF.'}},\n",
        "      'version': {'field': {'name': 'version','description': 'The sdf version to be returned.','kind': 'choice','choices': ['SDF_VERSION_5','SDF_VERSION_5_1'],'order': 6,'default': '5'}},\n",
        "      'partner_id': {'field': {'order': 1,'name': 'partner_id','description': 'The sdf file types.','kind': 'integer'}}\n",
        "    }\n",
        "  }\n",
        "]\n",
        "\n",
        "json_set_fields(TASKS, FIELDS)\n",
        "\n",
        "project.initialize(_recipe={ 'tasks':TASKS }, _project=CLOUD_PROJECT, _user=USER_CREDENTIALS, _client=CLIENT_CREDENTIALS, _verbose=True, _force=True)\n",
        "project.execute(_force=True)\n"
      ],
      "metadata": {
        "colab_type": "code"
      },
      "cell_type": "code"
    }
  ],
  "copyright": "Copyright 2020 Google LLC"
}