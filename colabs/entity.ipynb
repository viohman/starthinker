{
  "license": "Apache License, Version 2.0",
  "copyright": "Copyright 2018 Google Inc.",
  "nbformat": "4",
  "nbformat_minor": "0",
  "metadata": {
    "colab": {
      "name": "Entity Read Files",
      "provenance": [],
      "collapsed_sections": [],
      "toc_visible": true
    },
    "kernelspec": {
      "name": "python3",
      "display_name": "Python 3"
    }
  },
  "cells": [
    {
      "cell_type": "markdown",
      "metadata": {
        "colab_type": "text"
      },
      "source": [
        "#1. Install Dependencies\n",
        "First install the libraries needed to execute recipes, this only needs to be done once, then click play.\n"
      ]
    },
    {
      "cell_type": "code",
      "metadata": {
        "colab_type": "code"
      },
      "source": [
        "!pip install git+https://github.com/google/starthinker\n"
      ]
    },
    {
      "cell_type": "markdown",
      "metadata": {
        "colab_type": "text"
      },
      "source": [
        "#2. Get Cloud Project ID\n",
        "To run this recipe [requires a Google Cloud Project](https://github.com/google/starthinker/blob/master/tutorials/cloud_project.md), this only needs to be done once, then click play.\n"
      ]
    },
    {
      "cell_type": "code",
      "metadata": {
        "colab_type": "code"
      },
      "source": [
        "CLOUD_PROJECT = 'PASTE PROJECT ID HERE'\n",
        "\n",
        "print(\"Cloud Project Set To: %s\" % CLOUD_PROJECT)\n"
      ]
    },
    {
      "cell_type": "markdown",
      "metadata": {
        "colab_type": "text"
      },
      "source": [
        "#3. Get Client Credentials\n",
        "To read and write to various endpoints requires [downloading client credentials](https://github.com/google/starthinker/blob/master/tutorials/cloud_client_installed.md), this only needs to be done once, then click play.\n"
      ]
    },
    {
      "cell_type": "code",
      "metadata": {
        "colab_type": "code"
      },
      "source": [
        "CLIENT_CREDENTIALS = 'PASTE CREDENTIALS HERE'\n",
        "\n",
        "print(\"Client Credentials Set To: %s\" % CLIENT_CREDENTIALS)\n"
      ]
    },
    {
      "cell_type": "markdown",
      "metadata": {
        "colab_type": "text"
      },
      "source": [
        "#4. Enter Entity Read Files Parameters\n",
        "Import public and private <a href='https://developers.google.com/bid-manager/guides/entity-read/format-v2' target='_blank'>Entity Read Files</a> into a BigQuery dataset.<br/>CAUTION: PARTNER ONLY, ADVERTISER FILTER IS NOT APPLIED.\n",
        " 1. Entity Read Files ONLY work at the partner level.\n",
        " 1. Advertiser filter is NOT APPLIED.\n",
        " 1. Specify one or more partners to be moved into the dataset.\n",
        "Modify the values below for your use case, can be done multiple times, then click play.\n"
      ]
    },
    {
      "cell_type": "code",
      "metadata": {
        "colab_type": "code"
      },
      "source": [
        "FIELDS = {\n",
        "  'auth_write': 'service',  # Credentials used for writing data.\n",
        "  'auth_read': 'user',  # Credentials used for reading data.\n",
        "  'partners': '[]',  # Comma sparated list of DV360 partners.\n",
        "  'dataset': '',  # BigQuery dataset to write tables for each entity.\n",
        "}\n",
        "\n",
        "print(\"Parameters Set To: %s\" % FIELDS)\n"
      ]
    },
    {
      "cell_type": "markdown",
      "metadata": {
        "colab_type": "text"
      },
      "source": [
        "#5. Execute Entity Read Files\n",
        "This does NOT need to be modified unles you are changing the recipe, click play.\n"
      ]
    },
    {
      "cell_type": "code",
      "metadata": {
        "colab_type": "code"
      },
      "source": [
        "from starthinker.util.project import project\n",
        "from starthinker.script.parse import json_set_fields\n",
        "\n",
        "USER_CREDENTIALS = '/content/user.json'\n",
        "\n",
        "TASKS = [\n",
        "  {\n",
        "    'dataset': {\n",
        "      'auth': 'user',\n",
        "      'dataset': {'field': {'name': 'dataset','kind': 'string','order': 3,'default': '','description': 'BigQuery dataset to write tables for each entity.'}}\n",
        "    }\n",
        "  },\n",
        "  {\n",
        "    'entity': {\n",
        "      'auth': 'user',\n",
        "      'prefix': 'Entity',\n",
        "      'entities': [\n",
        "        'Campaign',\n",
        "        'LineItem',\n",
        "        'Creative',\n",
        "        'UserList',\n",
        "        'Partner',\n",
        "        'Advertiser',\n",
        "        'InsertionOrder',\n",
        "        'Pixel',\n",
        "        'InventorySource',\n",
        "        'CustomAffinity',\n",
        "        'UniversalChannel',\n",
        "        'UniversalSite',\n",
        "        'SupportedExchange',\n",
        "        'DataPartner',\n",
        "        'GeoLocation',\n",
        "        'Language',\n",
        "        'DeviceCriteria',\n",
        "        'Browser',\n",
        "        'Isp'\n",
        "      ],\n",
        "      'partners': {\n",
        "        'single_cell': True,\n",
        "        'values': {'field': {'name': 'partners','kind': 'integer_list','order': 1,'default': '[]','description': 'Comma sparated list of DV360 partners.'}}\n",
        "      },\n",
        "      'out': {\n",
        "        'bigquery': {\n",
        "          'auth': 'user',\n",
        "          'dataset': {'field': {'name': 'dataset','kind': 'string','order': 3,'default': '','description': 'BigQuery dataset to write tables for each entity.'}}\n",
        "        }\n",
        "      }\n",
        "    }\n",
        "  }\n",
        "]\n",
        "\n",
        "json_set_fields(TASKS, FIELDS)\n",
        "\n",
        "project.initialize(_recipe={ 'tasks':TASKS }, _project=CLOUD_PROJECT, _user=USER_CREDENTIALS, _client=CLIENT_CREDENTIALS, _verbose=True, _force=True)\n",
        "project.execute(_force=True)\n"
      ]
    }
  ]
}