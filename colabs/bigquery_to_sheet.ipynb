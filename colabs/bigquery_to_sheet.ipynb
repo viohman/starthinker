{
  "nbformat": "4",
  "metadata": {
    "kernelspec": {
      "name": "python3",
      "display_name": "Python 3"
    },
    "colab": {
      "collapsed_sections": [],
      "toc_visible": true,
      "name": "Query to Sheet",
      "provenance": []
    }
  },
  "license": "Apache License, Version 2.0",
  "nbformat_minor": "0",
  "cells": [
    {
      "source": [
        "#1. Install Dependencies\n",
        "First install the libraries needed to execute recipes, this only needs to be done once, then click play.\n"
      ],
      "metadata": {
        "colab_type": "text"
      },
      "cell_type": "markdown"
    },
    {
      "source": [
        "!pip install git+https://github.com/google/starthinker\n"
      ],
      "metadata": {
        "colab_type": "code"
      },
      "cell_type": "code"
    },
    {
      "source": [
        "#2. Get Cloud Project ID\n",
        "To run this recipe [requires a Google Cloud Project](https://github.com/google/starthinker/blob/master/tutorials/cloud_project.md), this only needs to be done once, then click play.\n"
      ],
      "metadata": {
        "colab_type": "text"
      },
      "cell_type": "markdown"
    },
    {
      "source": [
        "CLOUD_PROJECT = 'PASTE PROJECT ID HERE'\n",
        "\n",
        "print(\"Cloud Project Set To: %s\" % CLOUD_PROJECT)\n"
      ],
      "metadata": {
        "colab_type": "code"
      },
      "cell_type": "code"
    },
    {
      "source": [
        "#3. Get Client Credentials\n",
        "To read and write to various endpoints requires [downloading client credentials](https://github.com/google/starthinker/blob/master/tutorials/cloud_client_installed.md), this only needs to be done once, then click play.\n"
      ],
      "metadata": {
        "colab_type": "text"
      },
      "cell_type": "markdown"
    },
    {
      "source": [
        "CLIENT_CREDENTIALS = 'PASTE CREDENTIALS HERE'\n",
        "\n",
        "print(\"Client Credentials Set To: %s\" % CLIENT_CREDENTIALS)\n"
      ],
      "metadata": {
        "colab_type": "code"
      },
      "cell_type": "code"
    },
    {
      "source": [
        "#4. Enter Query to Sheet Parameters\n",
        "Copy the contents of a query into a Google Sheet.\n",
        " 1. Specify the sheet and the query.\n",
        " 1. Leave range blank or set to A2 to insert one line down.\n",
        " 1. The range is cleared before the sheet is written to.\n",
        " 1. To select a table use SELECT * FROM table.\n",
        "Modify the values below for your use case, can be done multiple times, then click play.\n"
      ],
      "metadata": {
        "colab_type": "text"
      },
      "cell_type": "markdown"
    },
    {
      "source": [
        "FIELDS = {\n",
        "  'auth_read': 'user',  # Credentials used for reading data.\n",
        "  'sheet': '',  # Either sheet url or sheet name.\n",
        "  'tab': '',  # Name of the tab where to put the data.\n",
        "  'range': '',  # Range in the sheet to place the data, leave blank for whole sheet.\n",
        "  'dataset': '',  # Existing BigQuery dataset.\n",
        "  'query': '',  # Query to pull data from the table.\n",
        "  'legacy': True,  # Use Legacy SQL\n",
        "}\n",
        "\n",
        "print(\"Parameters Set To: %s\" % FIELDS)\n"
      ],
      "metadata": {
        "colab_type": "code"
      },
      "cell_type": "code"
    },
    {
      "source": [
        "#5. Execute Query to Sheet\n",
        "This does NOT need to be modified unles you are changing the recipe, click play.\n"
      ],
      "metadata": {
        "colab_type": "text"
      },
      "cell_type": "markdown"
    },
    {
      "source": [
        "from starthinker.util.project import project\n",
        "from starthinker.script.parse import json_set_fields\n",
        "\n",
        "USER_CREDENTIALS = '/content/user.json'\n",
        "\n",
        "TASKS = [\n",
        "  {\n",
        "    'bigquery': {\n",
        "      'auth': 'user',\n",
        "      'to': {\n",
        "        'range': {'field': {'order': 3,'name': 'range','default': '','kind': 'string','description': 'Range in the sheet to place the data, leave blank for whole sheet.'}},\n",
        "        'sheet': {'field': {'order': 1,'name': 'sheet','default': '','kind': 'string','description': 'Either sheet url or sheet name.'}},\n",
        "        'tab': {'field': {'order': 2,'name': 'tab','default': '','kind': 'string','description': 'Name of the tab where to put the data.'}}\n",
        "      },\n",
        "      'from': {\n",
        "        'dataset': {'field': {'order': 4,'name': 'dataset','default': '','kind': 'string','description': 'Existing BigQuery dataset.'}},\n",
        "        'auth': 'user',\n",
        "        'query': {'field': {'order': 5,'name': 'query','default': '','kind': 'text','description': 'Query to pull data from the table.'}},\n",
        "        'legacy': {'field': {'order': 6,'name': 'legacy','default': True,'kind': 'boolean','description': 'Use Legacy SQL'}}\n",
        "      }\n",
        "    }\n",
        "  }\n",
        "]\n",
        "\n",
        "json_set_fields(TASKS, FIELDS)\n",
        "\n",
        "project.initialize(_recipe={ 'tasks':TASKS }, _project=CLOUD_PROJECT, _user=USER_CREDENTIALS, _client=CLIENT_CREDENTIALS, _verbose=True, _force=True)\n",
        "project.execute(_force=True)\n"
      ],
      "metadata": {
        "colab_type": "code"
      },
      "cell_type": "code"
    }
  ],
  "copyright": "Copyright 2020 Google LLC"
}