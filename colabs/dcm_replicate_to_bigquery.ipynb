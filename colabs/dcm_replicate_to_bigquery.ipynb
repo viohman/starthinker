{
  "license": "Apache License, Version 2.0",
  "copyright": "Copyright 2018 Google Inc.",
  "nbformat": "4",
  "nbformat_minor": "0",
  "metadata": {
    "colab": {
      "name": "CM Report Replicate",
      "provenance": [],
      "collapsed_sections": [],
      "toc_visible": true
    },
    "kernelspec": {
      "name": "python3",
      "display_name": "Python 3"
    }
  },
  "cells": [
    {
      "cell_type": "markdown",
      "metadata": {
        "colab_type": "text"
      },
      "source": [
        "#1. Install Dependencies\n",
        "First install the libraries needed to execute recipes, this only needs to be done once, then click play.\n"
      ]
    },
    {
      "cell_type": "code",
      "metadata": {
        "colab_type": "code"
      },
      "source": [
        "!pip install git+https://github.com/google/starthinker\n"
      ]
    },
    {
      "cell_type": "markdown",
      "metadata": {
        "colab_type": "text"
      },
      "source": [
        "#2. Get Cloud Project ID\n",
        "To run this recipe [requires a Google Cloud Project](https://github.com/google/starthinker/blob/master/tutorials/cloud_project.md), this only needs to be done once, then click play.\n"
      ]
    },
    {
      "cell_type": "code",
      "metadata": {
        "colab_type": "code"
      },
      "source": [
        "CLOUD_PROJECT = 'PASTE PROJECT ID HERE'\n",
        "\n",
        "print(\"Cloud Project Set To: %s\" % CLOUD_PROJECT)\n"
      ]
    },
    {
      "cell_type": "markdown",
      "metadata": {
        "colab_type": "text"
      },
      "source": [
        "#3. Get Client Credentials\n",
        "To read and write to various endpoints requires [downloading client credentials](https://github.com/google/starthinker/blob/master/tutorials/cloud_client_installed.md), this only needs to be done once, then click play.\n"
      ]
    },
    {
      "cell_type": "code",
      "metadata": {
        "colab_type": "code"
      },
      "source": [
        "CLIENT_CREDENTIALS = 'PASTE CREDENTIALS HERE'\n",
        "\n",
        "print(\"Client Credentials Set To: %s\" % CLIENT_CREDENTIALS)\n"
      ]
    },
    {
      "cell_type": "markdown",
      "metadata": {
        "colab_type": "text"
      },
      "source": [
        "#4. Enter CM Report Replicate Parameters\n",
        "Replicate a report across multiple networks and advertisers.\n",
        " 1. Provide the name or ID of an existing report.\n",
        " 1. Run the recipe once to generate the input sheet called CM Replicate For UNDEFINED.\n",
        " 1. Enter network and advertiser ids to replicate the report.\n",
        " 1. Data will be written to BigQuery &gt; UNDEFINED &gt; UNDEFINED &gt; [REPORT NAME]_All\n",
        "Modify the values below for your use case, can be done multiple times, then click play.\n"
      ]
    },
    {
      "cell_type": "code",
      "metadata": {
        "colab_type": "code"
      },
      "source": [
        "FIELDS = {\n",
        "  'auth_read': 'user',  # Credentials used for reading data.\n",
        "  'recipe_name': '',  # Sheet to read ids from.\n",
        "  'auth_write': 'service',  # Credentials used for writing data.\n",
        "  'account': '',  # CM network id.\n",
        "  'recipe_slug': '',\n",
        "  'report_id': '',  # CM template report id, for template\n",
        "  'report_name': '',  # CM template report name, empty if using id instead.\n",
        "  'delete': False,  # Use only to reset the reports if setup changes.\n",
        "  'Aggregate': False,  # Append report data to existing table, requires Date column.\n",
        "}\n",
        "\n",
        "print(\"Parameters Set To: %s\" % FIELDS)\n"
      ]
    },
    {
      "cell_type": "markdown",
      "metadata": {
        "colab_type": "text"
      },
      "source": [
        "#5. Execute CM Report Replicate\n",
        "This does NOT need to be modified unles you are changing the recipe, click play.\n"
      ]
    },
    {
      "cell_type": "code",
      "metadata": {
        "colab_type": "code"
      },
      "source": [
        "from starthinker.util.project import project\n",
        "from starthinker.script.parse import json_set_fields\n",
        "\n",
        "USER_CREDENTIALS = '/content/user.json'\n",
        "\n",
        "TASKS = [\n",
        "  {\n",
        "    'drive': {\n",
        "      'auth': 'user',\n",
        "      'copy': {\n",
        "        'source': 'https://docs.google.com/spreadsheets/d/1Su3t2YUWV_GG9RD63Wa3GNANmQZswTHstFY6aDPm6qE/',\n",
        "        'destination': {'field': {'name': 'recipe_name','prefix': 'CM Replicate For ','kind': 'string','order': 1,'description': 'Name of document to deploy to.','default': ''}}\n",
        "      }\n",
        "    }\n",
        "  },\n",
        "  {\n",
        "    'dataset': {\n",
        "      'auth': 'user',\n",
        "      'dataset': {'field': {'name': 'recipe_slug','kind': 'string','order': 2,'default': '','description': 'Name of Google BigQuery dataset to create.'}}\n",
        "    }\n",
        "  },\n",
        "  {\n",
        "    'dcm_replicate': {\n",
        "      'auth': 'user',\n",
        "      'report': {\n",
        "        'account': {'field': {'name': 'account','kind': 'integer','order': 3,'default': '','description': 'CM network id.'}},\n",
        "        'id': {'field': {'name': 'report_id','kind': 'integer','order': 4,'default': '','description': 'CM template report id, for template'}},\n",
        "        'name': {'field': {'name': 'report_name','kind': 'string','order': 5,'default': '','description': 'CM template report name, empty if using id instead.'}},\n",
        "        'delete': {'field': {'name': 'delete','kind': 'boolean','order': 6,'default': False,'description': 'Use only to reset the reports if setup changes.'}}\n",
        "      },\n",
        "      'in': {\n",
        "        'sheet': {'field': {'name': 'recipe_name','prefix': 'CM Replicate For ','kind': 'string','order': 1,'default': '','description': 'Sheet to read ids from.'}},\n",
        "        'tab': 'Accounts'\n",
        "      },\n",
        "      'out': {\n",
        "        'bigquery': {\n",
        "          'dataset': {'field': {'name': 'recipe_slug','kind': 'string','order': 4,'default': ''}},\n",
        "          'is_incremental_load': {'field': {'name': 'Aggregate','kind': 'boolean','order': 7,'default': False,'description': 'Append report data to existing table, requires Date column.'}}\n",
        "        }\n",
        "      }\n",
        "    }\n",
        "  }\n",
        "]\n",
        "\n",
        "json_set_fields(TASKS, FIELDS)\n",
        "\n",
        "project.initialize(_recipe={ 'tasks':TASKS }, _project=CLOUD_PROJECT, _user=USER_CREDENTIALS, _client=CLIENT_CREDENTIALS, _verbose=True, _force=True)\n",
        "project.execute(_force=True)\n"
      ]
    }
  ]
}