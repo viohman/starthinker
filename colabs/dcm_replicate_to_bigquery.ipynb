{
  "nbformat": "4",
  "metadata": {
    "kernelspec": {
      "name": "python3",
      "display_name": "Python 3"
    },
    "colab": {
      "collapsed_sections": [],
      "toc_visible": true,
      "name": "CM Report Replicate",
      "provenance": []
    }
  },
  "license": "Apache License, Version 2.0",
  "nbformat_minor": "0",
  "cells": [
    {
      "source": [
        "#1. Install Dependencies\n",
        "First install the libraries needed to execute recipes, this only needs to be done once, then click play.\n"
      ],
      "metadata": {
        "colab_type": "text"
      },
      "cell_type": "markdown"
    },
    {
      "source": [
        "!pip install git+https://github.com/google/starthinker\n"
      ],
      "metadata": {
        "colab_type": "code"
      },
      "cell_type": "code"
    },
    {
      "source": [
        "#2. Get Cloud Project ID\n",
        "To run this recipe [requires a Google Cloud Project](https://github.com/google/starthinker/blob/master/tutorials/cloud_project.md), this only needs to be done once, then click play.\n"
      ],
      "metadata": {
        "colab_type": "text"
      },
      "cell_type": "markdown"
    },
    {
      "source": [
        "CLOUD_PROJECT = 'PASTE PROJECT ID HERE'\n",
        "\n",
        "print(\"Cloud Project Set To: %s\" % CLOUD_PROJECT)\n"
      ],
      "metadata": {
        "colab_type": "code"
      },
      "cell_type": "code"
    },
    {
      "source": [
        "#3. Get Client Credentials\n",
        "To read and write to various endpoints requires [downloading client credentials](https://github.com/google/starthinker/blob/master/tutorials/cloud_client_installed.md), this only needs to be done once, then click play.\n"
      ],
      "metadata": {
        "colab_type": "text"
      },
      "cell_type": "markdown"
    },
    {
      "source": [
        "CLIENT_CREDENTIALS = 'PASTE CREDENTIALS HERE'\n",
        "\n",
        "print(\"Client Credentials Set To: %s\" % CLIENT_CREDENTIALS)\n"
      ],
      "metadata": {
        "colab_type": "code"
      },
      "cell_type": "code"
    },
    {
      "source": [
        "#4. Enter CM Report Replicate Parameters\n",
        "Replicate a report across multiple networks and advertisers.\n",
        " 1. Provide the name or ID of an existing report.\n",
        " 1. Run the recipe once to generate the input sheet called CM Replicate For UNDEFINED.\n",
        " 1. Enter network and advertiser ids to replicate the report.\n",
        " 1. Data will be written to BigQuery &gt; UNDEFINED &gt; UNDEFINED &gt; [REPORT NAME]_All\n",
        "Modify the values below for your use case, can be done multiple times, then click play.\n"
      ],
      "metadata": {
        "colab_type": "text"
      },
      "cell_type": "markdown"
    },
    {
      "source": [
        "FIELDS = {\n",
        "  'auth_read': 'user',  # Credentials used for reading data.\n",
        "  'recipe_name': '',  # Sheet to read ids from.\n",
        "  'auth_write': 'service',  # Credentials used for writing data.\n",
        "  'account': '',  # CM network id.\n",
        "  'report_id': '',  # CM template report id, for template\n",
        "  'recipe_slug': '',\n",
        "  'report_name': '',  # CM template report name, empty if using id instead.\n",
        "  'delete': False,  # Use only to reset the reports if setup changes.\n",
        "  'Aggregate': False,  # Append report data to existing table, requires Date column.\n",
        "}\n",
        "\n",
        "print(\"Parameters Set To: %s\" % FIELDS)\n"
      ],
      "metadata": {
        "colab_type": "code"
      },
      "cell_type": "code"
    },
    {
      "source": [
        "#5. Execute CM Report Replicate\n",
        "This does NOT need to be modified unles you are changing the recipe, click play.\n"
      ],
      "metadata": {
        "colab_type": "text"
      },
      "cell_type": "markdown"
    },
    {
      "source": [
        "from starthinker.util.project import project\n",
        "from starthinker.script.parse import json_set_fields\n",
        "\n",
        "USER_CREDENTIALS = '/content/user.json'\n",
        "\n",
        "TASKS = [\n",
        "  {\n",
        "    'drive': {\n",
        "      'auth': 'user',\n",
        "      'copy': {\n",
        "        'source': 'https://docs.google.com/spreadsheets/d/1Su3t2YUWV_GG9RD63Wa3GNANmQZswTHstFY6aDPm6qE/',\n",
        "        'destination': {'field': {'name': 'recipe_name','description': 'Name of document to deploy to.','kind': 'string','order': 1,'prefix': 'CM Replicate For ','default': ''}}\n",
        "      }\n",
        "    }\n",
        "  },\n",
        "  {\n",
        "    'dataset': {\n",
        "      'dataset': {'field': {'order': 2,'name': 'recipe_slug','default': '','kind': 'string','description': 'Name of Google BigQuery dataset to create.'}},\n",
        "      'auth': 'user'\n",
        "    }\n",
        "  },\n",
        "  {\n",
        "    'dcm_replicate': {\n",
        "      'auth': 'user',\n",
        "      'report': {\n",
        "        'account': {'field': {'order': 3,'name': 'account','default': '','kind': 'integer','description': 'CM network id.'}},\n",
        "        'name': {'field': {'order': 5,'name': 'report_name','default': '','kind': 'string','description': 'CM template report name, empty if using id instead.'}},\n",
        "        'id': {'field': {'order': 4,'name': 'report_id','default': '','kind': 'integer','description': 'CM template report id, for template'}},\n",
        "        'delete': {'field': {'order': 6,'name': 'delete','default': False,'kind': 'boolean','description': 'Use only to reset the reports if setup changes.'}}\n",
        "      },\n",
        "      'out': {\n",
        "        'bigquery': {\n",
        "          'is_incremental_load': {'field': {'order': 7,'name': 'Aggregate','default': False,'kind': 'boolean','description': 'Append report data to existing table, requires Date column.'}},\n",
        "          'dataset': {'field': {'order': 4,'name': 'recipe_slug','default': '','kind': 'string'}}\n",
        "        }\n",
        "      },\n",
        "      'in': {\n",
        "        'sheet': {'field': {'name': 'recipe_name','description': 'Sheet to read ids from.','kind': 'string','order': 1,'prefix': 'CM Replicate For ','default': ''}},\n",
        "        'tab': 'Accounts'\n",
        "      }\n",
        "    }\n",
        "  }\n",
        "]\n",
        "\n",
        "json_set_fields(TASKS, FIELDS)\n",
        "\n",
        "project.initialize(_recipe={ 'tasks':TASKS }, _project=CLOUD_PROJECT, _user=USER_CREDENTIALS, _client=CLIENT_CREDENTIALS, _verbose=True, _force=True)\n",
        "project.execute(_force=True)\n"
      ],
      "metadata": {
        "colab_type": "code"
      },
      "cell_type": "code"
    }
  ],
  "copyright": "Copyright 2020 Google LLC"
}