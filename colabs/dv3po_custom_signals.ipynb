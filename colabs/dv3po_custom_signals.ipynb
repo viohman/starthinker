{
  "nbformat": "4",
  "metadata": {
    "kernelspec": {
      "name": "python3",
      "display_name": "Python 3"
    },
    "colab": {
      "collapsed_sections": [],
      "toc_visible": true,
      "name": "[DV-3PO] Custom Signals",
      "provenance": []
    }
  },
  "license": "Apache License, Version 2.0",
  "nbformat_minor": "0",
  "cells": [
    {
      "source": [
        "#1. Install Dependencies\n",
        "First install the libraries needed to execute recipes, this only needs to be done once, then click play.\n"
      ],
      "metadata": {
        "colab_type": "text"
      },
      "cell_type": "markdown"
    },
    {
      "source": [
        "!pip install git+https://github.com/google/starthinker\n"
      ],
      "metadata": {
        "colab_type": "code"
      },
      "cell_type": "code"
    },
    {
      "source": [
        "#2. Get Cloud Project ID\n",
        "To run this recipe [requires a Google Cloud Project](https://github.com/google/starthinker/blob/master/tutorials/cloud_project.md), this only needs to be done once, then click play.\n"
      ],
      "metadata": {
        "colab_type": "text"
      },
      "cell_type": "markdown"
    },
    {
      "source": [
        "CLOUD_PROJECT = 'PASTE PROJECT ID HERE'\n",
        "\n",
        "print(\"Cloud Project Set To: %s\" % CLOUD_PROJECT)\n"
      ],
      "metadata": {
        "colab_type": "code"
      },
      "cell_type": "code"
    },
    {
      "source": [
        "#3. Get Client Credentials\n",
        "To read and write to various endpoints requires [downloading client credentials](https://github.com/google/starthinker/blob/master/tutorials/cloud_client_installed.md), this only needs to be done once, then click play.\n"
      ],
      "metadata": {
        "colab_type": "text"
      },
      "cell_type": "markdown"
    },
    {
      "source": [
        "CLIENT_CREDENTIALS = 'PASTE CREDENTIALS HERE'\n",
        "\n",
        "print(\"Client Credentials Set To: %s\" % CLIENT_CREDENTIALS)\n"
      ],
      "metadata": {
        "colab_type": "code"
      },
      "cell_type": "code"
    },
    {
      "source": [
        "#4. Enter [DV-3PO] Custom Signals Parameters\n",
        "[DV-3PO] Custom Signals allows automated changes to be made to DV360 campaigns based on external signals from weather and social media trends. In the future it will also support news, disaster alerts, stocks, sports, custom APIs, etc. \n",
        " 1. Open the template sheet: <a target='_blank' href='https://docs.google.com/spreadsheets/d/1xl2bknsn9ptCKwg1sZqTBpmRFDdcG3ATdp2f4C2CQ2U/edit#gid=1579485492'>[DV-3PO] Custom Signals Configs</a>.\n",
        " 1. Make a copy of the sheet through the menu File -> Make a copy, for clarity we suggest you rename the copy to a meaningful name describing the usage of this copy.\n",
        " 1. In the Station IDs field below enter a comma separated list of NOAA weather station IDs. Most major airports are stations and their ID typically is K followed by the 3 letter airport code, e.g. KORD for Chicago O'Hare International Airport, KSFO for San Francisco international airport, etc. You can get a full list of stations <a target='_blank' href='https://www1.ncdc.noaa.gov/pub/data/noaa/isd-history.txt'>here</a>, the station ID to use is the 'CALL' column of this list.\n",
        " 1. In the Sheet URL field below, enter the URL of the copy of the config sheet you've created.\n",
        " 1. Go to the sheet and configure the rules you'd like to be applied in the Rules tab.\n",
        " 1. In the Advertiser ID column, enter the advertiser ID of the line items you'd like to automatically update.\n",
        " 1. In the Line Item ID colunn, enter the line item ID of the line item you'd like to automatically update.\n",
        " 1. The 'Active' column of the Rules tab allows you to control if the line item should be active or paused. If this field is TRUE the line item will be set to active, if this field is FALSE the line item will be set to inactive. You can use a formula to take weather data into consideration to update this field, e.g. =IF(Weather!C2>30, TRUE, FALSE) will cause the line item to be activated if the temperature of the first station in the Weather tab is above 30 degrees. Leave this field empty if you don't want it to be modified by the tool.\n",
        " 1. The 'Fixed Bid' column of the Rules tab allows you to control the fixed bid amount of the line item. The value set to this field will be applied to the specified line item. You can use a formula to take weather data into consideration to update this field, e.g. =IF(Weather!G2>3, 0.7, 0.4) will cause bid to be set to $0.7 if the wind speed of the first line in the Weather tab is greater than 3 mph, or $0.4 otherwise. Leave this field empty if you don't want it to be modified by the tool.\n",
        "Modify the values below for your use case, can be done multiple times, then click play.\n"
      ],
      "metadata": {
        "colab_type": "text"
      },
      "cell_type": "markdown"
    },
    {
      "source": [
        "FIELDS = {\n",
        "  'station_ids': '',  # NOAA Weather Station ID\n",
        "  'auth_read': 'user',  # Credentials used for reading data.\n",
        "  'sheet_url': '',  # Feed Sheet URL\n",
        "}\n",
        "\n",
        "print(\"Parameters Set To: %s\" % FIELDS)\n"
      ],
      "metadata": {
        "colab_type": "code"
      },
      "cell_type": "code"
    },
    {
      "source": [
        "#5. Execute [DV-3PO] Custom Signals\n",
        "This does NOT need to be modified unles you are changing the recipe, click play.\n"
      ],
      "metadata": {
        "colab_type": "text"
      },
      "cell_type": "markdown"
    },
    {
      "source": [
        "from starthinker.util.project import project\n",
        "from starthinker.script.parse import json_set_fields\n",
        "\n",
        "USER_CREDENTIALS = '/content/user.json'\n",
        "\n",
        "TASKS = [\n",
        "  {\n",
        "    'weather_gov': {\n",
        "      'stations': {'field': {'order': 1,'name': 'station_ids','description': 'NOAA Weather Station ID','kind': 'string_list','default': ''}},\n",
        "      'auth': 'user',\n",
        "      'out': {\n",
        "        'sheets': {\n",
        "          'range': 'A2:K',\n",
        "          'sheet': {'field': {'order': 2,'name': 'sheet_url','description': 'Feed Sheet URL','kind': 'string','default': ''}},\n",
        "          'tab': 'Weather',\n",
        "          'delete': True\n",
        "        }\n",
        "      }\n",
        "    }\n",
        "  },\n",
        "  {\n",
        "    'lineitem_beta': {\n",
        "      'auth': 'user',\n",
        "      'patch': {\n",
        "      },\n",
        "      'read': {\n",
        "        'sheet': {\n",
        "          'range': 'A1:D',\n",
        "          'sheet': {'field': {'order': 2,'name': 'sheet_url','description': 'Feed Sheet URL','kind': 'string','default': ''}},\n",
        "          'tab': 'Rules'\n",
        "        }\n",
        "      }\n",
        "    }\n",
        "  }\n",
        "]\n",
        "\n",
        "json_set_fields(TASKS, FIELDS)\n",
        "\n",
        "project.initialize(_recipe={ 'tasks':TASKS }, _project=CLOUD_PROJECT, _user=USER_CREDENTIALS, _client=CLIENT_CREDENTIALS, _verbose=True, _force=True)\n",
        "project.execute(_force=True)\n"
      ],
      "metadata": {
        "colab_type": "code"
      },
      "cell_type": "code"
    }
  ],
  "copyright": "Copyright 2020 Google LLC"
}