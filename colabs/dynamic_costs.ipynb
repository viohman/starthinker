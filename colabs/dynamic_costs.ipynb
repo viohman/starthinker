{
  "license": "Apache License, Version 2.0",
  "copyright": "Copyright 2018 Google Inc.",
  "nbformat": "4",
  "nbformat_minor": "0",
  "metadata": {
    "colab": {
      "name": "Dynamic Costs Reporting",
      "provenance": [],
      "collapsed_sections": [],
      "toc_visible": true
    },
    "kernelspec": {
      "name": "python3",
      "display_name": "Python 3"
    }
  },
  "cells": [
    {
      "cell_type": "markdown",
      "metadata": {
        "colab_type": "text"
      },
      "source": [
        "#1. Install Dependencies\n",
        "First install the libraries needed to execute recipes, this only needs to be done once, then click play.\n"
      ]
    },
    {
      "cell_type": "code",
      "metadata": {
        "colab_type": "code"
      },
      "source": [
        "!pip install git+https://github.com/google/starthinker\n"
      ]
    },
    {
      "cell_type": "markdown",
      "metadata": {
        "colab_type": "text"
      },
      "source": [
        "#2. Get Cloud Project ID\n",
        "To run this recipe [requires a Google Cloud Project](https://github.com/google/starthinker/blob/master/tutorials/cloud_project.md), this only needs to be done once, then click play.\n"
      ]
    },
    {
      "cell_type": "code",
      "metadata": {
        "colab_type": "code"
      },
      "source": [
        "CLOUD_PROJECT = 'PASTE PROJECT ID HERE'\n",
        "\n",
        "print(\"Cloud Project Set To: %s\" % CLOUD_PROJECT)\n"
      ]
    },
    {
      "cell_type": "markdown",
      "metadata": {
        "colab_type": "text"
      },
      "source": [
        "#3. Get Client Credentials\n",
        "To read and write to various endpoints requires [downloading client credentials](https://github.com/google/starthinker/blob/master/tutorials/cloud_client_installed.md), this only needs to be done once, then click play.\n"
      ]
    },
    {
      "cell_type": "code",
      "metadata": {
        "colab_type": "code"
      },
      "source": [
        "CLIENT_CREDENTIALS = 'PASTE CREDENTIALS HERE'\n",
        "\n",
        "print(\"Client Credentials Set To: %s\" % CLIENT_CREDENTIALS)\n"
      ]
    },
    {
      "cell_type": "markdown",
      "metadata": {
        "colab_type": "text"
      },
      "source": [
        "#4. Enter Dynamic Costs Reporting Parameters\n",
        "Calculate DV360 cost at the dynamic creative combination level.\n",
        " 1. Add a sheet URL. This is where you will enter advertiser and campaign level details.\n",
        " 1. Specify the CM network ID.\n",
        " 1. Click run now once, and a tab called <strong>Dynamic Costs</strong> will be added to the sheet with instructions.\n",
        " 1. Follow the instructions on the sheet; this will be your configuration.\n",
        " 1. StarThinker will create two or three (depending on the case) reports in CM named <strong>Dynamic Costs - ...</strong>.\n",
        " 1. Wait for <b>BigQuery->UNDEFINED->UNDEFINED->Dynamic_Costs_Analysis</b> to be created or click Run Now.\n",
        " 1. Copy <a href='https://datastudio.google.com/open/1vBvBEiMbqCbBuJTsBGpeg8vCLtg6ztqA' target='_blank'>Dynamic Costs Sample Data ( Copy From This )</a>.\n",
        " 1. Click Edit Connection, and Change to <b>BigQuery->UNDEFINED->UNDEFINED->Dynamic_Costs_Analysis</b>.\n",
        " 1. Copy <a href='https://datastudio.google.com/open/1xulBAdx95SnvjnUzFP6r14lhkvvVbsP8' target='_blank'>Dynamic Costs Sample Report ( Copy From This )</a>.\n",
        " 1. When prompted, choose the new data source you just created.\n",
        " 1. Edit the table to include or exclude columns as desired.\n",
        " 1. Or, give the dashboard connection intructions to the client.\n",
        "Modify the values below for your use case, can be done multiple times, then click play.\n"
      ]
    },
    {
      "cell_type": "code",
      "metadata": {
        "colab_type": "code"
      },
      "source": [
        "FIELDS = {\n",
        "  'dcm_account': '',\n",
        "  'auth_read': 'user',  # Credentials used for reading data.\n",
        "  'configuration_sheet_url': '',\n",
        "  'auth_write': 'service',  # Credentials used for writing data.\n",
        "  'bigquery_dataset': 'dynamic_costs',\n",
        "}\n",
        "\n",
        "print(\"Parameters Set To: %s\" % FIELDS)\n"
      ]
    },
    {
      "cell_type": "markdown",
      "metadata": {
        "colab_type": "text"
      },
      "source": [
        "#5. Execute Dynamic Costs Reporting\n",
        "This does NOT need to be modified unles you are changing the recipe, click play.\n"
      ]
    },
    {
      "cell_type": "code",
      "metadata": {
        "colab_type": "code"
      },
      "source": [
        "from starthinker.util.project import project\n",
        "from starthinker.script.parse import json_set_fields\n",
        "\n",
        "USER_CREDENTIALS = '/content/user.json'\n",
        "\n",
        "TASKS = [\n",
        "  {\n",
        "    'dynamic_costs': {\n",
        "      'auth': 'user',\n",
        "      'account': {'field': {'name': 'dcm_account','kind': 'string','order': 0,'default': ''}},\n",
        "      'sheet': {\n",
        "        'template': {\n",
        "          'url': 'https://docs.google.com/spreadsheets/d/19J-Hjln2wd1E0aeG3JDgKQN9TVGRLWxIEUQSmmQetJc/edit?usp=sharing',\n",
        "          'tab': 'Dynamic Costs',\n",
        "          'range': 'A1'\n",
        "        },\n",
        "        'url': {'field': {'name': 'configuration_sheet_url','kind': 'string','order': 1,'default': ''}},\n",
        "        'tab': 'Dynamic Costs',\n",
        "        'range': 'A2:B'\n",
        "      },\n",
        "      'out': {\n",
        "        'auth': 'user',\n",
        "        'dataset': {'field': {'name': 'bigquery_dataset','kind': 'string','order': 2,'default': 'dynamic_costs'}}\n",
        "      }\n",
        "    }\n",
        "  }\n",
        "]\n",
        "\n",
        "json_set_fields(TASKS, FIELDS)\n",
        "\n",
        "project.initialize(_recipe={ 'tasks':TASKS }, _project=CLOUD_PROJECT, _user=USER_CREDENTIALS, _client=CLIENT_CREDENTIALS, _verbose=True, _force=True)\n",
        "project.execute(_force=True)\n"
      ]
    }
  ]
}