{
  "nbformat": "4",
  "metadata": {
    "kernelspec": {
      "name": "python3",
      "display_name": "Python 3"
    },
    "colab": {
      "collapsed_sections": [],
      "toc_visible": true,
      "name": "Monthly Budget Mover",
      "provenance": []
    }
  },
  "license": "Apache License, Version 2.0",
  "nbformat_minor": "0",
  "cells": [
    {
      "source": [
        "#1. Install Dependencies\n",
        "First install the libraries needed to execute recipes, this only needs to be done once, then click play.\n"
      ],
      "metadata": {
        "colab_type": "text"
      },
      "cell_type": "markdown"
    },
    {
      "source": [
        "!pip install git+https://github.com/google/starthinker\n"
      ],
      "metadata": {
        "colab_type": "code"
      },
      "cell_type": "code"
    },
    {
      "source": [
        "#2. Get Cloud Project ID\n",
        "To run this recipe [requires a Google Cloud Project](https://github.com/google/starthinker/blob/master/tutorials/cloud_project.md), this only needs to be done once, then click play.\n"
      ],
      "metadata": {
        "colab_type": "text"
      },
      "cell_type": "markdown"
    },
    {
      "source": [
        "CLOUD_PROJECT = 'PASTE PROJECT ID HERE'\n",
        "\n",
        "print(\"Cloud Project Set To: %s\" % CLOUD_PROJECT)\n"
      ],
      "metadata": {
        "colab_type": "code"
      },
      "cell_type": "code"
    },
    {
      "source": [
        "#3. Get Client Credentials\n",
        "To read and write to various endpoints requires [downloading client credentials](https://github.com/google/starthinker/blob/master/tutorials/cloud_client_installed.md), this only needs to be done once, then click play.\n"
      ],
      "metadata": {
        "colab_type": "text"
      },
      "cell_type": "markdown"
    },
    {
      "source": [
        "CLIENT_CREDENTIALS = 'PASTE CREDENTIALS HERE'\n",
        "\n",
        "print(\"Client Credentials Set To: %s\" % CLIENT_CREDENTIALS)\n"
      ],
      "metadata": {
        "colab_type": "code"
      },
      "cell_type": "code"
    },
    {
      "source": [
        "#4. Enter Monthly Budget Mover Parameters\n",
        "Apply the previous month's budget/spend delta to the current month.  Aggregate up the budget and spend from the previous month of each category declared then apply the delta of the spend and budget equally to each Line Item under that Category.\n",
        " 1. No changes made can be made in DV360 from the start to the end of this process\n",
        " 1. Make sure there is budget information for the current and previous month's IOs in DV360\n",
        " 1. Make sure the provided spend report has spend data for every IO in the previous month\n",
        " 1. Spend report must contain 'Revenue (Adv Currency)' and 'Insertion Order ID'\n",
        " 1. There are no duplicate IO Ids in the categories outlined below\n",
        " 1. This process must be ran during the month of the budget it is updating\n",
        " 1. If you receive a 502 error then you must separate your jobs into two, because there is too much information being pulled in the sdf\n",
        " 1. Manually run this job\n",
        " 1. Once the job has completed go to the table for the new sdf and export to a csv\n",
        " 1. Take the new sdf and upload it into DV360\n",
        "Modify the values below for your use case, can be done multiple times, then click play.\n"
      ],
      "metadata": {
        "colab_type": "text"
      },
      "cell_type": "markdown"
    },
    {
      "source": [
        "FIELDS = {\n",
        "  'recipe_name': '',  # \n",
        "  'recipe_timezone': 'America/Los_Angeles',  # Timezone for report dates.\n",
        "  'auth_read': 'user',  # Credentials used for reading data.\n",
        "  'partner_id': '',  # The sdf file types.\n",
        "  'auth_write': 'service',  # Credentials used for writing data.\n",
        "  'budget_categories': '{}',  # A dictionary to show which IO Ids go under which Category. {\"CATEGORY1\":[12345,12345,12345], \"CATEGORY2\":[12345,12345]}\n",
        "  'excluded_ios': '',  # A comma separated list of Inserion Order Ids that should be exluded from the budget calculations\n",
        "  'filter_ids': [],  # Comma separated list of filter ids for the request.\n",
        "  'version': '5',  # The sdf version to be returned.\n",
        "  'is_colab': True,  # Are you running this in Colab? (This will store the files in Colab instead of Bigquery)\n",
        "  'dataset': '',  # Dataset that you would like your output tables to be produced in.\n",
        "}\n",
        "\n",
        "print(\"Parameters Set To: %s\" % FIELDS)\n"
      ],
      "metadata": {
        "colab_type": "code"
      },
      "cell_type": "code"
    },
    {
      "source": [
        "#5. Execute Monthly Budget Mover\n",
        "This does NOT need to be modified unles you are changing the recipe, click play.\n"
      ],
      "metadata": {
        "colab_type": "text"
      },
      "cell_type": "markdown"
    },
    {
      "source": [
        "from starthinker.util.project import project\n",
        "from starthinker.script.parse import json_set_fields\n",
        "\n",
        "USER_CREDENTIALS = '/content/user.json'\n",
        "\n",
        "TASKS = [\n",
        "  {\n",
        "    'dataset': {\n",
        "      'dataset': {'field': {'order': 1,'name': 'dataset','description': 'Place where tables will be created in BigQuery.','kind': 'string'}},\n",
        "      'auth': 'user',\n",
        "      'description': 'Create a dataset where data will be combined and transfored for upload.'\n",
        "    }\n",
        "  },\n",
        "  {\n",
        "    'dbm': {\n",
        "      'auth': 'user',\n",
        "      'report': {\n",
        "        'filters': {\n",
        "          'FILTER_ADVERTISER': {\n",
        "            'values': {'field': {'order': 7,'name': 'filter_ids','default': '','kind': 'integer_list','description': 'The comma separated list of Advertiser Ids.'}}\n",
        "          }\n",
        "        },\n",
        "        'timeout': 90,\n",
        "        'body': {\n",
        "          'timezoneCode': {'field': {'default': 'America/Los_Angeles','name': 'recipe_timezone','description': 'Timezone for report dates.','kind': 'timezone'}},\n",
        "          'metadata': {\n",
        "            'format': 'CSV',\n",
        "            'title': {'field': {'prefix': 'Monthly_Budget_Mover_','name': 'recipe_name','order': 1,'kind': 'string','description': 'Name of report in DV360, should be unique.'}},\n",
        "            'dataRange': 'PREVIOUS_MONTH'\n",
        "          },\n",
        "          'params': {\n",
        "            'metrics': [\n",
        "              'METRIC_REVENUE_ADVERTISER'\n",
        "            ],\n",
        "            'type': 'TYPE_GENERAL',\n",
        "            'groupBys': [\n",
        "              'FILTER_ADVERTISER_CURRENCY',\n",
        "              'FILTER_INSERTION_ORDER'\n",
        "            ]\n",
        "          }\n",
        "        }\n",
        "      },\n",
        "      'delete': False\n",
        "    }\n",
        "  },\n",
        "  {\n",
        "    'monthly_budget_mover': {\n",
        "      'is_colab': {'field': {'default': True,'name': 'is_colab','order': 7,'kind': 'boolean','description': 'Are you running this in Colab? (This will store the files in Colab instead of Bigquery)'}},\n",
        "      'sdf': {\n",
        "        'file_types': 'INSERTION_ORDER',\n",
        "        'auth': 'user',\n",
        "        'filter_type': 'FILTER_TYPE_ADVERTISER_ID',\n",
        "        'time_partitioned_table': False,\n",
        "        'read': {\n",
        "          'filter_ids': {\n",
        "            'values': {'field': {'order': 4,'name': 'filter_ids','default': [],'kind': 'integer_list','description': 'Comma separated list of filter ids for the request.'}},\n",
        "            'single_cell': True\n",
        "          }\n",
        "        },\n",
        "        'table_suffix': '',\n",
        "        'dataset': {'field': {'order': 6,'name': 'dataset','default': '','kind': 'string','description': 'Dataset to be written to in BigQuery.'}},\n",
        "        'create_single_day_table': False,\n",
        "        'version': {'field': {'name': 'version','description': 'The sdf version to be returned.','kind': 'choice','choices': ['SDF_VERSION_5','SDF_VERSION_5_1'],'order': 6,'default': '5'}},\n",
        "        'partner_id': {'field': {'order': 1,'name': 'partner_id','description': 'The sdf file types.','kind': 'integer'}}\n",
        "      },\n",
        "      'auth': 'user',\n",
        "      'out_old_sdf': {\n",
        "        'file': '/content/old_sdf.csv',\n",
        "        'bigquery': {\n",
        "          'dataset': {'field': {'order': 8,'name': 'dataset','default': '','kind': 'string','description': 'Dataset that you would like your output tables to be produced in.'}},\n",
        "          'skip_rows': 0,\n",
        "          'schema': [\n",
        "          ],\n",
        "          'disposition': 'WRITE_TRUNCATE',\n",
        "          'table': {'field': {'prefix': 'SDF_OLD_','name': 'recipe_name','description': '','kind': 'string'}}\n",
        "        }\n",
        "      },\n",
        "      'excluded_ios': {'field': {'order': 4,'name': 'excluded_ios','description': 'A comma separated list of Inserion Order Ids that should be exluded from the budget calculations','kind': 'integer_list'}},\n",
        "      'report_name': {'field': {'prefix': 'Monthly_Budget_Mover_','name': 'recipe_name','order': 1,'kind': 'string','description': 'Name of report in DV360, should be unique.'}},\n",
        "      'out_changes': {\n",
        "        'file': '/content/log.csv',\n",
        "        'bigquery': {\n",
        "          'dataset': {'field': {'order': 8,'name': 'dataset','default': '','kind': 'string','description': 'Dataset that you would like your output tables to be produced in.'}},\n",
        "          'skip_rows': 0,\n",
        "          'schema': [\n",
        "          ],\n",
        "          'disposition': 'WRITE_TRUNCATE',\n",
        "          'table': {'field': {'prefix': 'SDF_BUDGET_MOVER_LOG_','name': 'recipe_name','description': '','kind': 'string'}}\n",
        "        }\n",
        "      },\n",
        "      'budget_categories': {'field': {'order': 3,'name': 'budget_categories','default': '{}','kind': 'json','description': 'A dictionary to show which IO Ids go under which Category. {\"CATEGORY1\":[12345,12345,12345], \"CATEGORY2\":[12345,12345]}'}},\n",
        "      'out_new_sdf': {\n",
        "        'file': '/content/new_sdf.csv',\n",
        "        'bigquery': {\n",
        "          'dataset': {'field': {'order': 8,'name': 'dataset','default': '','kind': 'string','description': 'Dataset that you would like your output tables to be produced in.'}},\n",
        "          'skip_rows': 0,\n",
        "          'schema': [\n",
        "          ],\n",
        "          'disposition': 'WRITE_TRUNCATE',\n",
        "          'table': {'field': {'prefix': 'SDF_NEW_','name': 'recipe_name','description': '','kind': 'string'}}\n",
        "        }\n",
        "      }\n",
        "    }\n",
        "  }\n",
        "]\n",
        "\n",
        "json_set_fields(TASKS, FIELDS)\n",
        "\n",
        "project.initialize(_recipe={ 'tasks':TASKS }, _project=CLOUD_PROJECT, _user=USER_CREDENTIALS, _client=CLIENT_CREDENTIALS, _verbose=True, _force=True)\n",
        "project.execute(_force=True)\n"
      ],
      "metadata": {
        "colab_type": "code"
      },
      "cell_type": "code"
    }
  ],
  "copyright": "Copyright 2020 Google LLC"
}