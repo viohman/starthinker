{
  "license": "Apache License, Version 2.0",
  "copyright": "Copyright 2018 Google Inc.",
  "nbformat": "4",
  "nbformat_minor": "0",
  "metadata": {
    "colab": {
      "name": "Monthly Budget Mover",
      "provenance": [],
      "collapsed_sections": [],
      "toc_visible": true
    },
    "kernelspec": {
      "name": "python3",
      "display_name": "Python 3"
    }
  },
  "cells": [
    {
      "cell_type": "markdown",
      "metadata": {
        "colab_type": "text"
      },
      "source": [
        "#1. Install Dependencies\n",
        "First install the libraries needed to execute recipes, this only needs to be done once, then click play.\n"
      ]
    },
    {
      "cell_type": "code",
      "metadata": {
        "colab_type": "code"
      },
      "source": [
        "!pip install git+https://github.com/google/starthinker\n"
      ]
    },
    {
      "cell_type": "markdown",
      "metadata": {
        "colab_type": "text"
      },
      "source": [
        "#2. Get Cloud Project ID\n",
        "To run this recipe [requires a Google Cloud Project](https://github.com/google/starthinker/blob/master/tutorials/cloud_project.md), this only needs to be done once, then click play.\n"
      ]
    },
    {
      "cell_type": "code",
      "metadata": {
        "colab_type": "code"
      },
      "source": [
        "CLOUD_PROJECT = 'PASTE PROJECT ID HERE'\n",
        "\n",
        "print(\"Cloud Project Set To: %s\" % CLOUD_PROJECT)\n"
      ]
    },
    {
      "cell_type": "markdown",
      "metadata": {
        "colab_type": "text"
      },
      "source": [
        "#3. Get Client Credentials\n",
        "To read and write to various endpoints requires [downloading client credentials](https://github.com/google/starthinker/blob/master/tutorials/cloud_client_installed.md), this only needs to be done once, then click play.\n"
      ]
    },
    {
      "cell_type": "code",
      "metadata": {
        "colab_type": "code"
      },
      "source": [
        "CLIENT_CREDENTIALS = 'PASTE CREDENTIALS HERE'\n",
        "\n",
        "print(\"Client Credentials Set To: %s\" % CLIENT_CREDENTIALS)\n"
      ]
    },
    {
      "cell_type": "markdown",
      "metadata": {
        "colab_type": "text"
      },
      "source": [
        "#4. Enter Monthly Budget Mover Parameters\n",
        "Apply the previous month's budget/spend delta to the current month.  Aggregate up the budget and spend from the previous month of each category declared then apply the delta of the spend and budget equally to each Line Item under that Category.\n",
        " 1. No changes made can be made in DV360 from the start to the end of this process\n",
        " 1. Make sure there is budget information for the current and previous month's IOs in DV360\n",
        " 1. Make sure the provided spend report has spend data for every IO in the previous month\n",
        " 1. Spend report must contain 'Revenue (Adv Currency)' and 'Insertion Order ID'\n",
        " 1. There are no duplicate IO Ids in the categories outlined below\n",
        " 1. This process must be ran during the month of the budget it is updating\n",
        " 1. If you receive a 502 error then you must separate your jobs into two, because there is too much information being pulled in the sdf\n",
        " 1. Manually run this job\n",
        " 1. Once the job has completed go to the table for the new sdf and export to a csv\n",
        " 1. Take the new sdf and upload it into DV360\n",
        "Modify the values below for your use case, can be done multiple times, then click play.\n"
      ]
    },
    {
      "cell_type": "code",
      "metadata": {
        "colab_type": "code"
      },
      "source": [
        "FIELDS = {\n",
        "  'recipe_timezone': 'America/Los_Angeles',  # Timezone for report dates.\n",
        "  'recipe_name': '',  # \n",
        "  'auth_write': 'service',  # Credentials used for writing data.\n",
        "  'auth_read': 'user',  # Credentials used for reading data.\n",
        "  'partner_id': '',  # The sdf file types.\n",
        "  'budget_categories': '{}',  # A dictionary to show which IO Ids go under which Category. {\"CATEGORY1\":[12345,12345,12345], \"CATEGORY2\":[12345,12345]}\n",
        "  'filter_ids': [],  # Comma separated list of filter ids for the request.\n",
        "  'excluded_ios': '',  # A comma separated list of Inserion Order Ids that should be exluded from the budget calculations\n",
        "  'version': '5',  # The sdf version to be returned.\n",
        "  'is_colab': True,  # Are you running this in Colab? (This will store the files in Colab instead of Bigquery)\n",
        "  'dataset': '',  # Dataset that you would like your output tables to be produced in.\n",
        "}\n",
        "\n",
        "print(\"Parameters Set To: %s\" % FIELDS)\n"
      ]
    },
    {
      "cell_type": "markdown",
      "metadata": {
        "colab_type": "text"
      },
      "source": [
        "#5. Execute Monthly Budget Mover\n",
        "This does NOT need to be modified unles you are changing the recipe, click play.\n"
      ]
    },
    {
      "cell_type": "code",
      "metadata": {
        "colab_type": "code"
      },
      "source": [
        "from starthinker.util.project import project\n",
        "from starthinker.script.parse import json_set_fields\n",
        "\n",
        "USER_CREDENTIALS = '/content/user.json'\n",
        "\n",
        "TASKS = [\n",
        "  {\n",
        "    'dataset': {\n",
        "      'description': 'Create a dataset where data will be combined and transfored for upload.',\n",
        "      'auth': 'user',\n",
        "      'dataset': {'field': {'name': 'dataset','kind': 'string','order': 1,'description': 'Place where tables will be created in BigQuery.'}}\n",
        "    }\n",
        "  },\n",
        "  {\n",
        "    'dbm': {\n",
        "      'auth': 'user',\n",
        "      'report': {\n",
        "        'timeout': 90,\n",
        "        'filters': {\n",
        "          'FILTER_ADVERTISER': {\n",
        "            'values': {'field': {'name': 'filter_ids','kind': 'integer_list','order': 7,'default': '','description': 'The comma separated list of Advertiser Ids.'}}\n",
        "          }\n",
        "        },\n",
        "        'body': {\n",
        "          'timezoneCode': {'field': {'name': 'recipe_timezone','kind': 'timezone','description': 'Timezone for report dates.','default': 'America/Los_Angeles'}},\n",
        "          'metadata': {\n",
        "            'title': {'field': {'name': 'recipe_name','kind': 'string','prefix': 'Monthly_Budget_Mover_','order': 1,'description': 'Name of report in DV360, should be unique.'}},\n",
        "            'dataRange': 'PREVIOUS_MONTH',\n",
        "            'format': 'CSV'\n",
        "          },\n",
        "          'params': {\n",
        "            'type': 'TYPE_GENERAL',\n",
        "            'groupBys': [\n",
        "              'FILTER_ADVERTISER_CURRENCY',\n",
        "              'FILTER_INSERTION_ORDER'\n",
        "            ],\n",
        "            'metrics': [\n",
        "              'METRIC_REVENUE_ADVERTISER'\n",
        "            ]\n",
        "          }\n",
        "        }\n",
        "      },\n",
        "      'delete': False\n",
        "    }\n",
        "  },\n",
        "  {\n",
        "    'monthly_budget_mover': {\n",
        "      'auth': 'user',\n",
        "      'is_colab': {'field': {'name': 'is_colab','kind': 'boolean','default': True,'order': 7,'description': 'Are you running this in Colab? (This will store the files in Colab instead of Bigquery)'}},\n",
        "      'report_name': {'field': {'name': 'recipe_name','kind': 'string','prefix': 'Monthly_Budget_Mover_','order': 1,'description': 'Name of report in DV360, should be unique.'}},\n",
        "      'budget_categories': {'field': {'name': 'budget_categories','kind': 'json','order': 3,'default': '{}','description': 'A dictionary to show which IO Ids go under which Category. {\"CATEGORY1\":[12345,12345,12345], \"CATEGORY2\":[12345,12345]}'}},\n",
        "      'excluded_ios': {'field': {'name': 'excluded_ios','kind': 'integer_list','order': 4,'description': 'A comma separated list of Inserion Order Ids that should be exluded from the budget calculations'}},\n",
        "      'sdf': {\n",
        "        'auth': 'user',\n",
        "        'version': {'field': {'name': 'version','kind': 'choice','order': 6,'default': '5','description': 'The sdf version to be returned.','choices': ['SDF_VERSION_5','SDF_VERSION_5_1']}},\n",
        "        'partner_id': {'field': {'name': 'partner_id','kind': 'integer','order': 1,'description': 'The sdf file types.'}},\n",
        "        'file_types': 'INSERTION_ORDER',\n",
        "        'filter_type': 'FILTER_TYPE_ADVERTISER_ID',\n",
        "        'read': {\n",
        "          'filter_ids': {\n",
        "            'single_cell': True,\n",
        "            'values': {'field': {'name': 'filter_ids','kind': 'integer_list','order': 4,'default': [],'description': 'Comma separated list of filter ids for the request.'}}\n",
        "          }\n",
        "        },\n",
        "        'time_partitioned_table': False,\n",
        "        'create_single_day_table': False,\n",
        "        'dataset': {'field': {'name': 'dataset','kind': 'string','order': 6,'default': '','description': 'Dataset to be written to in BigQuery.'}},\n",
        "        'table_suffix': ''\n",
        "      },\n",
        "      'out_old_sdf': {\n",
        "        'bigquery': {\n",
        "          'dataset': {'field': {'name': 'dataset','kind': 'string','order': 8,'default': '','description': 'Dataset that you would like your output tables to be produced in.'}},\n",
        "          'table': {'field': {'name': 'recipe_name','kind': 'string','prefix': 'SDF_OLD_','description': ''}},\n",
        "          'schema': [\n",
        "          ],\n",
        "          'skip_rows': 0,\n",
        "          'disposition': 'WRITE_TRUNCATE'\n",
        "        },\n",
        "        'file': '/content/old_sdf.csv'\n",
        "      },\n",
        "      'out_new_sdf': {\n",
        "        'bigquery': {\n",
        "          'dataset': {'field': {'name': 'dataset','kind': 'string','order': 8,'default': '','description': 'Dataset that you would like your output tables to be produced in.'}},\n",
        "          'table': {'field': {'name': 'recipe_name','kind': 'string','prefix': 'SDF_NEW_','description': ''}},\n",
        "          'schema': [\n",
        "          ],\n",
        "          'skip_rows': 0,\n",
        "          'disposition': 'WRITE_TRUNCATE'\n",
        "        },\n",
        "        'file': '/content/new_sdf.csv'\n",
        "      },\n",
        "      'out_changes': {\n",
        "        'bigquery': {\n",
        "          'dataset': {'field': {'name': 'dataset','kind': 'string','order': 8,'default': '','description': 'Dataset that you would like your output tables to be produced in.'}},\n",
        "          'table': {'field': {'name': 'recipe_name','kind': 'string','prefix': 'SDF_BUDGET_MOVER_LOG_','description': ''}},\n",
        "          'schema': [\n",
        "          ],\n",
        "          'skip_rows': 0,\n",
        "          'disposition': 'WRITE_TRUNCATE'\n",
        "        },\n",
        "        'file': '/content/log.csv'\n",
        "      }\n",
        "    }\n",
        "  }\n",
        "]\n",
        "\n",
        "json_set_fields(TASKS, FIELDS)\n",
        "\n",
        "project.initialize(_recipe={ 'tasks':TASKS }, _project=CLOUD_PROJECT, _user=USER_CREDENTIALS, _client=CLIENT_CREDENTIALS, _verbose=True, _force=True)\n",
        "project.execute(_force=True)\n"
      ]
    }
  ]
}